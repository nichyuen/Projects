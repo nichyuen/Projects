{
 "cells": [
  {
   "cell_type": "markdown",
   "id": "45da23b7-a1e6-42d2-9ca8-c89439af634a",
   "metadata": {},
   "source": [
    "## Functions to extract data from API"
   ]
  },
  {
   "cell_type": "code",
   "execution_count": 7,
   "id": "d935a719-cd42-446c-8ef5-26cbaf27ca53",
   "metadata": {
    "tags": []
   },
   "outputs": [],
   "source": [
    "import csv\n",
    "import os.path\n",
    "from googleapiclient.discovery import build\n",
    "\n",
    "#Initialize the YouTube API client\n",
    "youtube = build('youtube', 'v3', developerKey='YOUR API KEY HERE')\n",
    "\n",
    "#Define a function to process comments and write them to CSV\n",
    "def process_comments(response_items, csv_file):\n",
    "    comments = []\n",
    "    for res in response_items:\n",
    "        #Handle replies\n",
    "        if 'replies' in res.keys():\n",
    "            for reply in res['replies']['comments']:\n",
    "                comment = reply['snippet']\n",
    "                comment['comment_id'] = reply['id']\n",
    "                comments.append(comment)\n",
    "        #Handle snippets\n",
    "        else:\n",
    "            comment = {}\n",
    "            comment['snippet'] = res['snippet']['topLevelComment']['snippet']\n",
    "            comment['snippet']['parent_id'] = None # Set parent_id to None to keep the dataframe shape since there is no need to understand if a comment is a reply to another comment\n",
    "            comment['snippet']['comment_id'] = res['snippet']['topLevelComment']['id']\n",
    "            comments.append(comment['snippet'])\n",
    "    \n",
    "    #Write the comments to CSV file\n",
    "    header = comments[0].keys()\n",
    "    mode = 'a' if os.path.isfile(csv_file) else 'w'\n",
    "    with open(csv_file, mode, encoding='utf8', newline='') as f:\n",
    "        writer = csv.DictWriter(f, fieldnames=header, extrasaction='ignore')\n",
    "        if mode == 'w':\n",
    "            writer.writeheader()\n",
    "        writer.writerows(comments)\n",
    "\n",
    "#Define a function to extract comments for a single video and write them to CSV\n",
    "def extract_comments(video_id, csv_file):\n",
    "    request = youtube.commentThreads().list(\n",
    "        part='id,replies,snippet',\n",
    "        videoId=video_id\n",
    "    )\n",
    "    response = request.execute()\n",
    "    process_comments(response['items'], csv_file)\n",
    "    comments_list=[]\n",
    "    while response.get('nextPageToken'):\n",
    "        request = youtube.commentThreads().list(\n",
    "            part='id,replies,snippet',\n",
    "            videoId=video_id,\n",
    "            pageToken=response['nextPageToken']\n",
    "        )\n",
    "        response = request.execute()\n",
    "        process_comments(response['items'], csv_file)"
   ]
  },
  {
   "cell_type": "markdown",
   "id": "7ab35b3a-d151-4e44-b696-4917a25beaae",
   "metadata": {},
   "source": [
    "## Calling the function to extract"
   ]
  },
  {
   "cell_type": "code",
   "execution_count": 10,
   "id": "f8469413-5e9f-47eb-90de-1a2cae4fd555",
   "metadata": {
    "tags": []
   },
   "outputs": [],
   "source": [
    "#Enter manually the youtube video id that we want to extract comments from\n",
    "#List of videoIDs to extract comment\n",
    "video_ids = ['3ec7JE-Dk8c','y3ILgwzY0CU']"
   ]
  },
  {
   "cell_type": "code",
   "execution_count": 16,
   "id": "d6550e46-d20c-41c4-bf75-bdfc692b2c92",
   "metadata": {
    "tags": []
   },
   "outputs": [],
   "source": [
    "#Extract comments for each video ID and write them to CSV files\n",
    "def get_comments(id_list):\n",
    "    for video_id in id_list:\n",
    "        csv_file = f'comments_{video_id}.csv'\n",
    "        extract_comments(video_id, csv_file)\n",
    "    print(f\"Number of videos that comments are extracted: {len(id_list)}.\")"
   ]
  },
  {
   "cell_type": "code",
   "execution_count": 17,
   "id": "3e3d011a-1117-4951-9c81-62960cb0fd28",
   "metadata": {
    "tags": []
   },
   "outputs": [
    {
     "name": "stdout",
     "output_type": "stream",
     "text": [
      "Number of videos that comments are extracted: 2.\n"
     ]
    }
   ],
   "source": [
    "get_comments(video_ids)"
   ]
  }
 ],
 "metadata": {
  "kernelspec": {
   "display_name": "Python 3 (ipykernel)",
   "language": "python",
   "name": "python3"
  },
  "language_info": {
   "codemirror_mode": {
    "name": "ipython",
    "version": 3
   },
   "file_extension": ".py",
   "mimetype": "text/x-python",
   "name": "python",
   "nbconvert_exporter": "python",
   "pygments_lexer": "ipython3",
   "version": "3.8.16"
  }
 },
 "nbformat": 4,
 "nbformat_minor": 5
}
