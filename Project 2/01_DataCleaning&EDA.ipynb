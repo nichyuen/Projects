{
 "cells": [
  {
   "cell_type": "markdown",
   "id": "a6be3e50-02db-4cd9-bccf-1bc458310cb7",
   "metadata": {},
   "source": [
    "# Introduction"
   ]
  },
  {
   "cell_type": "markdown",
   "id": "410c09d7-540c-40a7-aab9-8c7206a66d09",
   "metadata": {},
   "source": [
    "## Contents\n",
    "\n",
    "- [Importing data and cleaning](#Importing-libraries-and-datasets)\n",
    "    - [Cleaning of general data](#Cleaning-of-general-data)\n",
    "    - [Cleaning of data in each feature](#Cleaning-of-data-in-each-feature)\n",
    "- [EDA](#EDA)\n",
    "    - [Trend of resale price](#Trend-of-resale-price)\n",
    "    - [Distribution of features](#Distribution-of-features)\n",
    "    - [Correlation between features](#Correlation-between-features)"
   ]
  },
  {
   "cell_type": "markdown",
   "id": "8fce6cb2-6fe0-40c6-a949-f449d427c464",
   "metadata": {},
   "source": [
    "## Background"
   ]
  },
  {
   "cell_type": "markdown",
   "id": "f6344e8c-7d43-4620-8093-e93364e21e65",
   "metadata": {},
   "source": [
    "In many countries, public housing is often associated with affordable housing for low-income households who would otherwise have to live in undesirable and often overcrowded conditions. That was the objective of the Housing Development Board (HDB) in the 1960s as Singapore faced a housing crisis with many people living in unhygienic squatter settlements.   \n",
    "\n",
    "\n",
    "However, with the recent COVID pandemic, it has disrupted the already scarce supply of HDB flats which have contributed to a rise in resale flat prices as well as long Build-To-Order (BTO) HDB  queues. \n",
    "Since 2020, disruptions from the Circuit Breaker, coupled with stringent safe\n",
    "management measures imposed at worksites, global border restrictions, and the\n",
    "tightening of border controls for workers from various countries, have [affected private\n",
    "and public sector construction projects, including HDB projects.](https://www.hdb.gov.sg/cs/infoweb/-/media/doc/CCG/26082021_Annex.ashx)\n",
    "\n",
    "While Singapore has primarily solved the housing crisis with [HDB flats now home to 80 per cent of Singapore’s population](https://www.channelnewsasia.com/commentary/hdb-resale-flats-million-dollar-1-5-listings-affordability-accessibility-3364966), affordability and accessibility have come to the forefront of discussion among policymakers and analysts amid a rise in the number of million-dollar resale flats in recent years.  \n",
    "\n",
    "HDB have tasked to investigate on the possible reasons that influence resale flat prices so as to draft impactful policies and measures to cool prices. "
   ]
  },
  {
   "cell_type": "markdown",
   "id": "7ed9c248-0f57-4f35-afd3-5a1b62be19f9",
   "metadata": {},
   "source": [
    "# Importing libraries and datasets"
   ]
  },
  {
   "cell_type": "code",
   "execution_count": 1,
   "id": "97b20892-ca9e-46a5-87e9-81c73153357e",
   "metadata": {
    "tags": []
   },
   "outputs": [
    {
     "name": "stderr",
     "output_type": "stream",
     "text": [
      "/opt/anaconda3/envs/dsi-sg/lib/python3.8/site-packages/scipy/__init__.py:146: UserWarning: A NumPy version >=1.16.5 and <1.23.0 is required for this version of SciPy (detected version 1.24.2\n",
      "  warnings.warn(f\"A NumPy version >={np_minversion} and <{np_maxversion}\"\n"
     ]
    }
   ],
   "source": [
    "#Importing relevant libraries\n",
    "import pandas as pd\n",
    "import numpy as np\n",
    "import matplotlib.pyplot as plt\n",
    "import seaborn as sns"
   ]
  },
  {
   "cell_type": "code",
   "execution_count": 2,
   "id": "64c3d10d-c4f9-4001-ae12-038fd43251c6",
   "metadata": {
    "tags": []
   },
   "outputs": [
    {
     "name": "stderr",
     "output_type": "stream",
     "text": [
      "/var/folders/g3/96mgjdps6rdd3p34rf7fbqbr0000gn/T/ipykernel_6799/1288352903.py:2: DtypeWarning: Columns (41) have mixed types. Specify dtype option on import or set low_memory=False.\n",
      "  HDB_df=pd.read_csv('data/train.csv')\n"
     ]
    }
   ],
   "source": [
    "#Importing HDB dataset\n",
    "HDB_df=pd.read_csv('data/train.csv')"
   ]
  },
  {
   "cell_type": "code",
   "execution_count": 3,
   "id": "b5188804-d641-424f-ae50-8689e2ab8d1c",
   "metadata": {
    "tags": []
   },
   "outputs": [],
   "source": [
    "#Function to provide a quick overview on possible dupicated/null vales as well information on the dataset\n",
    "def df_summary(df):\n",
    "    print(f\"Shape(col,rows): {df.shape}\")\n",
    "    print(f\"Number of duplicates: {df.duplicated().sum()}\")\n",
    "    print('---'*20)\n",
    "    print(f'Number of rows with each unqiue datatypes:\\n{df.dtypes.value_counts()}')\n",
    "    print('---'*20)\n",
    "    print(\"Columns with missing values:\")\n",
    "    isnull_df = pd.DataFrame(df.isnull().sum()).reset_index()\n",
    "    isnull_df.columns = ['col','num_nulls']\n",
    "    isnull_df['perc_null'] = ((isnull_df['num_nulls'])/(len(df))).round(2)\n",
    "    print(isnull_df[isnull_df['num_nulls']>0])"
   ]
  },
  {
   "cell_type": "markdown",
   "id": "f5b9dad6-e141-4b8c-bfd1-a51ba2bf9e76",
   "metadata": {},
   "source": [
    "Having a look at the first 5 entries in the dataset"
   ]
  },
  {
   "cell_type": "code",
   "execution_count": 4,
   "id": "d3bce9f9-6f2b-4962-abbf-80eae991b029",
   "metadata": {
    "scrolled": true,
    "tags": []
   },
   "outputs": [
    {
     "data": {
      "text/html": [
       "<div>\n",
       "<style scoped>\n",
       "    .dataframe tbody tr th:only-of-type {\n",
       "        vertical-align: middle;\n",
       "    }\n",
       "\n",
       "    .dataframe tbody tr th {\n",
       "        vertical-align: top;\n",
       "    }\n",
       "\n",
       "    .dataframe thead th {\n",
       "        text-align: right;\n",
       "    }\n",
       "</style>\n",
       "<table border=\"1\" class=\"dataframe\">\n",
       "  <thead>\n",
       "    <tr style=\"text-align: right;\">\n",
       "      <th></th>\n",
       "      <th>id</th>\n",
       "      <th>Tranc_YearMonth</th>\n",
       "      <th>town</th>\n",
       "      <th>flat_type</th>\n",
       "      <th>block</th>\n",
       "      <th>street_name</th>\n",
       "      <th>storey_range</th>\n",
       "      <th>floor_area_sqm</th>\n",
       "      <th>flat_model</th>\n",
       "      <th>lease_commence_date</th>\n",
       "      <th>...</th>\n",
       "      <th>vacancy</th>\n",
       "      <th>pri_sch_affiliation</th>\n",
       "      <th>pri_sch_latitude</th>\n",
       "      <th>pri_sch_longitude</th>\n",
       "      <th>sec_sch_nearest_dist</th>\n",
       "      <th>sec_sch_name</th>\n",
       "      <th>cutoff_point</th>\n",
       "      <th>affiliation</th>\n",
       "      <th>sec_sch_latitude</th>\n",
       "      <th>sec_sch_longitude</th>\n",
       "    </tr>\n",
       "  </thead>\n",
       "  <tbody>\n",
       "    <tr>\n",
       "      <th>0</th>\n",
       "      <td>88471</td>\n",
       "      <td>2016-05</td>\n",
       "      <td>KALLANG/WHAMPOA</td>\n",
       "      <td>4 ROOM</td>\n",
       "      <td>3B</td>\n",
       "      <td>UPP BOON KENG RD</td>\n",
       "      <td>10 TO 12</td>\n",
       "      <td>90.0</td>\n",
       "      <td>Model A</td>\n",
       "      <td>2006</td>\n",
       "      <td>...</td>\n",
       "      <td>78</td>\n",
       "      <td>1</td>\n",
       "      <td>1.317659</td>\n",
       "      <td>103.882504</td>\n",
       "      <td>1138.633422</td>\n",
       "      <td>Geylang Methodist School</td>\n",
       "      <td>224</td>\n",
       "      <td>0</td>\n",
       "      <td>1.317659</td>\n",
       "      <td>103.882504</td>\n",
       "    </tr>\n",
       "    <tr>\n",
       "      <th>1</th>\n",
       "      <td>122598</td>\n",
       "      <td>2012-07</td>\n",
       "      <td>BISHAN</td>\n",
       "      <td>5 ROOM</td>\n",
       "      <td>153</td>\n",
       "      <td>BISHAN ST 13</td>\n",
       "      <td>07 TO 09</td>\n",
       "      <td>130.0</td>\n",
       "      <td>Improved</td>\n",
       "      <td>1987</td>\n",
       "      <td>...</td>\n",
       "      <td>45</td>\n",
       "      <td>1</td>\n",
       "      <td>1.349783</td>\n",
       "      <td>103.854529</td>\n",
       "      <td>447.894399</td>\n",
       "      <td>Kuo Chuan Presbyterian Secondary School</td>\n",
       "      <td>232</td>\n",
       "      <td>0</td>\n",
       "      <td>1.350110</td>\n",
       "      <td>103.854892</td>\n",
       "    </tr>\n",
       "    <tr>\n",
       "      <th>2</th>\n",
       "      <td>170897</td>\n",
       "      <td>2013-07</td>\n",
       "      <td>BUKIT BATOK</td>\n",
       "      <td>EXECUTIVE</td>\n",
       "      <td>289B</td>\n",
       "      <td>BT BATOK ST 25</td>\n",
       "      <td>13 TO 15</td>\n",
       "      <td>144.0</td>\n",
       "      <td>Apartment</td>\n",
       "      <td>1997</td>\n",
       "      <td>...</td>\n",
       "      <td>39</td>\n",
       "      <td>0</td>\n",
       "      <td>1.345245</td>\n",
       "      <td>103.756265</td>\n",
       "      <td>180.074558</td>\n",
       "      <td>Yusof Ishak Secondary School</td>\n",
       "      <td>188</td>\n",
       "      <td>0</td>\n",
       "      <td>1.342334</td>\n",
       "      <td>103.760013</td>\n",
       "    </tr>\n",
       "    <tr>\n",
       "      <th>3</th>\n",
       "      <td>86070</td>\n",
       "      <td>2012-04</td>\n",
       "      <td>BISHAN</td>\n",
       "      <td>4 ROOM</td>\n",
       "      <td>232</td>\n",
       "      <td>BISHAN ST 22</td>\n",
       "      <td>01 TO 05</td>\n",
       "      <td>103.0</td>\n",
       "      <td>Model A</td>\n",
       "      <td>1992</td>\n",
       "      <td>...</td>\n",
       "      <td>20</td>\n",
       "      <td>1</td>\n",
       "      <td>1.354789</td>\n",
       "      <td>103.844934</td>\n",
       "      <td>389.515528</td>\n",
       "      <td>Catholic High School</td>\n",
       "      <td>253</td>\n",
       "      <td>1</td>\n",
       "      <td>1.354789</td>\n",
       "      <td>103.844934</td>\n",
       "    </tr>\n",
       "    <tr>\n",
       "      <th>4</th>\n",
       "      <td>153632</td>\n",
       "      <td>2017-12</td>\n",
       "      <td>YISHUN</td>\n",
       "      <td>4 ROOM</td>\n",
       "      <td>876</td>\n",
       "      <td>YISHUN ST 81</td>\n",
       "      <td>01 TO 03</td>\n",
       "      <td>83.0</td>\n",
       "      <td>Simplified</td>\n",
       "      <td>1987</td>\n",
       "      <td>...</td>\n",
       "      <td>74</td>\n",
       "      <td>0</td>\n",
       "      <td>1.416280</td>\n",
       "      <td>103.838798</td>\n",
       "      <td>312.025435</td>\n",
       "      <td>Orchid Park Secondary School</td>\n",
       "      <td>208</td>\n",
       "      <td>0</td>\n",
       "      <td>1.414888</td>\n",
       "      <td>103.838335</td>\n",
       "    </tr>\n",
       "  </tbody>\n",
       "</table>\n",
       "<p>5 rows × 77 columns</p>\n",
       "</div>"
      ],
      "text/plain": [
       "       id Tranc_YearMonth             town  flat_type block       street_name  \\\n",
       "0   88471         2016-05  KALLANG/WHAMPOA     4 ROOM    3B  UPP BOON KENG RD   \n",
       "1  122598         2012-07           BISHAN     5 ROOM   153      BISHAN ST 13   \n",
       "2  170897         2013-07      BUKIT BATOK  EXECUTIVE  289B    BT BATOK ST 25   \n",
       "3   86070         2012-04           BISHAN     4 ROOM   232      BISHAN ST 22   \n",
       "4  153632         2017-12           YISHUN     4 ROOM   876      YISHUN ST 81   \n",
       "\n",
       "  storey_range  floor_area_sqm  flat_model  lease_commence_date  ...  vacancy  \\\n",
       "0     10 TO 12            90.0     Model A                 2006  ...       78   \n",
       "1     07 TO 09           130.0    Improved                 1987  ...       45   \n",
       "2     13 TO 15           144.0   Apartment                 1997  ...       39   \n",
       "3     01 TO 05           103.0     Model A                 1992  ...       20   \n",
       "4     01 TO 03            83.0  Simplified                 1987  ...       74   \n",
       "\n",
       "   pri_sch_affiliation  pri_sch_latitude  pri_sch_longitude  \\\n",
       "0                    1          1.317659         103.882504   \n",
       "1                    1          1.349783         103.854529   \n",
       "2                    0          1.345245         103.756265   \n",
       "3                    1          1.354789         103.844934   \n",
       "4                    0          1.416280         103.838798   \n",
       "\n",
       "   sec_sch_nearest_dist                             sec_sch_name  \\\n",
       "0           1138.633422                 Geylang Methodist School   \n",
       "1            447.894399  Kuo Chuan Presbyterian Secondary School   \n",
       "2            180.074558             Yusof Ishak Secondary School   \n",
       "3            389.515528                     Catholic High School   \n",
       "4            312.025435             Orchid Park Secondary School   \n",
       "\n",
       "   cutoff_point affiliation sec_sch_latitude  sec_sch_longitude  \n",
       "0           224           0         1.317659         103.882504  \n",
       "1           232           0         1.350110         103.854892  \n",
       "2           188           0         1.342334         103.760013  \n",
       "3           253           1         1.354789         103.844934  \n",
       "4           208           0         1.414888         103.838335  \n",
       "\n",
       "[5 rows x 77 columns]"
      ]
     },
     "execution_count": 4,
     "metadata": {},
     "output_type": "execute_result"
    }
   ],
   "source": [
    "HDB_df.head()"
   ]
  },
  {
   "cell_type": "markdown",
   "id": "21fcc9fd-dd8b-4aa3-a3c1-e421da7349ea",
   "metadata": {},
   "source": [
    "Summary of the dataset on whether are there duplicated or null rows as well as the shape and dtypes"
   ]
  },
  {
   "cell_type": "code",
   "execution_count": 5,
   "id": "575e55d0-4a23-44db-82fc-5ea41daa6342",
   "metadata": {
    "tags": []
   },
   "outputs": [
    {
     "name": "stdout",
     "output_type": "stream",
     "text": [
      "Shape(col,rows): (150634, 77)\n",
      "Number of duplicates: 0\n",
      "------------------------------------------------------------\n",
      "Number of rows with each unqiue datatypes:\n",
      "int64      32\n",
      "float64    25\n",
      "object     20\n",
      "dtype: int64\n",
      "------------------------------------------------------------\n",
      "Columns with missing values:\n",
      "                      col  num_nulls  perc_null\n",
      "45  Mall_Nearest_Distance        829       0.01\n",
      "46       Mall_Within_500m      92789       0.62\n",
      "47        Mall_Within_1km      25426       0.17\n",
      "48        Mall_Within_2km       1940       0.01\n",
      "50     Hawker_Within_500m      97390       0.65\n",
      "51      Hawker_Within_1km      60868       0.40\n",
      "52      Hawker_Within_2km      29202       0.19\n"
     ]
    }
   ],
   "source": [
    "df_summary(HDB_df)"
   ]
  },
  {
   "cell_type": "markdown",
   "id": "d133f863-35a8-4676-a3e0-8f4cda798014",
   "metadata": {},
   "source": [
    "Preliminary understanding of dataset:\n",
    "- No duplicates\n",
    "- Some null values columns that describe proximity to facilities to resale flats"
   ]
  },
  {
   "cell_type": "markdown",
   "id": "a5dfe366-1ce4-4f41-84c2-3da042ecc86b",
   "metadata": {},
   "source": [
    "# Data Cleaning"
   ]
  },
  {
   "cell_type": "markdown",
   "id": "613477d0-e892-4d0b-9dce-7259c848a8b7",
   "metadata": {},
   "source": [
    "## Cleaning of general data"
   ]
  },
  {
   "cell_type": "markdown",
   "id": "eecad9ab-6eeb-465f-8b7f-b73dccee735b",
   "metadata": {},
   "source": [
    "### Dealing with null values"
   ]
  },
  {
   "cell_type": "markdown",
   "id": "01de939b-c5bf-40aa-8419-3e1621278eb5",
   "metadata": {},
   "source": [
    "As seen in the quick summary, the null values exist in the columns that describe the proximity of the resale flat to the facilities."
   ]
  },
  {
   "cell_type": "code",
   "execution_count": 6,
   "id": "d1f77895-6fbf-4182-9844-54f4b59adaf0",
   "metadata": {
    "tags": []
   },
   "outputs": [
    {
     "name": "stdout",
     "output_type": "stream",
     "text": [
      "['Mall_Within_500m', 'Mall_Within_1km', 'Mall_Within_2km', 'Hawker_Within_500m', 'Hawker_Within_1km', 'Hawker_Within_2km']\n"
     ]
    },
    {
     "data": {
      "text/html": [
       "<div>\n",
       "<style scoped>\n",
       "    .dataframe tbody tr th:only-of-type {\n",
       "        vertical-align: middle;\n",
       "    }\n",
       "\n",
       "    .dataframe tbody tr th {\n",
       "        vertical-align: top;\n",
       "    }\n",
       "\n",
       "    .dataframe thead th {\n",
       "        text-align: right;\n",
       "    }\n",
       "</style>\n",
       "<table border=\"1\" class=\"dataframe\">\n",
       "  <thead>\n",
       "    <tr style=\"text-align: right;\">\n",
       "      <th></th>\n",
       "      <th>Mall_Within_500m</th>\n",
       "      <th>Mall_Within_1km</th>\n",
       "      <th>Mall_Within_2km</th>\n",
       "      <th>Hawker_Within_500m</th>\n",
       "      <th>Hawker_Within_1km</th>\n",
       "      <th>Hawker_Within_2km</th>\n",
       "    </tr>\n",
       "  </thead>\n",
       "  <tbody>\n",
       "    <tr>\n",
       "      <th>0</th>\n",
       "      <td>NaN</td>\n",
       "      <td>NaN</td>\n",
       "      <td>7.0</td>\n",
       "      <td>1.0</td>\n",
       "      <td>3.0</td>\n",
       "      <td>13.0</td>\n",
       "    </tr>\n",
       "    <tr>\n",
       "      <th>1</th>\n",
       "      <td>NaN</td>\n",
       "      <td>1.0</td>\n",
       "      <td>3.0</td>\n",
       "      <td>NaN</td>\n",
       "      <td>1.0</td>\n",
       "      <td>7.0</td>\n",
       "    </tr>\n",
       "    <tr>\n",
       "      <th>2</th>\n",
       "      <td>NaN</td>\n",
       "      <td>NaN</td>\n",
       "      <td>4.0</td>\n",
       "      <td>NaN</td>\n",
       "      <td>NaN</td>\n",
       "      <td>1.0</td>\n",
       "    </tr>\n",
       "    <tr>\n",
       "      <th>3</th>\n",
       "      <td>NaN</td>\n",
       "      <td>1.0</td>\n",
       "      <td>4.0</td>\n",
       "      <td>NaN</td>\n",
       "      <td>1.0</td>\n",
       "      <td>9.0</td>\n",
       "    </tr>\n",
       "    <tr>\n",
       "      <th>4</th>\n",
       "      <td>NaN</td>\n",
       "      <td>1.0</td>\n",
       "      <td>2.0</td>\n",
       "      <td>NaN</td>\n",
       "      <td>NaN</td>\n",
       "      <td>1.0</td>\n",
       "    </tr>\n",
       "    <tr>\n",
       "      <th>...</th>\n",
       "      <td>...</td>\n",
       "      <td>...</td>\n",
       "      <td>...</td>\n",
       "      <td>...</td>\n",
       "      <td>...</td>\n",
       "      <td>...</td>\n",
       "    </tr>\n",
       "    <tr>\n",
       "      <th>150629</th>\n",
       "      <td>NaN</td>\n",
       "      <td>4.0</td>\n",
       "      <td>6.0</td>\n",
       "      <td>NaN</td>\n",
       "      <td>1.0</td>\n",
       "      <td>3.0</td>\n",
       "    </tr>\n",
       "    <tr>\n",
       "      <th>150630</th>\n",
       "      <td>1.0</td>\n",
       "      <td>1.0</td>\n",
       "      <td>4.0</td>\n",
       "      <td>NaN</td>\n",
       "      <td>NaN</td>\n",
       "      <td>1.0</td>\n",
       "    </tr>\n",
       "    <tr>\n",
       "      <th>150631</th>\n",
       "      <td>NaN</td>\n",
       "      <td>NaN</td>\n",
       "      <td>2.0</td>\n",
       "      <td>NaN</td>\n",
       "      <td>NaN</td>\n",
       "      <td>4.0</td>\n",
       "    </tr>\n",
       "    <tr>\n",
       "      <th>150632</th>\n",
       "      <td>NaN</td>\n",
       "      <td>3.0</td>\n",
       "      <td>3.0</td>\n",
       "      <td>1.0</td>\n",
       "      <td>5.0</td>\n",
       "      <td>8.0</td>\n",
       "    </tr>\n",
       "    <tr>\n",
       "      <th>150633</th>\n",
       "      <td>1.0</td>\n",
       "      <td>1.0</td>\n",
       "      <td>3.0</td>\n",
       "      <td>NaN</td>\n",
       "      <td>1.0</td>\n",
       "      <td>2.0</td>\n",
       "    </tr>\n",
       "  </tbody>\n",
       "</table>\n",
       "<p>150634 rows × 6 columns</p>\n",
       "</div>"
      ],
      "text/plain": [
       "        Mall_Within_500m  Mall_Within_1km  Mall_Within_2km  \\\n",
       "0                    NaN              NaN              7.0   \n",
       "1                    NaN              1.0              3.0   \n",
       "2                    NaN              NaN              4.0   \n",
       "3                    NaN              1.0              4.0   \n",
       "4                    NaN              1.0              2.0   \n",
       "...                  ...              ...              ...   \n",
       "150629               NaN              4.0              6.0   \n",
       "150630               1.0              1.0              4.0   \n",
       "150631               NaN              NaN              2.0   \n",
       "150632               NaN              3.0              3.0   \n",
       "150633               1.0              1.0              3.0   \n",
       "\n",
       "        Hawker_Within_500m  Hawker_Within_1km  Hawker_Within_2km  \n",
       "0                      1.0                3.0               13.0  \n",
       "1                      NaN                1.0                7.0  \n",
       "2                      NaN                NaN                1.0  \n",
       "3                      NaN                1.0                9.0  \n",
       "4                      NaN                NaN                1.0  \n",
       "...                    ...                ...                ...  \n",
       "150629                 NaN                1.0                3.0  \n",
       "150630                 NaN                NaN                1.0  \n",
       "150631                 NaN                NaN                4.0  \n",
       "150632                 1.0                5.0                8.0  \n",
       "150633                 NaN                1.0                2.0  \n",
       "\n",
       "[150634 rows x 6 columns]"
      ]
     },
     "execution_count": 6,
     "metadata": {},
     "output_type": "execute_result"
    }
   ],
   "source": [
    "#Constructing list of columns with null values, excluding the column of 'Mall_Nearest_Distance'\n",
    "facilities_count_col_list=list(HDB_df.columns[HDB_df.isnull().any()])[1:]\n",
    "print(facilities_count_col_list)\n",
    "\n",
    "#Closer look at these columns\n",
    "HDB_df[facilities_count_col_list]"
   ]
  },
  {
   "cell_type": "code",
   "execution_count": 7,
   "id": "f69e65ac-4db5-4e2c-9a4d-0ee60e76ca09",
   "metadata": {
    "tags": []
   },
   "outputs": [
    {
     "data": {
      "text/plain": [
       "False    150634\n",
       "dtype: int64"
      ]
     },
     "execution_count": 7,
     "metadata": {},
     "output_type": "execute_result"
    }
   ],
   "source": [
    "#Checking for discrepancy\n",
    "bool_series1=(HDB_df['Mall_Within_500m']>HDB_df['Mall_Within_1km']) | (HDB_df['Mall_Within_1km']>HDB_df['Mall_Within_2km'])\n",
    "bool_series1.value_counts()"
   ]
  },
  {
   "cell_type": "markdown",
   "id": "429c63f9-e438-4baf-9c77-22bd09f35772",
   "metadata": {},
   "source": [
    "Perhaps the null values in these columns were suppose to meant that there were zero number of facility in the range. \n",
    "\n",
    "This assumption is taken since for the null values is recorded for a closer proximity only but there will be a value for a wider proximity range. As shown above, there are also no rows where a closer proximity will have more amount of facilities than a wider proximity.\n",
    "\n",
    "Thus, it is logical to refill these null values with zeros"
   ]
  },
  {
   "cell_type": "code",
   "execution_count": 8,
   "id": "026342d1-9212-476f-8916-b84563d26592",
   "metadata": {
    "tags": []
   },
   "outputs": [],
   "source": [
    "#Replacing null values with zero\n",
    "HDB_df[facilities_count_col_list]=HDB_df[facilities_count_col_list].fillna(0)"
   ]
  },
  {
   "cell_type": "markdown",
   "id": "bd5b1f6e-7388-4a25-8d74-430838a5c13d",
   "metadata": {},
   "source": [
    "For the column that house the distance from resale flat to nearest mall, the entries with null values are dropped"
   ]
  },
  {
   "cell_type": "code",
   "execution_count": 9,
   "id": "7899b62f-0e4a-4bbe-9f1c-7f256cd23287",
   "metadata": {
    "tags": []
   },
   "outputs": [],
   "source": [
    "#Dropping null values\n",
    "HDB_df.dropna(subset=['Mall_Nearest_Distance'],axis=0, inplace=True)"
   ]
  },
  {
   "cell_type": "code",
   "execution_count": 10,
   "id": "3a3af379-8332-4462-92c4-f616b93c643e",
   "metadata": {
    "tags": []
   },
   "outputs": [],
   "source": [
    "#Reseting index\n",
    "HDB_df.reset_index(drop=True, inplace=True)"
   ]
  },
  {
   "cell_type": "code",
   "execution_count": 11,
   "id": "6ecefd1a-03cd-4b63-b95d-36bdb5c6c010",
   "metadata": {
    "tags": []
   },
   "outputs": [
    {
     "data": {
      "text/plain": [
       "Index([], dtype='object')"
      ]
     },
     "execution_count": 11,
     "metadata": {},
     "output_type": "execute_result"
    }
   ],
   "source": [
    "#Checking if null values in any columns again\n",
    "HDB_df.columns[HDB_df.isnull().any()]"
   ]
  },
  {
   "cell_type": "markdown",
   "id": "89aea13d-cbde-4dfc-b31b-1d5a3da4ed09",
   "metadata": {},
   "source": [
    "No columns have null values anymore"
   ]
  },
  {
   "cell_type": "markdown",
   "id": "1102229c-abcd-4e49-be3f-3f989596515a",
   "metadata": {},
   "source": [
    "### Dealing with duplicated rows"
   ]
  },
  {
   "cell_type": "code",
   "execution_count": 12,
   "id": "63a40a79-b81c-41a6-9c11-fb3019d7e65b",
   "metadata": {
    "tags": []
   },
   "outputs": [
    {
     "data": {
      "text/plain": [
       "False"
      ]
     },
     "execution_count": 12,
     "metadata": {},
     "output_type": "execute_result"
    }
   ],
   "source": [
    "#Checking if there are duplicated rows\n",
    "HDB_df.duplicated().any()"
   ]
  },
  {
   "cell_type": "markdown",
   "id": "98e92956-f4b2-4abc-896a-25d0387f8420",
   "metadata": {},
   "source": [
    "No duplicated rows found in the dataset"
   ]
  },
  {
   "cell_type": "markdown",
   "id": "d486d003-9390-4489-a2b3-57935290682e",
   "metadata": {},
   "source": [
    "Checking for datatypes and its values will be done individually for each column in the next section"
   ]
  },
  {
   "cell_type": "markdown",
   "id": "25578e7c-f91b-4962-b313-501f1a503b82",
   "metadata": {},
   "source": [
    "## Cleaning of data in each feature"
   ]
  },
  {
   "cell_type": "markdown",
   "id": "c7058538-1136-4f47-8216-c2021ed5a1fc",
   "metadata": {},
   "source": [
    "### Dealing with redundant/irrelevant/potentially problematic columns"
   ]
  },
  {
   "cell_type": "markdown",
   "id": "7f02d4d0-c468-4ab2-ae72-350a961916d6",
   "metadata": {},
   "source": [
    "Certain columns that have similar information as other columns:\n",
    "\n",
    "- id (not necessary to have another set of indexing)\n",
    "- Tranc_YearMonth (existing record of transaction period in Year and Month individually)\n",
    "- storey_range (inconsistent ranges across different flats)\n",
    "- full_flat_type (existing record of flat type and model individually)\n",
    "- floor_area_sqft (existing record of floor area in metres)\n",
    "- address (Existing record of Longitude and Latitude capturing geographical location of resale flat)\n",
    "- postal (Existing multiple variables to capture resale flat geographical location)\n",
    "- mrt_latitude (specific location of mrt station logically should not be important as proximity is accounted for under the variable of mrt_nearest_distance and level of interconnection with other station is accounted under mrt_name)\n",
    "- mrt_longitude (similar reason on dropping of mrt_latitude)\n",
    "- bus_stop_name (dropped since it do not capture effectively on the level of interconnection of various bustops since the entries are not unique, unlike mrt_name)\n",
    "- bus_stop_latitude (same reason on why mrt coordinates are dropped)\n",
    "- bus_stop_longitude (same reason on why mrt coordinates are dropped)\n",
    "- pri_sch_latitude (geographical location of school are also represented based on school name)\n",
    "- pri_sch_longitude (same reason for the drop of pri_sch_latitude)\n",
    "- cutoff_point (aggregate score are expected to be strongly related to sec_sch_name thus to prevent multicollinearity, this variable is dropped)\n",
    "- affiliation (redundant as pri_sch_affiliation already captured the same parameter)\n",
    "- sec_sch_latitude (same reason for the drop of pri_sch_latitude)\n",
    "- sec_sch_longitude (same reason for the drop of pri_sch_latitude)"
   ]
  },
  {
   "cell_type": "code",
   "execution_count": 13,
   "id": "f5d265c6-2c24-4e26-8c96-c3ece8781f3b",
   "metadata": {
    "tags": []
   },
   "outputs": [],
   "source": [
    "#Dropping redundant columns\n",
    "columns_dropped=['id', 'Tranc_YearMonth', 'storey_range','full_flat_type', 'mid','floor_area_sqft', 'address', 'postal', 'mrt_latitude', 'mrt_longitude', 'bus_stop_name', 'bus_stop_latitude', 'bus_stop_longitude', 'pri_sch_latitude', 'pri_sch_longitude', 'cutoff_point', 'affiliation', 'sec_sch_latitude', 'sec_sch_longitude']\n",
    "HDB_df.drop(columns=columns_dropped, inplace=True)"
   ]
  },
  {
   "cell_type": "markdown",
   "id": "25a0871e-df30-40b0-adb9-ea8e50748b64",
   "metadata": {},
   "source": [
    "#### Column 01: town "
   ]
  },
  {
   "cell_type": "code",
   "execution_count": 14,
   "id": "bf8a1f01-e683-4115-829d-bdb9906d54d8",
   "metadata": {
    "tags": []
   },
   "outputs": [
    {
     "data": {
      "text/plain": [
       "array(['KALLANG/WHAMPOA', 'BISHAN', 'BUKIT BATOK', 'YISHUN', 'GEYLANG',\n",
       "       'HOUGANG', 'BEDOK', 'SENGKANG', 'TAMPINES', 'SERANGOON',\n",
       "       'BUKIT MERAH', 'BUKIT PANJANG', 'WOODLANDS', 'JURONG WEST',\n",
       "       'TOA PAYOH', 'CHOA CHU KANG', 'SEMBAWANG', 'ANG MO KIO',\n",
       "       'PASIR RIS', 'CLEMENTI', 'PUNGGOL', 'JURONG EAST', 'CENTRAL AREA',\n",
       "       'QUEENSTOWN', 'BUKIT TIMAH', 'MARINE PARADE'], dtype=object)"
      ]
     },
     "execution_count": 14,
     "metadata": {},
     "output_type": "execute_result"
    }
   ],
   "source": [
    "#Inspecting unique values\n",
    "HDB_df['town'].unique()"
   ]
  },
  {
   "cell_type": "markdown",
   "id": "fbabc368-078f-4e62-9666-0c65c7f0601b",
   "metadata": {},
   "source": [
    "No unusal data entry"
   ]
  },
  {
   "cell_type": "markdown",
   "id": "ee2ff7ee-8d16-4a9a-8ff0-b676d4153ab6",
   "metadata": {},
   "source": [
    "#### Column 02: flat_type "
   ]
  },
  {
   "cell_type": "code",
   "execution_count": 15,
   "id": "53cd2bf2-989d-4676-aedd-ba975d8f0964",
   "metadata": {
    "tags": []
   },
   "outputs": [
    {
     "data": {
      "text/plain": [
       "array(['4 ROOM', '5 ROOM', 'EXECUTIVE', '3 ROOM', '2 ROOM', '1 ROOM',\n",
       "       'MULTI-GENERATION'], dtype=object)"
      ]
     },
     "execution_count": 15,
     "metadata": {},
     "output_type": "execute_result"
    }
   ],
   "source": [
    "#Inspecting unique values\n",
    "HDB_df['flat_type'].unique()"
   ]
  },
  {
   "cell_type": "markdown",
   "id": "d13a1329-f4e8-4af7-9e27-ac902abb7723",
   "metadata": {},
   "source": [
    "No unusal data entry"
   ]
  },
  {
   "cell_type": "markdown",
   "id": "8967cb8f-0f9e-4aca-a38c-7327aad57554",
   "metadata": {},
   "source": [
    "#### Column 03: block "
   ]
  },
  {
   "cell_type": "code",
   "execution_count": 16,
   "id": "03a172a8-131b-4dc8-a145-2dd6c7c26e15",
   "metadata": {
    "tags": []
   },
   "outputs": [
    {
     "data": {
      "text/plain": [
       "array(['3B', '153', '289B', ..., '174C', '640A', '10C'], dtype=object)"
      ]
     },
     "execution_count": 16,
     "metadata": {},
     "output_type": "execute_result"
    }
   ],
   "source": [
    "#Peek into some values in the column\n",
    "HDB_df['block'].unique()"
   ]
  },
  {
   "cell_type": "code",
   "execution_count": 17,
   "id": "e4c789cd-0aaa-4a88-bf04-0b03bab79bce",
   "metadata": {
    "tags": []
   },
   "outputs": [
    {
     "data": {
      "text/plain": [
       "[]"
      ]
     },
     "execution_count": 17,
     "metadata": {},
     "output_type": "execute_result"
    }
   ],
   "source": [
    "#Checking if all values are alpha numeric\n",
    "block_vals=HDB_df['block'].unique()\n",
    "[i for i in block_vals if not i.isalnum()]"
   ]
  },
  {
   "cell_type": "markdown",
   "id": "7cdfc6e2-c904-47fd-8fa9-a0c4c2938b3d",
   "metadata": {},
   "source": [
    "No strings that consist of white space or non alphanumeric characters"
   ]
  },
  {
   "cell_type": "markdown",
   "id": "46ef4dc5-3790-46f1-9cc9-eb7c71f5080e",
   "metadata": {},
   "source": [
    "#### Column 04: street_name "
   ]
  },
  {
   "cell_type": "code",
   "execution_count": 18,
   "id": "528cc6e6-9fec-49ca-a9da-04173d588281",
   "metadata": {
    "scrolled": true,
    "tags": []
   },
   "outputs": [
    {
     "data": {
      "text/plain": [
       "array(['UPP BOON KENG RD', 'BISHAN ST 13', 'BT BATOK ST 25',\n",
       "       'BISHAN ST 22', 'YISHUN ST 81', 'ALJUNIED CRES', 'HOUGANG AVE 8',\n",
       "       'BEDOK RESERVOIR RD', 'SIN MING AVE', 'ANCHORVALE RD',\n",
       "       'COMPASSVALE LINK', 'TAMPINES ST 41', 'SERANGOON NTH AVE 1',\n",
       "       'HAVELOCK RD', 'SEGAR RD', 'PENDING RD', 'WOODLANDS ST 31',\n",
       "       'YISHUN AVE 4', 'WOODLANDS DR 53', 'FERNVALE RD',\n",
       "       'WOODLANDS ST 41', 'HOUGANG ST 51', 'PIPIT RD', 'WOODLANDS DR 75',\n",
       "       'JURONG WEST ST 61', 'BT BATOK ST 24', 'TOA PAYOH NTH',\n",
       "       'YUNG LOH RD', 'CHOA CHU KANG AVE 4', 'WELLINGTON CIRCLE',\n",
       "       'JLN RAJAH', 'COMPASSVALE ST', 'LOR 2 TOA PAYOH', 'KALLANG BAHRU',\n",
       "       'CHOA CHU KANG CRES', 'ANG MO KIO AVE 1', 'MARSILING RD',\n",
       "       'BT BATOK ST 21', 'DEPOT RD', 'SEMBAWANG CRES', 'WOODLANDS CIRCLE',\n",
       "       'TAMPINES ST 23', 'POTONG PASIR AVE 1', 'CHOA CHU KANG LOOP',\n",
       "       'KANG CHING RD', 'TAMPINES AVE 8', 'JURONG WEST ST 93',\n",
       "       'EUNOS CRES', 'ANG MO KIO AVE 4', 'PASIR RIS ST 11', 'DORSET RD',\n",
       "       'BT BATOK ST 52', 'SEMBAWANG CL', 'CLEMENTI WEST ST 2',\n",
       "       'PUNGGOL DR', 'ANG MO KIO AVE 3', 'TOH GUAN RD', 'BEDOK NTH RD',\n",
       "       'ANCHORVALE LINK', 'MARSILING DR', 'LOR 6 TOA PAYOH',\n",
       "       'WOODLANDS RING RD', 'JURONG EAST ST 21', 'CIRCUIT RD',\n",
       "       'JLN BT HO SWEE', 'ANG MO KIO AVE 10', 'WOODLANDS AVE 6',\n",
       "       'COMPASSVALE BOW', 'JELEBU RD', 'ANG MO KIO AVE 5',\n",
       "       'KIM KEAT LINK', 'LOR 8 TOA PAYOH', 'LENGKONG TIGA',\n",
       "       'BT BATOK WEST AVE 7', 'PASIR RIS ST 52', 'JLN BERSEH',\n",
       "       'BT BATOK ST 31', 'NEW UPP CHANGI RD', 'RIVERVALE WALK',\n",
       "       'SENGKANG EAST RD', 'YUAN CHING RD', 'HOUGANG AVE 2',\n",
       "       'TAMPINES AVE 5', 'ANG MO KIO ST 32', 'CHOA CHU KANG AVE 3',\n",
       "       'CHOA CHU KANG AVE 5', 'JELAPANG RD', 'TAMPINES ST 12',\n",
       "       'GHIM MOH RD', 'CLEMENTI AVE 2', 'HOUGANG ST 91',\n",
       "       'WOODLANDS ST 13', 'CASHEW RD', 'HOUGANG ST 92', 'WOODLANDS DR 14',\n",
       "       'JURONG WEST ST 81', 'BALAM RD', 'GANGSA RD', 'PUNGGOL FIELD',\n",
       "       'YISHUN ST 22', 'WEST COAST RD', 'SIMS DR', 'YISHUN ST 21',\n",
       "       'WHAMPOA DR', 'TAMPINES ST 82', 'PANDAN GDNS', 'WOODLANDS CRES',\n",
       "       'WOODLANDS AVE 5', 'PUNGGOL PL', 'RIVERVALE DR',\n",
       "       'JURONG WEST ST 71', 'YISHUN RING RD', 'HOUGANG AVE 3',\n",
       "       'SIMEI ST 1', 'CANBERRA RD', 'TECK WHYE LANE', 'JURONG WEST ST 25',\n",
       "       'YISHUN AVE 2', 'SIMEI ST 2', 'YISHUN AVE 11', 'COMPASSVALE RD',\n",
       "       'WOODLANDS DR 50', 'JLN DUA', 'BISHAN ST 23', 'ANCHORVALE DR',\n",
       "       'BOON LAY AVE', 'REDHILL LANE', 'SERANGOON NTH AVE 4',\n",
       "       'KIM TIAN RD', 'BEDOK NTH ST 3', 'JURONG WEST ST 64',\n",
       "       'JLN MEMBINA', 'YISHUN AVE 6', 'YISHUN AVE 5', 'ANCHORVALE LANE',\n",
       "       'FERNVALE LANE', 'TOH YI DR', 'BEDOK CTRL', 'TAMPINES ST 21',\n",
       "       'BEDOK STH RD', 'CHOA CHU KANG ST 52', \"C'WEALTH DR\",\n",
       "       'JURONG WEST ST 65', 'CANBERRA LINK', 'SERANGOON AVE 2',\n",
       "       'JURONG WEST ST 52', 'BISHAN ST 24', 'YISHUN ST 31',\n",
       "       'BEDOK NTH AVE 1', 'JURONG EAST ST 13', 'SENGKANG EAST WAY',\n",
       "       'ADMIRALTY LINK', 'TAMPINES ST 32', 'CLEMENTI AVE 4',\n",
       "       'TELOK BLANGAH HTS', 'ADMIRALTY DR', 'SENJA RD',\n",
       "       'EDGEFIELD PLAINS', 'HOLLAND CL', 'BUANGKOK CRES', 'BOON LAY PL',\n",
       "       'PUNGGOL CTRL', 'WOODLANDS DR 70', 'SENGKANG CTRL', 'YUNG PING RD',\n",
       "       'UBI AVE 1', 'LOR 7 TOA PAYOH', 'JURONG WEST ST 91',\n",
       "       'WOODLANDS DR 16', 'BEDOK NTH ST 2', 'CHOA CHU KANG AVE 2',\n",
       "       'PASIR RIS ST 51', 'MCNAIR RD', 'TAMPINES ST 91', 'HOLLAND AVE',\n",
       "       'BT BATOK EAST AVE 5', 'UPP SERANGOON CRES', 'WOODLANDS ST 81',\n",
       "       'YISHUN ST 61', 'ANG MO KIO AVE 9', 'TAMPINES ST 33',\n",
       "       'BT PURMEI RD', 'WOODLANDS DR 71', 'YISHUN ST 72',\n",
       "       'CLEMENTI AVE 5', 'TAMPINES ST 72', 'YISHUN ST 71',\n",
       "       'UPP SERANGOON VIEW', 'PASIR RIS ST 71', 'BT PANJANG RING RD',\n",
       "       'CHOA CHU KANG ST 62', 'TAMPINES ST 83', 'DOVER CRES',\n",
       "       'COMPASSVALE WALK', 'LOR AH SOO', 'LOR 5 TOA PAYOH',\n",
       "       'JURONG WEST AVE 1', 'FERNVALE LINK', 'GEYLANG BAHRU',\n",
       "       'UPP CROSS ST', 'CLEMENTI AVE 3', 'BEDOK NTH AVE 3',\n",
       "       'JLN RUMAH TINGGI', 'ANG MO KIO AVE 6', 'TAMPINES ST 22',\n",
       "       'TEBAN GDNS RD', 'ANG MO KIO AVE 8', 'PAYA LEBAR WAY',\n",
       "       'CHOA CHU KANG DR', 'JURONG WEST ST 42', 'HOUGANG ST 22',\n",
       "       'POTONG PASIR AVE 2', 'CHOA CHU KANG CTRL', 'CLEMENTI ST 12',\n",
       "       \"JLN MA'MOR\", 'TANGLIN HALT RD', 'JURONG EAST ST 24',\n",
       "       'STRATHMORE AVE', 'JURONG WEST ST 41', 'WOODLANDS DR 73',\n",
       "       'PASIR RIS DR 10', 'BT BATOK WEST AVE 6', 'BEDOK NTH ST 1',\n",
       "       'JLN BT MERAH', 'TAMPINES CTRL 7', 'PASIR RIS DR 6',\n",
       "       'HOUGANG AVE 1', 'PUNGGOL WALK', 'JLN TECK WHYE',\n",
       "       'BT BATOK WEST AVE 5', 'JLN BATU', 'HOUGANG AVE 9', 'BOON LAY DR',\n",
       "       'BT MERAH LANE 1', 'KIM TIAN PL', 'WOODLANDS DR 60',\n",
       "       'BT BATOK ST 33', 'CHAI CHEE DR', 'EDGEDALE PLAINS',\n",
       "       'WOODLANDS AVE 4', 'JLN KLINIK', 'SENJA LINK', 'SHUNFU RD',\n",
       "       'HOUGANG AVE 10', 'TECK WHYE AVE', 'FARRER RD',\n",
       "       \"C'WEALTH AVE WEST\", 'PINE CL', 'HENDERSON CRES',\n",
       "       'BEDOK NTH AVE 4', 'TAMPINES ST 24', 'WOODLANDS DR 52',\n",
       "       'TAMPINES ST 44', 'CHAI CHEE RD', 'CRAWFORD LANE',\n",
       "       'TAMPINES ST 43', 'JLN BAHAGIA', \"ST. GEORGE'S RD\",\n",
       "       'SERANGOON AVE 4', 'PASIR RIS DR 1', 'BT MERAH VIEW',\n",
       "       'RIVERVALE ST', 'WOODLANDS DR 42', 'TAMPINES CTRL 1',\n",
       "       'BEDOK NTH AVE 2', 'LENGKOK BAHRU', 'TAMPINES ST 84',\n",
       "       'YISHUN AVE 9', 'DAWSON RD', 'LOR 1 TOA PAYOH', 'ANCHORVALE CRES',\n",
       "       'BEDOK STH AVE 3', 'PASIR RIS ST 21', 'TAMPINES ST 45',\n",
       "       'SENGKANG EAST AVE', 'LOMPANG RD', 'TAMPINES ST 42',\n",
       "       'TELOK BLANGAH DR', 'BANGKIT RD', 'CANTONMENT CL',\n",
       "       'BT BATOK WEST AVE 8', 'TOA PAYOH EAST', \"ST. GEORGE'S LANE\",\n",
       "       'PUNGGOL RD', 'YISHUN AVE 7', 'LOR 1A TOA PAYOH', 'BISHAN ST 12',\n",
       "       'COMPASSVALE LANE', 'COMPASSVALE DR', 'TAMPINES AVE 9',\n",
       "       'ANCHORVALE ST', 'BT BATOK EAST AVE 4', 'DOVER CL EAST',\n",
       "       'PETIR RD', 'BT BATOK CTRL', 'BT BATOK EAST AVE 3',\n",
       "       'TELOK BLANGAH CRES', 'BT BATOK WEST AVE 2', 'JLN DAMAI',\n",
       "       'BEDOK RESERVOIR VIEW', 'HOLLAND DR', 'SENGKANG WEST WAY',\n",
       "       'SERANGOON AVE 3', \"QUEEN'S CL\", 'UPP ALJUNIED LANE', 'BUFFALO RD',\n",
       "       'HOUGANG AVE 5', 'ANG MO KIO ST 31', 'BT BATOK ST 34', 'SIMEI RD',\n",
       "       'YISHUN ST 11', 'SEMBAWANG DR', 'TELOK BLANGAH ST 31',\n",
       "       \"C'WEALTH CL\", 'ANG MO KIO ST 52', 'MEI LING ST', 'YISHUN ST 41',\n",
       "       'JOO SENG RD', 'JLN TIGA', 'CLEMENTI WEST ST 1', 'CLEMENTI ST 14',\n",
       "       'CHOA CHU KANG ST 53', 'JURONG WEST ST 62', 'MARSILING RISE',\n",
       "       'TELOK BLANGAH RISE', 'SILAT AVE', 'CHAI CHEE ST',\n",
       "       'TAMPINES ST 81', 'TAMPINES ST 34', 'WOODLANDS AVE 9',\n",
       "       'TAMPINES ST 71', 'BISHAN ST 11', 'JURONG WEST CTRL 1',\n",
       "       'GEYLANG SERAI', 'MARSILING LANE', 'LOR LIMAU', 'YISHUN AVE 1',\n",
       "       'SIMS PL', 'PASIR RIS ST 72', 'BUANGKOK LINK', 'KELANTAN RD',\n",
       "       'CHOA CHU KANG ST 51', 'HOUGANG ST 61', \"C'WEALTH CRES\",\n",
       "       'REDHILL RD', 'BEDOK STH AVE 1', 'EUNOS RD 5', 'JURONG EAST AVE 1',\n",
       "       'HAIG RD', 'SERANGOON CTRL', 'STIRLING RD', 'KG ARANG RD',\n",
       "       'BUANGKOK GREEN', 'HOY FATT RD', 'CHOA CHU KANG ST 64',\n",
       "       'CANTONMENT RD', 'YISHUN CTRL 1', 'BEDOK STH AVE 2',\n",
       "       'MONTREAL LINK', 'BEDOK RESERVOIR CRES', 'SERANGOON NTH AVE 3',\n",
       "       'WOODLANDS ST 32', 'WOODLANDS DR 44', 'OWEN RD', 'MARINE CRES',\n",
       "       'JURONG WEST ST 73', 'MARINE DR', 'HOUGANG ST 31',\n",
       "       'CHOA CHU KANG NTH 6', 'PUNGGOL EAST', 'TAMPINES ST 11',\n",
       "       'HOUGANG AVE 6', 'FARRER PK RD', 'YISHUN AVE 3', 'SIMEI ST 4',\n",
       "       'JURONG EAST ST 32', 'TAMPINES AVE 7', 'LOR 4 TOA PAYOH',\n",
       "       'JURONG WEST ST 72', 'YISHUN ST 20', 'BRIGHT HILL DR',\n",
       "       'TOA PAYOH CTRL', 'CHOA CHU KANG NTH 7', 'GEYLANG EAST AVE 1',\n",
       "       'RIVERVALE CRES', 'PASIR RIS DR 4', 'TG PAGAR PLAZA',\n",
       "       'JURONG EAST ST 31', 'JLN TENTERAM', 'LOR LEW LIAN',\n",
       "       'WOODLANDS ST 82', 'HOUGANG ST 21', 'PASIR RIS ST 13',\n",
       "       'WOODLANDS DR 62', 'BOON TIONG RD', 'KIM KEAT AVE', 'INDUS RD',\n",
       "       'HOUGANG AVE 7', 'PUNGGOL WAY', 'YISHUN CTRL', 'SIN MING RD',\n",
       "       'SUMANG LINK', 'TAMPINES AVE 4', 'BOON KENG RD', 'CHAI CHEE AVE',\n",
       "       'FAJAR RD', 'CLEMENTI AVE 1', 'BT BATOK WEST AVE 4',\n",
       "       'WEST COAST DR', 'JLN KAYU', 'MARINE TER', 'CAMBRIDGE RD',\n",
       "       'TOWNER RD', 'BT MERAH CTRL', 'BENDEMEER RD', 'WOODLANDS AVE 1',\n",
       "       'SERANGOON CTRL DR', 'BT BATOK ST 11', 'TELOK BLANGAH WAY',\n",
       "       'PASIR RIS ST 12', 'TAMPINES AVE 1', 'CASSIA CRES',\n",
       "       'JURONG WEST ST 75', 'JLN TENAGA', 'JURONG WEST ST 74',\n",
       "       \"KING GEORGE'S AVE\", 'LIM LIAK ST', 'WOODLANDS ST 83',\n",
       "       'HOUGANG AVE 4', 'POTONG PASIR AVE 3', 'QUEENSWAY', 'JLN KUKOH',\n",
       "       'YUNG SHENG RD', 'YUNG KUANG RD', 'TAH CHING RD', 'CORPORATION DR',\n",
       "       'SERANGOON AVE 1', 'COMPASSVALE CRES', 'SEMBAWANG VISTA',\n",
       "       'MARSILING CRES', 'HOUGANG ST 11', 'PASIR RIS DR 3', 'JLN DUSUN',\n",
       "       'BT BATOK ST 32', 'YISHUN ST 51', 'BT BATOK ST 51', 'SMITH ST',\n",
       "       'FERNVALE ST', 'MONTREAL DR', 'EVERTON PK', 'RACE COURSE RD',\n",
       "       'SAGO LANE', 'WOODLANDS DR 40', 'KG KAYU RD', 'HOUGANG CTRL',\n",
       "       'SPOTTISWOODE PK RD', 'WATERLOO ST', 'ELIAS RD', 'GLOUCESTER RD',\n",
       "       'LOWER DELTA RD', 'CLARENCE LANE', 'REDHILL CL',\n",
       "       'PUNGGOL FIELD WALK', 'JURONG WEST ST 51', 'TAMPINES CTRL 8',\n",
       "       'QUEEN ST', 'TECK WHYE CRES', 'GHIM MOH LINK', 'JURONG WEST AVE 3',\n",
       "       'CLEMENTI ST 13', 'SIMEI LANE', 'SAUJANA RD',\n",
       "       'CHOA CHU KANG ST 54', 'HO CHING RD', 'LOR 3 GEYLANG',\n",
       "       'WOODLANDS ST 11', 'BEACH RD', 'FRENCH RD', 'CHANDER RD',\n",
       "       'YUNG AN RD', 'AH HOOD RD', 'WOODLANDS AVE 3', 'BEO CRES',\n",
       "       'WHAMPOA WEST', 'BEDOK NTH ST 4', 'SERANGOON NTH AVE 2',\n",
       "       'WHAMPOA STH', 'WOODLANDS DR 72', 'CHOA CHU KANG NTH 5',\n",
       "       'SIMS AVE', 'WHAMPOA RD', 'ROWELL RD', 'DOVER RD',\n",
       "       'JURONG WEST ST 92', 'ZION RD', 'CLEMENTI AVE 6',\n",
       "       'LOR 3 TOA PAYOH', 'OLD AIRPORT RD', 'BT BATOK ST 22',\n",
       "       'KLANG LANE', 'TIONG BAHRU RD', 'KRETA AYER RD',\n",
       "       'JURONG WEST ST 24', 'MOH GUAN TER', 'NTH BRIDGE RD',\n",
       "       'SENGKANG WEST AVE', \"QUEEN'S RD\", 'HOUGANG ST 52', 'VEERASAMY RD',\n",
       "       'TAMPINES ST 86', 'SIMEI ST 5', 'ANG MO KIO ST 21',\n",
       "       'JURONG WEST AVE 5', 'JOO CHIAT RD', 'CHOA CHU KANG AVE 1',\n",
       "       'PASIR RIS ST 53', 'YUNG HO RD', 'SELEGIE RD', 'BAIN ST',\n",
       "       'DELTA AVE', 'TAMAN HO SWEE', 'DAKOTA CRES', 'TAO CHING RD',\n",
       "       'CHIN SWEE RD', 'ANG MO KIO ST 61', 'CHANGI VILLAGE RD',\n",
       "       'JELLICOE RD', 'PASIR RIS ST 41', 'GEYLANG EAST CTRL',\n",
       "       'ALJUNIED RD', 'EMPRESS RD', 'MACPHERSON LANE', 'KENT RD',\n",
       "       'SENG POH RD', 'TESSENSOHN RD', 'MOULMEIN RD', 'KIM CHENG ST',\n",
       "       'UPP SERANGOON RD', 'MARINE PARADE CTRL', 'CLEMENTI ST 11',\n",
       "       'KIM PONG RD', \"C'WEALTH AVE\", 'ANG MO KIO AVE 2', 'NEW MKT RD',\n",
       "       'ANG MO KIO ST 11', 'HOUGANG ST 32', 'SEMBAWANG WAY'], dtype=object)"
      ]
     },
     "execution_count": 18,
     "metadata": {},
     "output_type": "execute_result"
    }
   ],
   "source": [
    "#Peek into some values in the column\n",
    "HDB_df['street_name'].unique()"
   ]
  },
  {
   "cell_type": "code",
   "execution_count": 19,
   "id": "39298ad7-95a0-429e-95a2-7299c59d6264",
   "metadata": {
    "tags": []
   },
   "outputs": [],
   "source": [
    "#Checking for unusal values\n",
    "streetname_vals=list(HDB_df['street_name'].unique())\n",
    "unusual_streetname=[]\n",
    "for i in streetname_vals:\n",
    "    check=i.replace(' ', '')\n",
    "    if not check.isalnum():\n",
    "        unusual_streetname.append(i)"
   ]
  },
  {
   "cell_type": "code",
   "execution_count": 20,
   "id": "1e785af2-e62f-4d5c-8cbf-a33b26d0821f",
   "metadata": {
    "tags": []
   },
   "outputs": [
    {
     "data": {
      "text/plain": [
       "[\"C'WEALTH DR\",\n",
       " \"JLN MA'MOR\",\n",
       " \"C'WEALTH AVE WEST\",\n",
       " \"ST. GEORGE'S RD\",\n",
       " \"ST. GEORGE'S LANE\",\n",
       " \"QUEEN'S CL\",\n",
       " \"C'WEALTH CL\",\n",
       " \"C'WEALTH CRES\",\n",
       " \"KING GEORGE'S AVE\",\n",
       " \"QUEEN'S RD\",\n",
       " \"C'WEALTH AVE\"]"
      ]
     },
     "execution_count": 20,
     "metadata": {},
     "output_type": "execute_result"
    }
   ],
   "source": [
    "unusual_streetname"
   ]
  },
  {
   "cell_type": "markdown",
   "id": "0dee365d-017a-4c6c-8f93-a9d7c6310566",
   "metadata": {},
   "source": [
    "No unusual values in the list, such values got filtered due to the apostrophe in the names"
   ]
  },
  {
   "cell_type": "markdown",
   "id": "7f27324b-fe3e-41e6-8e40-301895e699a1",
   "metadata": {},
   "source": [
    "#### Column 05: floor_area_sqm"
   ]
  },
  {
   "cell_type": "code",
   "execution_count": 21,
   "id": "1e5e0260-740c-4183-a54a-3fda3ba8ea3e",
   "metadata": {
    "tags": []
   },
   "outputs": [
    {
     "data": {
      "text/plain": [
       "array([ 90. , 130. , 144. , 103. ,  83. ,  65. , 120. ,  68. , 125. ,\n",
       "       110. ,  69. ,  94. ,  91. ,  73. , 119. , 123. , 121. , 135. ,\n",
       "       148. , 111. , 104. , 107. , 105. , 139. , 115. , 122. ,  67. ,\n",
       "        72. ,  99. ,  84. , 124. ,  89. , 112. , 131. ,  88. , 100. ,\n",
       "        92. ,  43. , 162. ,  61. ,  59. ,  82. , 126. ,  64. , 113. ,\n",
       "       143. , 146. ,  87. ,  93. , 142. ,  45. ,  74. , 137. , 101. ,\n",
       "        60. ,  96. , 109. , 117. , 108. ,  85. ,  81. ,  95. ,  62. ,\n",
       "       138. ,  63. ,  60.3, 106. ,  86. , 149. ,  70. ,  66. , 114. ,\n",
       "       102. , 189. , 116. , 177. , 128. , 147. , 133. ,  53. , 118. ,\n",
       "        47. , 145. , 141. , 280. , 150. , 132. , 151. ,  44. ,  97. ,\n",
       "        75. ,  49. , 127. , 154. , 157. ,  76. ,  46. , 155. ,  98. ,\n",
       "        57. , 134. , 152. ,  71. ,  52. , 153. ,  34. ,  50. ,  63.1,\n",
       "        31. , 243. , 140. , 129. ,  56. ,  40. , 163. ,  79. , 166. ,\n",
       "        77. ,  78. , 176. , 161. ,  58. , 179. , 159. , 158. ,  41. ,\n",
       "       174. , 184. , 136. , 170. , 156. , 173. , 186. ,  80. ,  42. ,\n",
       "       192. , 164. ,  48. , 172. , 249. , 160. ,  38. ,  54. ,  88.1,\n",
       "       165. ,  51. , 187. ,  55. , 215. , 169. , 168. , 171. , 182. ,\n",
       "        83.1,  37. , 190. ,  35. , 178. , 181. , 237. , 180. , 188. ,\n",
       "        68.8, 199. ,  89.1, 175. , 183. , 185. ,  39. ])"
      ]
     },
     "execution_count": 21,
     "metadata": {},
     "output_type": "execute_result"
    }
   ],
   "source": [
    "#Peek into some values in the column\n",
    "HDB_df['floor_area_sqm'].unique()"
   ]
  },
  {
   "cell_type": "code",
   "execution_count": 22,
   "id": "5b078b74-ade0-4a6e-a1c2-41733dbf94af",
   "metadata": {
    "tags": []
   },
   "outputs": [
    {
     "data": {
      "text/html": [
       "<div>\n",
       "<style scoped>\n",
       "    .dataframe tbody tr th:only-of-type {\n",
       "        vertical-align: middle;\n",
       "    }\n",
       "\n",
       "    .dataframe tbody tr th {\n",
       "        vertical-align: top;\n",
       "    }\n",
       "\n",
       "    .dataframe thead th {\n",
       "        text-align: right;\n",
       "    }\n",
       "</style>\n",
       "<table border=\"1\" class=\"dataframe\">\n",
       "  <thead>\n",
       "    <tr style=\"text-align: right;\">\n",
       "      <th></th>\n",
       "      <th>floor_area_sqm</th>\n",
       "    </tr>\n",
       "  </thead>\n",
       "  <tbody>\n",
       "    <tr>\n",
       "      <th>count</th>\n",
       "      <td>149805.000000</td>\n",
       "    </tr>\n",
       "    <tr>\n",
       "      <th>mean</th>\n",
       "      <td>97.228022</td>\n",
       "    </tr>\n",
       "    <tr>\n",
       "      <th>std</th>\n",
       "      <td>24.438881</td>\n",
       "    </tr>\n",
       "    <tr>\n",
       "      <th>min</th>\n",
       "      <td>31.000000</td>\n",
       "    </tr>\n",
       "    <tr>\n",
       "      <th>25%</th>\n",
       "      <td>75.000000</td>\n",
       "    </tr>\n",
       "    <tr>\n",
       "      <th>50%</th>\n",
       "      <td>95.000000</td>\n",
       "    </tr>\n",
       "    <tr>\n",
       "      <th>75%</th>\n",
       "      <td>112.000000</td>\n",
       "    </tr>\n",
       "    <tr>\n",
       "      <th>max</th>\n",
       "      <td>280.000000</td>\n",
       "    </tr>\n",
       "  </tbody>\n",
       "</table>\n",
       "</div>"
      ],
      "text/plain": [
       "       floor_area_sqm\n",
       "count   149805.000000\n",
       "mean        97.228022\n",
       "std         24.438881\n",
       "min         31.000000\n",
       "25%         75.000000\n",
       "50%         95.000000\n",
       "75%        112.000000\n",
       "max        280.000000"
      ]
     },
     "execution_count": 22,
     "metadata": {},
     "output_type": "execute_result"
    }
   ],
   "source": [
    "HDB_df[['floor_area_sqm']].describe()"
   ]
  },
  {
   "cell_type": "markdown",
   "id": "4fc68c76-c610-41f2-a758-ddf65304f7af",
   "metadata": {},
   "source": [
    "Nothing unusual and datatype is already in float"
   ]
  },
  {
   "cell_type": "markdown",
   "id": "5318d105-45a1-4bc9-8d8b-7b60319f151c",
   "metadata": {},
   "source": [
    "#### Column 06: flat_model "
   ]
  },
  {
   "cell_type": "code",
   "execution_count": 23,
   "id": "1d55b7c2-b1b5-4d11-9fc1-ad35bf5d0ed8",
   "metadata": {
    "tags": []
   },
   "outputs": [
    {
     "data": {
      "text/plain": [
       "array(['Model A', 'Improved', 'Apartment', 'Simplified', 'New Generation',\n",
       "       'Premium Apartment', 'Model A2', 'Maisonette', 'Standard', 'DBSS',\n",
       "       'Terrace', 'Model A-Maisonette', 'Type S1',\n",
       "       'Premium Apartment Loft', 'Adjoined flat', 'Multi Generation',\n",
       "       'Type S2', 'Premium Maisonette', 'Improved-Maisonette', '2-room'],\n",
       "      dtype=object)"
      ]
     },
     "execution_count": 23,
     "metadata": {},
     "output_type": "execute_result"
    }
   ],
   "source": [
    "#Peek into some values in the column\n",
    "HDB_df['flat_model'].unique()"
   ]
  },
  {
   "cell_type": "markdown",
   "id": "6ec95cd0-a65c-4939-ae77-5496412e67eb",
   "metadata": {},
   "source": [
    "Nothing unusual"
   ]
  },
  {
   "cell_type": "markdown",
   "id": "8c894aff-5a03-4fd7-803d-6ea8405f2504",
   "metadata": {},
   "source": [
    "#### Column 07: lease_commence_date "
   ]
  },
  {
   "cell_type": "code",
   "execution_count": 24,
   "id": "6f74cac8-614a-485d-8f1e-b5ce07348a49",
   "metadata": {
    "tags": []
   },
   "outputs": [
    {
     "data": {
      "text/plain": [
       "array([2006, 1987, 1997, 1992, 1975, 1980, 1989, 2001, 2009, 1985, 2013,\n",
       "       2002, 1993, 1998, 1988, 1999, 2005, 1996, 2004, 1973, 1984, 1974,\n",
       "       1977, 1970, 1983, 2012, 1978, 1981, 1994, 1979, 2007, 1976, 1986,\n",
       "       1969, 1971, 2003, 2016, 1967, 1982, 2000, 1990, 1991, 1995, 2008,\n",
       "       2010, 2015, 2014, 1972, 1968, 1966, 2011, 2017, 2018])"
      ]
     },
     "execution_count": 24,
     "metadata": {},
     "output_type": "execute_result"
    }
   ],
   "source": [
    "#Peek into some values in the column\n",
    "HDB_df['lease_commence_date'].unique()"
   ]
  },
  {
   "cell_type": "markdown",
   "id": "5b4c3f2e-4372-4ead-9120-d5730a56a9c7",
   "metadata": {},
   "source": [
    "Renaming column to year instead of date and leaving the datatype as int since the years will be transformed to dummy variables"
   ]
  },
  {
   "cell_type": "code",
   "execution_count": 25,
   "id": "054c4bd8-1390-48e1-b0c4-abc691fee7b7",
   "metadata": {
    "tags": []
   },
   "outputs": [],
   "source": [
    "#Renaming column\n",
    "HDB_df.rename(columns={'lease_commence_date':'lease_commence_year'}, inplace=True)"
   ]
  },
  {
   "cell_type": "markdown",
   "id": "9e83947f-ee5b-4bad-bfd3-dd29fb93c14f",
   "metadata": {},
   "source": [
    "#### Column 08: resale_price"
   ]
  },
  {
   "cell_type": "code",
   "execution_count": 26,
   "id": "cd03d7fe-248a-46de-a8a2-07d59248570a",
   "metadata": {
    "tags": []
   },
   "outputs": [
    {
     "data": {
      "text/plain": [
       "array([680000., 665000., 838000., ..., 737888., 304500., 375588.])"
      ]
     },
     "execution_count": 26,
     "metadata": {},
     "output_type": "execute_result"
    }
   ],
   "source": [
    "#Peek into some values in the column\n",
    "HDB_df['resale_price'].unique()"
   ]
  },
  {
   "cell_type": "code",
   "execution_count": 27,
   "id": "48a6c74c-f300-4b75-bd36-285e6af3b6e2",
   "metadata": {
    "tags": []
   },
   "outputs": [
    {
     "data": {
      "text/html": [
       "<div>\n",
       "<style scoped>\n",
       "    .dataframe tbody tr th:only-of-type {\n",
       "        vertical-align: middle;\n",
       "    }\n",
       "\n",
       "    .dataframe tbody tr th {\n",
       "        vertical-align: top;\n",
       "    }\n",
       "\n",
       "    .dataframe thead th {\n",
       "        text-align: right;\n",
       "    }\n",
       "</style>\n",
       "<table border=\"1\" class=\"dataframe\">\n",
       "  <thead>\n",
       "    <tr style=\"text-align: right;\">\n",
       "      <th></th>\n",
       "      <th>resale_price</th>\n",
       "    </tr>\n",
       "  </thead>\n",
       "  <tbody>\n",
       "    <tr>\n",
       "      <th>count</th>\n",
       "      <td>1.498050e+05</td>\n",
       "    </tr>\n",
       "    <tr>\n",
       "      <th>mean</th>\n",
       "      <td>4.486621e+05</td>\n",
       "    </tr>\n",
       "    <tr>\n",
       "      <th>std</th>\n",
       "      <td>1.432125e+05</td>\n",
       "    </tr>\n",
       "    <tr>\n",
       "      <th>min</th>\n",
       "      <td>1.500000e+05</td>\n",
       "    </tr>\n",
       "    <tr>\n",
       "      <th>25%</th>\n",
       "      <td>3.460000e+05</td>\n",
       "    </tr>\n",
       "    <tr>\n",
       "      <th>50%</th>\n",
       "      <td>4.200000e+05</td>\n",
       "    </tr>\n",
       "    <tr>\n",
       "      <th>75%</th>\n",
       "      <td>5.200000e+05</td>\n",
       "    </tr>\n",
       "    <tr>\n",
       "      <th>max</th>\n",
       "      <td>1.258000e+06</td>\n",
       "    </tr>\n",
       "  </tbody>\n",
       "</table>\n",
       "</div>"
      ],
      "text/plain": [
       "       resale_price\n",
       "count  1.498050e+05\n",
       "mean   4.486621e+05\n",
       "std    1.432125e+05\n",
       "min    1.500000e+05\n",
       "25%    3.460000e+05\n",
       "50%    4.200000e+05\n",
       "75%    5.200000e+05\n",
       "max    1.258000e+06"
      ]
     },
     "execution_count": 27,
     "metadata": {},
     "output_type": "execute_result"
    }
   ],
   "source": [
    "#Checking if there are unusual values\n",
    "HDB_df[['resale_price']].describe()"
   ]
  },
  {
   "cell_type": "markdown",
   "id": "57fc683a-9cf3-463c-90ec-28650a1e2d9d",
   "metadata": {},
   "source": [
    "Summary do not reflect outliers or any anomaly values"
   ]
  },
  {
   "cell_type": "markdown",
   "id": "2d00a546-770c-4ce0-9ae2-396e91feffb9",
   "metadata": {},
   "source": [
    "#### Column 9: Tranc_Year "
   ]
  },
  {
   "cell_type": "code",
   "execution_count": 28,
   "id": "bd09cbf4-2c29-48cb-89d7-d7b6cbfa15cf",
   "metadata": {
    "tags": []
   },
   "outputs": [
    {
     "data": {
      "text/plain": [
       "array([2016, 2012, 2013, 2017, 2018, 2020, 2014, 2015, 2019, 2021])"
      ]
     },
     "execution_count": 28,
     "metadata": {},
     "output_type": "execute_result"
    }
   ],
   "source": [
    "#Peek into some values in the column\n",
    "HDB_df['Tranc_Year'].unique()"
   ]
  },
  {
   "cell_type": "markdown",
   "id": "e3bb8d13-4f26-4a22-aa9d-66d8cbbf60f3",
   "metadata": {},
   "source": [
    "Nothing unusual and leaving datatype as int since transforming to dummy variables later on"
   ]
  },
  {
   "cell_type": "markdown",
   "id": "92a6fd1b-82da-4343-8f13-39cef3017870",
   "metadata": {},
   "source": [
    "#### Column 10: Tranc_Month "
   ]
  },
  {
   "cell_type": "code",
   "execution_count": 29,
   "id": "2bf2f8bf-b845-4fe7-956f-429087574182",
   "metadata": {
    "tags": []
   },
   "outputs": [
    {
     "data": {
      "text/plain": [
       "array([ 5,  7,  4, 12,  1,  3,  6,  8, 10, 11,  9,  2])"
      ]
     },
     "execution_count": 29,
     "metadata": {},
     "output_type": "execute_result"
    }
   ],
   "source": [
    "#Peek into some values in the column\n",
    "HDB_df['Tranc_Month'].unique()"
   ]
  },
  {
   "cell_type": "markdown",
   "id": "8492b460-49bb-4592-9724-454714e54d36",
   "metadata": {
    "tags": []
   },
   "source": [
    "Nothing unusual and leaving datatype as int since transforming to dummy variables later on"
   ]
  },
  {
   "cell_type": "markdown",
   "id": "c4f85e3b-9e17-448d-b864-6f4a8da5fa12",
   "metadata": {},
   "source": [
    "#### Column 11-13: mid_storey, lb_storey and ub_storey"
   ]
  },
  {
   "cell_type": "markdown",
   "id": "e16034c3-72e6-4183-870f-8b5a55f451e1",
   "metadata": {},
   "source": [
    "##### column 11: mid_storey"
   ]
  },
  {
   "cell_type": "code",
   "execution_count": 30,
   "id": "08af3f87-1d5c-4627-99e2-b41d6d8855bf",
   "metadata": {
    "tags": []
   },
   "outputs": [
    {
     "data": {
      "text/plain": [
       "array([11,  8, 14,  3,  2, 29, 20,  5, 17, 23, 18, 35, 26, 13, 38, 32, 44,\n",
       "       41, 50, 47, 28, 33])"
      ]
     },
     "execution_count": 30,
     "metadata": {},
     "output_type": "execute_result"
    }
   ],
   "source": [
    "#Peek into some values in the column\n",
    "HDB_df['mid_storey'].unique()"
   ]
  },
  {
   "cell_type": "markdown",
   "id": "cec780b8-3b69-4070-aa6b-5fba7fb6790b",
   "metadata": {},
   "source": [
    "##### Column 12: lb_storey"
   ]
  },
  {
   "cell_type": "code",
   "execution_count": 31,
   "id": "c647fdf5-3a45-47b2-94a6-502c93137b8f",
   "metadata": {
    "tags": []
   },
   "outputs": [
    {
     "data": {
      "text/plain": [
       "array([10,  7, 13,  1,  6, 28, 19,  4, 16, 22, 34, 25, 11, 37, 31, 43, 40,\n",
       "       21, 49, 46, 26, 36])"
      ]
     },
     "execution_count": 31,
     "metadata": {},
     "output_type": "execute_result"
    }
   ],
   "source": [
    "#Peek into some values in the column\n",
    "HDB_df['lower'].unique()"
   ]
  },
  {
   "cell_type": "code",
   "execution_count": 32,
   "id": "d814afbb-ee79-40aa-a66e-1d25b18d14bb",
   "metadata": {
    "tags": []
   },
   "outputs": [],
   "source": [
    "#Renaming column for better intuition\n",
    "HDB_df.rename(columns={'lower':'lb_storey'}, inplace=True)"
   ]
  },
  {
   "cell_type": "markdown",
   "id": "076df66a-957b-4e38-afb0-e2284b5d8033",
   "metadata": {},
   "source": [
    "Rename to lb_storey as lower bound storey range"
   ]
  },
  {
   "cell_type": "markdown",
   "id": "79097ff5-7e2d-4860-bb6d-aef0a44d9c08",
   "metadata": {},
   "source": [
    "##### Column 13: ub_storey"
   ]
  },
  {
   "cell_type": "code",
   "execution_count": 33,
   "id": "83577390-83af-4053-a62e-5a873c953353",
   "metadata": {
    "tags": []
   },
   "outputs": [
    {
     "data": {
      "text/plain": [
       "array([12,  9, 15,  5,  3, 10, 30, 21,  6, 18, 24, 20, 36, 27, 39, 33, 45,\n",
       "       42, 25, 51, 48, 40, 35])"
      ]
     },
     "execution_count": 33,
     "metadata": {},
     "output_type": "execute_result"
    }
   ],
   "source": [
    "#Peek into some values in the column\n",
    "HDB_df['upper'].unique()"
   ]
  },
  {
   "cell_type": "code",
   "execution_count": 34,
   "id": "184bee53-f82b-407d-b328-f9fd853b5468",
   "metadata": {},
   "outputs": [],
   "source": [
    "#Renaming column for better intuition\n",
    "HDB_df.rename(columns={'upper':'ub_storey'}, inplace=True)"
   ]
  },
  {
   "cell_type": "markdown",
   "id": "08c68eb1-cbd9-41fe-9764-c7f07870f722",
   "metadata": {},
   "source": [
    "Rename to ub_storey as upper bound storey range"
   ]
  },
  {
   "cell_type": "code",
   "execution_count": 35,
   "id": "64fd1681-db15-4a45-8c44-f7d551b0683c",
   "metadata": {
    "tags": []
   },
   "outputs": [
    {
     "data": {
      "text/html": [
       "<div>\n",
       "<style scoped>\n",
       "    .dataframe tbody tr th:only-of-type {\n",
       "        vertical-align: middle;\n",
       "    }\n",
       "\n",
       "    .dataframe tbody tr th {\n",
       "        vertical-align: top;\n",
       "    }\n",
       "\n",
       "    .dataframe thead th {\n",
       "        text-align: right;\n",
       "    }\n",
       "</style>\n",
       "<table border=\"1\" class=\"dataframe\">\n",
       "  <thead>\n",
       "    <tr style=\"text-align: right;\">\n",
       "      <th></th>\n",
       "      <th>town</th>\n",
       "      <th>flat_type</th>\n",
       "      <th>block</th>\n",
       "      <th>street_name</th>\n",
       "      <th>floor_area_sqm</th>\n",
       "      <th>flat_model</th>\n",
       "      <th>lease_commence_year</th>\n",
       "      <th>resale_price</th>\n",
       "      <th>Tranc_Year</th>\n",
       "      <th>Tranc_Month</th>\n",
       "      <th>...</th>\n",
       "      <th>mrt_name</th>\n",
       "      <th>bus_interchange</th>\n",
       "      <th>mrt_interchange</th>\n",
       "      <th>bus_stop_nearest_distance</th>\n",
       "      <th>pri_sch_nearest_distance</th>\n",
       "      <th>pri_sch_name</th>\n",
       "      <th>vacancy</th>\n",
       "      <th>pri_sch_affiliation</th>\n",
       "      <th>sec_sch_nearest_dist</th>\n",
       "      <th>sec_sch_name</th>\n",
       "    </tr>\n",
       "  </thead>\n",
       "  <tbody>\n",
       "  </tbody>\n",
       "</table>\n",
       "<p>0 rows × 58 columns</p>\n",
       "</div>"
      ],
      "text/plain": [
       "Empty DataFrame\n",
       "Columns: [town, flat_type, block, street_name, floor_area_sqm, flat_model, lease_commence_year, resale_price, Tranc_Year, Tranc_Month, mid_storey, lb_storey, ub_storey, hdb_age, max_floor_lvl, year_completed, residential, commercial, market_hawker, multistorey_carpark, precinct_pavilion, total_dwelling_units, 1room_sold, 2room_sold, 3room_sold, 4room_sold, 5room_sold, exec_sold, multigen_sold, studio_apartment_sold, 1room_rental, 2room_rental, 3room_rental, other_room_rental, Latitude, Longitude, planning_area, Mall_Nearest_Distance, Mall_Within_500m, Mall_Within_1km, Mall_Within_2km, Hawker_Nearest_Distance, Hawker_Within_500m, Hawker_Within_1km, Hawker_Within_2km, hawker_food_stalls, hawker_market_stalls, mrt_nearest_distance, mrt_name, bus_interchange, mrt_interchange, bus_stop_nearest_distance, pri_sch_nearest_distance, pri_sch_name, vacancy, pri_sch_affiliation, sec_sch_nearest_dist, sec_sch_name]\n",
       "Index: []\n",
       "\n",
       "[0 rows x 58 columns]"
      ]
     },
     "execution_count": 35,
     "metadata": {},
     "output_type": "execute_result"
    }
   ],
   "source": [
    "#Checking for discrepancy in the range of stories\n",
    "HDB_df[~((HDB_df['mid_storey']>HDB_df['lb_storey']) & (HDB_df['ub_storey']>HDB_df['mid_storey']))]"
   ]
  },
  {
   "cell_type": "markdown",
   "id": "8d72481b-674b-4aa4-ab8f-762212d28c89",
   "metadata": {},
   "source": [
    "No rows have any discrepancy"
   ]
  },
  {
   "cell_type": "markdown",
   "id": "ac2c4897-c81e-430b-86a2-b8be773ef5aa",
   "metadata": {
    "tags": []
   },
   "source": [
    "#### Column 14: hdb_age"
   ]
  },
  {
   "cell_type": "code",
   "execution_count": 36,
   "id": "f9d75de4-5203-4149-8718-7e1b8a7df287",
   "metadata": {
    "tags": []
   },
   "outputs": [
    {
     "data": {
      "text/plain": [
       "array([15, 34, 24, 29, 46, 41, 32, 20, 12, 36,  8, 19, 28, 23, 33, 22, 16,\n",
       "       25, 17, 48, 37, 47, 44, 51, 38,  9, 43, 40, 27, 42, 14, 45, 35, 52,\n",
       "       50, 18,  5, 54, 39, 21, 31, 30, 26, 13, 11,  6,  7, 49, 53, 55, 10,\n",
       "        4,  3])"
      ]
     },
     "execution_count": 36,
     "metadata": {},
     "output_type": "execute_result"
    }
   ],
   "source": [
    "#Peek into some values in the column\n",
    "HDB_df['hdb_age'].unique()"
   ]
  },
  {
   "cell_type": "markdown",
   "id": "6de4d459-0451-4f8b-8bf4-134c089e00ec",
   "metadata": {},
   "source": [
    "Nothing unusual and already in int datatype"
   ]
  },
  {
   "cell_type": "markdown",
   "id": "ad1e29a6-3b57-4ffa-bc65-98354c1ba07b",
   "metadata": {},
   "source": [
    "#### Column 15: max_floor_lvl"
   ]
  },
  {
   "cell_type": "code",
   "execution_count": 37,
   "id": "8b1086d7-6370-4fa1-98ae-ba7a8d27f3b9",
   "metadata": {},
   "outputs": [
    {
     "data": {
      "text/plain": [
       "array([25,  9, 16, 11,  4, 12, 17, 13, 36, 15, 24, 26, 14, 18, 19, 20, 10,\n",
       "       30,  8, 40, 22, 21, 28, 27,  2, 29,  7, 31, 43, 38,  5, 23, 42, 35,\n",
       "       50,  6, 34, 47,  3])"
      ]
     },
     "execution_count": 37,
     "metadata": {},
     "output_type": "execute_result"
    }
   ],
   "source": [
    "#Peek into some values in the column\n",
    "HDB_df['max_floor_lvl'].unique()"
   ]
  },
  {
   "cell_type": "markdown",
   "id": "1f24c949-90aa-44d4-918b-53742a07c15a",
   "metadata": {},
   "source": [
    "Nothing unusual and already in int datatype"
   ]
  },
  {
   "cell_type": "markdown",
   "id": "17063bb7-cf2d-4c08-a501-8caa04677ec5",
   "metadata": {},
   "source": [
    "#### Column 16: year_completed"
   ]
  },
  {
   "cell_type": "code",
   "execution_count": 38,
   "id": "9523a597-a5f4-4abd-81e4-073217afefa1",
   "metadata": {
    "tags": []
   },
   "outputs": [
    {
     "data": {
      "text/plain": [
       "array([2005, 1987, 1996, 1990, 1974, 1986, 1980, 1988, 2000, 2008, 1984,\n",
       "       2011, 1998, 2003, 1994, 2001, 1973, 1991, 1983, 1999, 1995, 1976,\n",
       "       1969, 1982, 1997, 1985, 1992, 2010, 2002, 1977, 1979, 1993, 1978,\n",
       "       1981, 2006, 2004, 1975, 1966, 1964, 1963, 2015, 1971, 1965, 2012,\n",
       "       1989, 1962, 2007, 2014, 2013, 2009, 1959, 1972, 1968, 1967, 1970,\n",
       "       1949, 2017])"
      ]
     },
     "execution_count": 38,
     "metadata": {},
     "output_type": "execute_result"
    }
   ],
   "source": [
    "#Peek into some values in the column\n",
    "HDB_df['year_completed'].unique()"
   ]
  },
  {
   "cell_type": "markdown",
   "id": "8458901f-aa76-4bf2-a509-2a80d9e7fb51",
   "metadata": {
    "tags": []
   },
   "source": [
    "Nothing unusual"
   ]
  },
  {
   "cell_type": "markdown",
   "id": "7ce0ca96-aedc-477b-bc90-d89a5ce1994c",
   "metadata": {},
   "source": [
    "#### Column removed: residential"
   ]
  },
  {
   "cell_type": "code",
   "execution_count": 39,
   "id": "9cf03584-0ef3-4a27-af4c-8b35eb32819a",
   "metadata": {
    "tags": []
   },
   "outputs": [
    {
     "data": {
      "text/plain": [
       "array(['Y'], dtype=object)"
      ]
     },
     "execution_count": 39,
     "metadata": {},
     "output_type": "execute_result"
    }
   ],
   "source": [
    "#Peek into some values in the column\n",
    "HDB_df['residential'].unique()"
   ]
  },
  {
   "cell_type": "markdown",
   "id": "36b88578-4622-42d3-a01b-e05f4cd81165",
   "metadata": {},
   "source": [
    "All entries are categorised under residential thus removing the column"
   ]
  },
  {
   "cell_type": "code",
   "execution_count": 40,
   "id": "adff1006-04b6-4081-9be1-2b1f2e9fbdf9",
   "metadata": {
    "tags": []
   },
   "outputs": [],
   "source": [
    "#Dropping column\n",
    "HDB_df.drop(columns=['residential'], inplace=True)"
   ]
  },
  {
   "cell_type": "markdown",
   "id": "865664f6-2242-412c-857a-561a18cad658",
   "metadata": {},
   "source": [
    "#### Column 17: commercial "
   ]
  },
  {
   "cell_type": "code",
   "execution_count": 41,
   "id": "b0f4b863-600c-457c-9962-4d34cfb4b4b6",
   "metadata": {
    "tags": []
   },
   "outputs": [
    {
     "data": {
      "text/plain": [
       "array(['N', 'Y'], dtype=object)"
      ]
     },
     "execution_count": 41,
     "metadata": {},
     "output_type": "execute_result"
    }
   ],
   "source": [
    "#Peek into some values in the column\n",
    "HDB_df['commercial'].unique()"
   ]
  },
  {
   "cell_type": "markdown",
   "id": "ed3e9313-1d2d-449e-a7c7-b5e9e77d09e6",
   "metadata": {},
   "source": [
    "Nothing unusual"
   ]
  },
  {
   "cell_type": "markdown",
   "id": "2c5d73cf-5bac-4bab-851d-f2947dd080e4",
   "metadata": {},
   "source": [
    "#### Column 18: market_hawker"
   ]
  },
  {
   "cell_type": "code",
   "execution_count": 42,
   "id": "1d4fd8ef-ee8d-4cb9-8a66-a3137b6f9eed",
   "metadata": {
    "tags": []
   },
   "outputs": [
    {
     "data": {
      "text/plain": [
       "array(['N', 'Y'], dtype=object)"
      ]
     },
     "execution_count": 42,
     "metadata": {},
     "output_type": "execute_result"
    }
   ],
   "source": [
    "#Peek into some values in the column\n",
    "HDB_df['market_hawker'].unique()"
   ]
  },
  {
   "cell_type": "markdown",
   "id": "a2459ac3-32d8-40f6-bd61-a27d7ba6bae5",
   "metadata": {
    "tags": []
   },
   "source": [
    "Nothing unusual"
   ]
  },
  {
   "cell_type": "markdown",
   "id": "92efa3b0-db0e-4283-af82-a9765664c730",
   "metadata": {},
   "source": [
    "#### Column 19: multistorey_carpark"
   ]
  },
  {
   "cell_type": "code",
   "execution_count": 43,
   "id": "f8474333-db54-4831-b0c8-fa3786d10f66",
   "metadata": {
    "tags": []
   },
   "outputs": [
    {
     "data": {
      "text/plain": [
       "array(['N', 'Y'], dtype=object)"
      ]
     },
     "execution_count": 43,
     "metadata": {},
     "output_type": "execute_result"
    }
   ],
   "source": [
    "#Peek into some values in the column\n",
    "HDB_df['multistorey_carpark'].unique()"
   ]
  },
  {
   "cell_type": "markdown",
   "id": "2685ac29-02c5-4f75-82fe-e87161e2c1d6",
   "metadata": {
    "tags": []
   },
   "source": [
    "Nothing unusual"
   ]
  },
  {
   "cell_type": "markdown",
   "id": "efd06b08-cd5f-422e-a656-c6865d508be5",
   "metadata": {},
   "source": [
    "#### Column 20: precinct_pavilion"
   ]
  },
  {
   "cell_type": "code",
   "execution_count": 44,
   "id": "ccd52ff3-45a2-4d41-8797-fbcb0349e4f4",
   "metadata": {
    "tags": []
   },
   "outputs": [
    {
     "data": {
      "text/plain": [
       "array(['N', 'Y'], dtype=object)"
      ]
     },
     "execution_count": 44,
     "metadata": {},
     "output_type": "execute_result"
    }
   ],
   "source": [
    "#Peek into some values in the column\n",
    "HDB_df['precinct_pavilion'].unique()"
   ]
  },
  {
   "cell_type": "markdown",
   "id": "47b3e9a3-7226-4701-b1b4-d93952ec10d7",
   "metadata": {
    "tags": []
   },
   "source": [
    "Nothing unusual"
   ]
  },
  {
   "cell_type": "markdown",
   "id": "fc2811ee-d0bf-41e4-b56a-eb4373c165e8",
   "metadata": {},
   "source": [
    "#### Column 21: total_dwelling_units"
   ]
  },
  {
   "cell_type": "code",
   "execution_count": 45,
   "id": "5cc05558-4bb3-4861-b579-9a48f943b1f7",
   "metadata": {
    "tags": []
   },
   "outputs": [
    {
     "data": {
      "text/plain": [
       "array([142, 112,  90,  75,  48, 193,  64, 132,  92,  96, 107, 175,  86,\n",
       "       131,  73, 138, 173,  87,  50,  81, 152, 126, 284,  88, 113, 144,\n",
       "       177,  82,  99, 143, 291, 119,  89,  98,  91, 110,  46,  65,  24,\n",
       "       133,  74, 180, 188, 195, 117, 171, 244,  63, 150, 135, 156, 151,\n",
       "       120, 333, 118,  97, 190, 266, 104,  52, 160,  60, 145,  78, 109,\n",
       "       101, 153, 220,  84, 123, 155, 229, 154,  54, 231, 172,  66, 168,\n",
       "       103, 267, 108, 206, 165, 147,  56,  94, 106,  61, 139, 115, 128,\n",
       "       337, 192,  95, 438, 102,  70, 352, 202,  55, 157, 178, 111,  16,\n",
       "       129, 258, 140,  47,  72, 234,  68, 278, 100, 182, 263, 218, 176,\n",
       "       237, 141, 122, 136, 356,  27,  10,  32,  62, 196,  57, 127, 121,\n",
       "        76, 124, 179, 260, 105, 332, 315, 199,  80,  83, 114,  40, 219,\n",
       "       238, 207, 204, 230,  42, 146,   8,  93, 331, 235, 197, 149,  71,\n",
       "       242, 499, 137,  17, 371, 162, 130, 296, 252, 270, 148,  51, 164,\n",
       "       187, 134, 116,  49, 379, 158, 322, 215, 287, 232, 456,  37, 166,\n",
       "       167, 320,  12, 194, 214, 191, 389, 325,  85,  33, 233, 216,  69,\n",
       "       198, 368, 246, 201,  38, 184, 251,  77, 208, 210, 217, 174,  23,\n",
       "       387, 264, 285,  79, 205, 372, 183, 185, 213, 369,  58, 203,  44,\n",
       "       280, 262, 306,  43, 181, 308,  26, 386, 161, 288,  67, 257,  41,\n",
       "        21, 295,   6, 297, 170,  53, 222,  20, 539, 436, 432,  13, 259,\n",
       "       200, 228, 256,  59, 281,  22, 163, 361, 159, 437, 189, 239, 125,\n",
       "       227,  28,  14, 250,  19,  15, 300, 254,  30,  39, 382,  25, 169,\n",
       "        36, 211, 302, 353,  34, 240, 255, 434, 212, 273, 334, 186, 475,\n",
       "        31, 279, 376,  29, 236, 282, 272,  35, 226, 354, 221,   7, 570,\n",
       "       209, 249,   3, 253,  18, 299, 224, 305,  45, 223,  11, 293, 367,\n",
       "         9,   4, 275,   2])"
      ]
     },
     "execution_count": 45,
     "metadata": {},
     "output_type": "execute_result"
    }
   ],
   "source": [
    "#Peek into some values in the column\n",
    "HDB_df['total_dwelling_units'].unique()"
   ]
  },
  {
   "cell_type": "code",
   "execution_count": 46,
   "id": "b5dabc38-46ba-46e1-b7ed-74c0d0d7e287",
   "metadata": {
    "tags": []
   },
   "outputs": [
    {
     "data": {
      "text/html": [
       "<div>\n",
       "<style scoped>\n",
       "    .dataframe tbody tr th:only-of-type {\n",
       "        vertical-align: middle;\n",
       "    }\n",
       "\n",
       "    .dataframe tbody tr th {\n",
       "        vertical-align: top;\n",
       "    }\n",
       "\n",
       "    .dataframe thead th {\n",
       "        text-align: right;\n",
       "    }\n",
       "</style>\n",
       "<table border=\"1\" class=\"dataframe\">\n",
       "  <thead>\n",
       "    <tr style=\"text-align: right;\">\n",
       "      <th></th>\n",
       "      <th>total_dwelling_units</th>\n",
       "    </tr>\n",
       "  </thead>\n",
       "  <tbody>\n",
       "    <tr>\n",
       "      <th>count</th>\n",
       "      <td>149805.000000</td>\n",
       "    </tr>\n",
       "    <tr>\n",
       "      <th>mean</th>\n",
       "      <td>124.592070</td>\n",
       "    </tr>\n",
       "    <tr>\n",
       "      <th>std</th>\n",
       "      <td>58.309788</td>\n",
       "    </tr>\n",
       "    <tr>\n",
       "      <th>min</th>\n",
       "      <td>2.000000</td>\n",
       "    </tr>\n",
       "    <tr>\n",
       "      <th>25%</th>\n",
       "      <td>90.000000</td>\n",
       "    </tr>\n",
       "    <tr>\n",
       "      <th>50%</th>\n",
       "      <td>112.000000</td>\n",
       "    </tr>\n",
       "    <tr>\n",
       "      <th>75%</th>\n",
       "      <td>144.000000</td>\n",
       "    </tr>\n",
       "    <tr>\n",
       "      <th>max</th>\n",
       "      <td>570.000000</td>\n",
       "    </tr>\n",
       "  </tbody>\n",
       "</table>\n",
       "</div>"
      ],
      "text/plain": [
       "       total_dwelling_units\n",
       "count         149805.000000\n",
       "mean             124.592070\n",
       "std               58.309788\n",
       "min                2.000000\n",
       "25%               90.000000\n",
       "50%              112.000000\n",
       "75%              144.000000\n",
       "max              570.000000"
      ]
     },
     "execution_count": 46,
     "metadata": {},
     "output_type": "execute_result"
    }
   ],
   "source": [
    "#Checking for unusual numeric values\n",
    "HDB_df[['total_dwelling_units']].describe()"
   ]
  },
  {
   "cell_type": "code",
   "execution_count": 47,
   "id": "3410ec19-0f7b-4728-b0c8-b9b868445855",
   "metadata": {
    "tags": []
   },
   "outputs": [
    {
     "data": {
      "text/html": [
       "<div>\n",
       "<style scoped>\n",
       "    .dataframe tbody tr th:only-of-type {\n",
       "        vertical-align: middle;\n",
       "    }\n",
       "\n",
       "    .dataframe tbody tr th {\n",
       "        vertical-align: top;\n",
       "    }\n",
       "\n",
       "    .dataframe thead th {\n",
       "        text-align: right;\n",
       "    }\n",
       "</style>\n",
       "<table border=\"1\" class=\"dataframe\">\n",
       "  <thead>\n",
       "    <tr style=\"text-align: right;\">\n",
       "      <th></th>\n",
       "      <th>town</th>\n",
       "      <th>flat_type</th>\n",
       "      <th>block</th>\n",
       "      <th>street_name</th>\n",
       "      <th>floor_area_sqm</th>\n",
       "      <th>flat_model</th>\n",
       "      <th>lease_commence_year</th>\n",
       "      <th>resale_price</th>\n",
       "      <th>Tranc_Year</th>\n",
       "      <th>Tranc_Month</th>\n",
       "      <th>...</th>\n",
       "      <th>mrt_name</th>\n",
       "      <th>bus_interchange</th>\n",
       "      <th>mrt_interchange</th>\n",
       "      <th>bus_stop_nearest_distance</th>\n",
       "      <th>pri_sch_nearest_distance</th>\n",
       "      <th>pri_sch_name</th>\n",
       "      <th>vacancy</th>\n",
       "      <th>pri_sch_affiliation</th>\n",
       "      <th>sec_sch_nearest_dist</th>\n",
       "      <th>sec_sch_name</th>\n",
       "    </tr>\n",
       "  </thead>\n",
       "  <tbody>\n",
       "    <tr>\n",
       "      <th>76070</th>\n",
       "      <td>ANG MO KIO</td>\n",
       "      <td>3 ROOM</td>\n",
       "      <td>226E</td>\n",
       "      <td>ANG MO KIO AVE 1</td>\n",
       "      <td>66.0</td>\n",
       "      <td>Improved</td>\n",
       "      <td>1994</td>\n",
       "      <td>276800.0</td>\n",
       "      <td>2016</td>\n",
       "      <td>9</td>\n",
       "      <td>...</td>\n",
       "      <td>Ang Mo Kio</td>\n",
       "      <td>1</td>\n",
       "      <td>0</td>\n",
       "      <td>199.047391</td>\n",
       "      <td>299.880142</td>\n",
       "      <td>Ang Mo Kio Primary School</td>\n",
       "      <td>45</td>\n",
       "      <td>0</td>\n",
       "      <td>328.271509</td>\n",
       "      <td>Ang Mo Kio Secondary School</td>\n",
       "    </tr>\n",
       "    <tr>\n",
       "      <th>128986</th>\n",
       "      <td>BEDOK</td>\n",
       "      <td>EXECUTIVE</td>\n",
       "      <td>10C</td>\n",
       "      <td>BEDOK STH AVE 2</td>\n",
       "      <td>142.0</td>\n",
       "      <td>Apartment</td>\n",
       "      <td>1995</td>\n",
       "      <td>773000.0</td>\n",
       "      <td>2013</td>\n",
       "      <td>2</td>\n",
       "      <td>...</td>\n",
       "      <td>Bedok</td>\n",
       "      <td>1</td>\n",
       "      <td>0</td>\n",
       "      <td>283.774367</td>\n",
       "      <td>270.804283</td>\n",
       "      <td>Bedok Green Primary School</td>\n",
       "      <td>74</td>\n",
       "      <td>0</td>\n",
       "      <td>409.840257</td>\n",
       "      <td>Temasek Junior College</td>\n",
       "    </tr>\n",
       "    <tr>\n",
       "      <th>144098</th>\n",
       "      <td>ANG MO KIO</td>\n",
       "      <td>3 ROOM</td>\n",
       "      <td>226E</td>\n",
       "      <td>ANG MO KIO AVE 1</td>\n",
       "      <td>66.0</td>\n",
       "      <td>Improved</td>\n",
       "      <td>1994</td>\n",
       "      <td>285000.0</td>\n",
       "      <td>2012</td>\n",
       "      <td>4</td>\n",
       "      <td>...</td>\n",
       "      <td>Ang Mo Kio</td>\n",
       "      <td>1</td>\n",
       "      <td>0</td>\n",
       "      <td>199.047391</td>\n",
       "      <td>299.880142</td>\n",
       "      <td>Ang Mo Kio Primary School</td>\n",
       "      <td>45</td>\n",
       "      <td>0</td>\n",
       "      <td>328.271509</td>\n",
       "      <td>Ang Mo Kio Secondary School</td>\n",
       "    </tr>\n",
       "  </tbody>\n",
       "</table>\n",
       "<p>3 rows × 57 columns</p>\n",
       "</div>"
      ],
      "text/plain": [
       "              town  flat_type block       street_name  floor_area_sqm  \\\n",
       "76070   ANG MO KIO     3 ROOM  226E  ANG MO KIO AVE 1            66.0   \n",
       "128986       BEDOK  EXECUTIVE   10C   BEDOK STH AVE 2           142.0   \n",
       "144098  ANG MO KIO     3 ROOM  226E  ANG MO KIO AVE 1            66.0   \n",
       "\n",
       "       flat_model  lease_commence_year  resale_price  Tranc_Year  Tranc_Month  \\\n",
       "76070    Improved                 1994      276800.0        2016            9   \n",
       "128986  Apartment                 1995      773000.0        2013            2   \n",
       "144098   Improved                 1994      285000.0        2012            4   \n",
       "\n",
       "        ...    mrt_name  bus_interchange  mrt_interchange  \\\n",
       "76070   ...  Ang Mo Kio                1                0   \n",
       "128986  ...       Bedok                1                0   \n",
       "144098  ...  Ang Mo Kio                1                0   \n",
       "\n",
       "        bus_stop_nearest_distance  pri_sch_nearest_distance  \\\n",
       "76070                  199.047391                299.880142   \n",
       "128986                 283.774367                270.804283   \n",
       "144098                 199.047391                299.880142   \n",
       "\n",
       "                      pri_sch_name vacancy pri_sch_affiliation  \\\n",
       "76070    Ang Mo Kio Primary School      45                   0   \n",
       "128986  Bedok Green Primary School      74                   0   \n",
       "144098   Ang Mo Kio Primary School      45                   0   \n",
       "\n",
       "       sec_sch_nearest_dist                 sec_sch_name  \n",
       "76070            328.271509  Ang Mo Kio Secondary School  \n",
       "128986           409.840257       Temasek Junior College  \n",
       "144098           328.271509  Ang Mo Kio Secondary School  \n",
       "\n",
       "[3 rows x 57 columns]"
      ]
     },
     "execution_count": 47,
     "metadata": {},
     "output_type": "execute_result"
    }
   ],
   "source": [
    "#Exploring address of unusually low dwelling units\n",
    "HDB_df[HDB_df['total_dwelling_units']==2]"
   ]
  },
  {
   "cell_type": "markdown",
   "id": "f6f03e94-54c9-4041-a7ff-000ae62cbe5e",
   "metadata": {},
   "source": [
    "Minimum total dwelling units seems to be suspiciously low at only 2 units. Further research indicates that such units are either shophouses or low rise buildings thus acceptable as valid entries"
   ]
  },
  {
   "cell_type": "code",
   "execution_count": 48,
   "id": "34cb2bd6-5675-4c39-9f93-cb3f9c273143",
   "metadata": {
    "tags": []
   },
   "outputs": [
    {
     "data": {
      "text/plain": [
       "Index(['1room_sold', '2room_sold', '3room_sold', '4room_sold', '5room_sold',\n",
       "       'exec_sold', 'multigen_sold', 'studio_apartment_sold'],\n",
       "      dtype='object')"
      ]
     },
     "execution_count": 48,
     "metadata": {},
     "output_type": "execute_result"
    }
   ],
   "source": [
    "HDB_df.columns[21:29]"
   ]
  },
  {
   "cell_type": "markdown",
   "id": "0a48f28b-0567-482e-9a39-a73fe0049be8",
   "metadata": {},
   "source": [
    "#### Column 22 to 29: 1room_sold, 2room_sold, 3room_sold, 4room_sold, 5room_sold, exec_sold, multigen_sold, studio_apartment_sold"
   ]
  },
  {
   "cell_type": "code",
   "execution_count": 49,
   "id": "abb37c8d-2ff2-4434-9437-dfb7c36e05a0",
   "metadata": {
    "tags": []
   },
   "outputs": [
    {
     "name": "stdout",
     "output_type": "stream",
     "text": [
      "Column name: 1room_sold\n",
      "--------------------\n",
      "[  0 255]\n",
      "--------------------\n",
      "Column name: 2room_sold\n",
      "--------------------\n",
      "[  0   1   2   3   4   5   6   7   8   9  10  11  12  13  14  15  16  17\n",
      "  18  19  21  22  23  24  25  26  27  28  29  30  31  32  33  34  35  36\n",
      "  37  38  40  41  42  43  44  45  47  48  49  50  51  52  53  54  55  56\n",
      "  57  58  59  60  63  64  65  66  68  69  70  72  75  76  77  78  80  81\n",
      "  84  85  87  90  91  92  93  96  97  98 104 105 106 107 111 112 113 115\n",
      " 120 126 128 144 153 160 225]\n",
      "--------------------\n",
      "Column name: 3room_sold\n",
      "--------------------\n",
      "[  0   1   2   3   4   5   6   7   8   9  10  11  12  13  14  15  16  17\n",
      "  18  19  20  21  22  23  24  25  26  27  28  29  30  31  32  33  34  35\n",
      "  36  38  39  40  41  42  43  44  45  46  47  48  49  50  51  52  53  54\n",
      "  55  56  57  58  59  60  61  62  63  64  65  66  67  68  69  70  71  72\n",
      "  73  74  75  76  77  78  79  80  81  82  83  84  85  86  87  88  89  90\n",
      "  91  92  93  94  95  96  97  98  99 100 101 102 103 104 105 106 107 108\n",
      " 109 110 111 112 113 114 115 116 117 118 119 120 121 122 123 124 125 126\n",
      " 127 128 129 130 131 132 133 134 135 136 137 138 139 140 141 142 143 144\n",
      " 145 146 147 148 150 151 152 153 154 155 156 157 158 159 160 161 162 163\n",
      " 164 165 166 167 168 169 170 171 172 173 174 175 176 177 178 179 180 181\n",
      " 182 184 185 186 187 188 189 190 191 192 193 194 195 196 197 198 199 200\n",
      " 202 204 205 206 208 210 212 214 216 217 218 224 225 226 227 228 230 232\n",
      " 234 236 238 240 243 246 247 248 254 260 264 266 268 274 276 277 278 280\n",
      " 281 282 288 290 292 296 304 310 320 322 346 354 376 378 424 428 432 434\n",
      " 436 462 528]\n",
      "--------------------\n",
      "Column name: 4room_sold\n",
      "--------------------\n",
      "[  0   1   2   3   4   5   6   7   8   9  10  11  12  13  14  15  16  17\n",
      "  18  19  20  21  22  23  24  25  26  27  28  29  30  31  32  33  34  35\n",
      "  36  37  38  39  40  41  42  43  44  45  46  47  48  49  50  51  52  53\n",
      "  54  55  56  57  58  59  60  61  62  63  64  65  66  67  68  69  70  71\n",
      "  72  73  74  75  76  77  78  79  80  81  82  83  84  85  86  87  88  89\n",
      "  90  91  92  93  94  95  96  97  98  99 100 101 102 103 104 105 106 107\n",
      " 108 109 110 111 112 113 114 115 116 117 118 119 120 121 122 123 124 125\n",
      " 126 127 128 129 130 131 132 133 134 135 136 137 138 140 141 142 143 144\n",
      " 146 147 148 150 151 152 153 154 155 156 157 159 160 161 164 166 168 169\n",
      " 170 171 172 174 176 180 182 183 185 190 191 192 194 195 196 198 200 210\n",
      " 214 215 216 222 224 226 227 228 233 240 244 248 254 266 269 308 316]\n",
      "--------------------\n",
      "Column name: 5room_sold\n",
      "--------------------\n",
      "[  0   1   2   3   4   5   6   7   8   9  10  11  12  13  14  15  16  17\n",
      "  18  19  20  21  22  23  24  25  26  27  28  29  30  31  32  33  34  35\n",
      "  36  37  38  39  40  41  42  43  44  45  46  47  48  49  50  51  52  53\n",
      "  54  55  56  57  58  59  60  61  62  63  64  65  66  67  68  69  70  71\n",
      "  72  73  74  75  76  77  78  79  80  81  82  83  84  85  86  87  88  89\n",
      "  90  91  92  93  94  95  96  97  98  99 100 101 102 103 104 105 106 107\n",
      " 108 109 110 111 112 113 114 115 116 117 120 123 124 126 128 132 134 135\n",
      " 140 148 150 152 158 161 164]\n",
      "--------------------\n",
      "Column name: exec_sold\n",
      "--------------------\n",
      "[  0   1   2   3   4   5   6   7   8   9  10  11  12  13  14  15  16  17\n",
      "  18  19  20  21  22  23  24  25  26  27  28  29  30  31  32  35  36  37\n",
      "  38  39  40  41  42  43  44  45  46  47  48  49  50  51  52  53  54  55\n",
      "  56  57  58  60  61  62  63  64  65  66  67  68  70  72  73  74  75  76\n",
      "  77  78  80  81  82  84  85  86  88  90  92  93  94  95  96  98 100 102\n",
      " 108 109 110 111 116 120 123 124 125 126 129 132 135]\n",
      "--------------------\n",
      "Column name: multigen_sold\n",
      "--------------------\n",
      "[ 0 20 22 45 48 50 66]\n",
      "--------------------\n",
      "Column name: studio_apartment_sold\n",
      "--------------------\n",
      "[  0  11  16  17  19  21  23  25  28  29  31  33  34  35  36  37  38  39\n",
      "  41  42  43  44  45  47  48  50  52  54  59  61  65  66  68  71  74  75\n",
      "  76  77  78  79  80  81  82  85  87  92  94  97  98 101 105 118 122 123\n",
      " 131 132 142]\n",
      "--------------------\n"
     ]
    }
   ],
   "source": [
    "##Peek into some values in the column\n",
    "for i in HDB_df.columns[21:29]:\n",
    "    print(f'Column name: {i}')\n",
    "    print('--------------------')\n",
    "    print(np.sort(HDB_df[i].unique()))\n",
    "    print('--------------------')"
   ]
  },
  {
   "cell_type": "markdown",
   "id": "1356dcc8-ec76-4705-a734-a395d60c80c3",
   "metadata": {},
   "source": [
    "Nothing unusual"
   ]
  },
  {
   "cell_type": "markdown",
   "id": "fb666e8f-6301-48de-a1ab-c87dae3c2f5b",
   "metadata": {},
   "source": [
    "#### Column 30 to 33: 1room_rental, 2room_rental, 3room_rental, other_room_rental"
   ]
  },
  {
   "cell_type": "code",
   "execution_count": 50,
   "id": "3d3bd5a1-59bd-4a84-a62e-d1b8a033fdc7",
   "metadata": {
    "tags": []
   },
   "outputs": [
    {
     "name": "stdout",
     "output_type": "stream",
     "text": [
      "Column name: 1room_rental\n",
      "--------------------\n",
      "[  0   5  16  20  36  48  57  84  91 110]\n",
      "--------------------\n",
      "Column name: 2room_rental\n",
      "--------------------\n",
      "[  0   1   2   3   4   5   6  15  16  20  41  42  45  48  57  58  63  64\n",
      "  67  68  70  74  77  78  89  91  93 101 102 109 113 117 126 127 128 133\n",
      " 134 138 139 149 157 180 219 254 260 271 386 452]\n",
      "--------------------\n",
      "Column name: 3room_rental\n",
      "--------------------\n",
      "[ 0  1  2  3  4  5  7 10 12 13 14 15 17 24]\n",
      "--------------------\n",
      "Column name: other_room_rental\n",
      "--------------------\n",
      "[0 1 2]\n",
      "--------------------\n"
     ]
    }
   ],
   "source": [
    "#Peek into some values in the column\n",
    "for i in HDB_df.columns[29:33]:\n",
    "    print(f'Column name: {i}')\n",
    "    print('--------------------')\n",
    "    print(np.sort(HDB_df[i].unique()))\n",
    "    print('--------------------')"
   ]
  },
  {
   "cell_type": "markdown",
   "id": "0a8ed467-fdc8-480e-97d7-087fc0d77aa2",
   "metadata": {},
   "source": [
    "Nothing unusual"
   ]
  },
  {
   "cell_type": "markdown",
   "id": "ce51e598-1d22-4a2a-9ed1-46517120866b",
   "metadata": {},
   "source": [
    "#### Column 34 & 35: Latitude, Longitude"
   ]
  },
  {
   "cell_type": "code",
   "execution_count": 51,
   "id": "8f997db5-d88d-4c37-83fd-393721f86fe2",
   "metadata": {
    "tags": []
   },
   "outputs": [
    {
     "name": "stdout",
     "output_type": "stream",
     "text": [
      "Column name: Latitude\n",
      "--------------------\n",
      "[1.27037951 1.27091871 1.27140883 ... 1.45654601 1.45665764 1.45707122]\n",
      "--------------------\n",
      "Column name: Longitude\n",
      "--------------------\n",
      "[103.6852284 103.6852343 103.6859308 ... 103.986846  103.9874628\n",
      " 103.9878045]\n",
      "--------------------\n"
     ]
    }
   ],
   "source": [
    "#Peek into some values in the column\n",
    "for i in HDB_df.columns[33:35]:\n",
    "    print(f'Column name: {i}')\n",
    "    print('--------------------')\n",
    "    print(np.sort(HDB_df[i].unique()))\n",
    "    print('--------------------')"
   ]
  },
  {
   "cell_type": "code",
   "execution_count": 52,
   "id": "7aa3fac0-d07c-4d71-8ac5-e89774f27e15",
   "metadata": {
    "tags": []
   },
   "outputs": [
    {
     "data": {
      "text/html": [
       "<div>\n",
       "<style scoped>\n",
       "    .dataframe tbody tr th:only-of-type {\n",
       "        vertical-align: middle;\n",
       "    }\n",
       "\n",
       "    .dataframe tbody tr th {\n",
       "        vertical-align: top;\n",
       "    }\n",
       "\n",
       "    .dataframe thead th {\n",
       "        text-align: right;\n",
       "    }\n",
       "</style>\n",
       "<table border=\"1\" class=\"dataframe\">\n",
       "  <thead>\n",
       "    <tr style=\"text-align: right;\">\n",
       "      <th></th>\n",
       "      <th>Latitude</th>\n",
       "    </tr>\n",
       "  </thead>\n",
       "  <tbody>\n",
       "    <tr>\n",
       "      <th>count</th>\n",
       "      <td>149805.000000</td>\n",
       "    </tr>\n",
       "    <tr>\n",
       "      <th>mean</th>\n",
       "      <td>1.366193</td>\n",
       "    </tr>\n",
       "    <tr>\n",
       "      <th>std</th>\n",
       "      <td>0.042871</td>\n",
       "    </tr>\n",
       "    <tr>\n",
       "      <th>min</th>\n",
       "      <td>1.270380</td>\n",
       "    </tr>\n",
       "    <tr>\n",
       "      <th>25%</th>\n",
       "      <td>1.336285</td>\n",
       "    </tr>\n",
       "    <tr>\n",
       "      <th>50%</th>\n",
       "      <td>1.363347</td>\n",
       "    </tr>\n",
       "    <tr>\n",
       "      <th>75%</th>\n",
       "      <td>1.393280</td>\n",
       "    </tr>\n",
       "    <tr>\n",
       "      <th>max</th>\n",
       "      <td>1.457071</td>\n",
       "    </tr>\n",
       "  </tbody>\n",
       "</table>\n",
       "</div>"
      ],
      "text/plain": [
       "            Latitude\n",
       "count  149805.000000\n",
       "mean        1.366193\n",
       "std         0.042871\n",
       "min         1.270380\n",
       "25%         1.336285\n",
       "50%         1.363347\n",
       "75%         1.393280\n",
       "max         1.457071"
      ]
     },
     "execution_count": 52,
     "metadata": {},
     "output_type": "execute_result"
    }
   ],
   "source": [
    "#Checking for unusual numeric values\n",
    "HDB_df[['Latitude']].describe()"
   ]
  },
  {
   "cell_type": "code",
   "execution_count": 53,
   "id": "76d3e0fe-ee14-4ca5-b86c-85ae94dc3ef6",
   "metadata": {
    "tags": []
   },
   "outputs": [
    {
     "data": {
      "text/html": [
       "<div>\n",
       "<style scoped>\n",
       "    .dataframe tbody tr th:only-of-type {\n",
       "        vertical-align: middle;\n",
       "    }\n",
       "\n",
       "    .dataframe tbody tr th {\n",
       "        vertical-align: top;\n",
       "    }\n",
       "\n",
       "    .dataframe thead th {\n",
       "        text-align: right;\n",
       "    }\n",
       "</style>\n",
       "<table border=\"1\" class=\"dataframe\">\n",
       "  <thead>\n",
       "    <tr style=\"text-align: right;\">\n",
       "      <th></th>\n",
       "      <th>Longitude</th>\n",
       "    </tr>\n",
       "  </thead>\n",
       "  <tbody>\n",
       "    <tr>\n",
       "      <th>count</th>\n",
       "      <td>149805.000000</td>\n",
       "    </tr>\n",
       "    <tr>\n",
       "      <th>mean</th>\n",
       "      <td>103.839322</td>\n",
       "    </tr>\n",
       "    <tr>\n",
       "      <th>std</th>\n",
       "      <td>0.072513</td>\n",
       "    </tr>\n",
       "    <tr>\n",
       "      <th>min</th>\n",
       "      <td>103.685228</td>\n",
       "    </tr>\n",
       "    <tr>\n",
       "      <th>25%</th>\n",
       "      <td>103.774856</td>\n",
       "    </tr>\n",
       "    <tr>\n",
       "      <th>50%</th>\n",
       "      <td>103.844894</td>\n",
       "    </tr>\n",
       "    <tr>\n",
       "      <th>75%</th>\n",
       "      <td>103.898737</td>\n",
       "    </tr>\n",
       "    <tr>\n",
       "      <th>max</th>\n",
       "      <td>103.987804</td>\n",
       "    </tr>\n",
       "  </tbody>\n",
       "</table>\n",
       "</div>"
      ],
      "text/plain": [
       "           Longitude\n",
       "count  149805.000000\n",
       "mean      103.839322\n",
       "std         0.072513\n",
       "min       103.685228\n",
       "25%       103.774856\n",
       "50%       103.844894\n",
       "75%       103.898737\n",
       "max       103.987804"
      ]
     },
     "execution_count": 53,
     "metadata": {},
     "output_type": "execute_result"
    }
   ],
   "source": [
    "#Checking for unusual numeric values\n",
    "HDB_df[['Longitude']].describe()"
   ]
  },
  {
   "cell_type": "markdown",
   "id": "ee1c6b1b-aec4-43b3-bc33-50b9db5c1362",
   "metadata": {},
   "source": [
    "Latitude is within the range of -90 to 90 and Longitude is within range of -180 to 180, no anomaly"
   ]
  },
  {
   "cell_type": "markdown",
   "id": "421e79cb-2a3d-42d6-b0a9-885282502bc5",
   "metadata": {},
   "source": [
    "#### Column 36 : planning_area"
   ]
  },
  {
   "cell_type": "code",
   "execution_count": 54,
   "id": "a9da6754-1955-458e-8f84-53ad979821a8",
   "metadata": {
    "tags": []
   },
   "outputs": [
    {
     "data": {
      "text/plain": [
       "array(['Kallang', 'Bishan', 'Bukit Batok', 'Yishun', 'Geylang', 'Hougang',\n",
       "       'Bedok', 'Sengkang', 'Tampines', 'Serangoon', 'Bukit Merah',\n",
       "       'Bukit Panjang', 'Woodlands', 'Jurong West', 'Toa Payoh',\n",
       "       'Choa Chu Kang', 'Sembawang', 'Novena', 'Ang Mo Kio', 'Pasir Ris',\n",
       "       'Clementi', 'Punggol', 'Jurong East', 'Rochor', 'Queenstown',\n",
       "       'Bukit Timah', 'Outram', 'Tanglin', 'Marine Parade',\n",
       "       'Western Water Catchment', 'Downtown Core', 'Changi'], dtype=object)"
      ]
     },
     "execution_count": 54,
     "metadata": {},
     "output_type": "execute_result"
    }
   ],
   "source": [
    "#Peek into some values in the column\n",
    "HDB_df['planning_area'].unique()"
   ]
  },
  {
   "cell_type": "markdown",
   "id": "03129f36-b571-4e78-8c92-5805ee7d47b1",
   "metadata": {},
   "source": [
    "Nothing unusual"
   ]
  },
  {
   "cell_type": "markdown",
   "id": "aed93abc-8b89-444e-8436-2d4103f96dfc",
   "metadata": {},
   "source": [
    "#### Column 37 : Mall_Nearest_Distance"
   ]
  },
  {
   "cell_type": "code",
   "execution_count": 55,
   "id": "a1399d45-bcfc-404d-a1af-b43ec4fc1ca0",
   "metadata": {
    "tags": []
   },
   "outputs": [
    {
     "data": {
      "text/plain": [
       "array([1094.090418 ,  866.9414477, 1459.579948 , ...,  362.8644234,\n",
       "       1034.645191 , 1699.150022 ])"
      ]
     },
     "execution_count": 55,
     "metadata": {},
     "output_type": "execute_result"
    }
   ],
   "source": [
    "#Peek into some values in the column\n",
    "HDB_df['Mall_Nearest_Distance'].unique()"
   ]
  },
  {
   "cell_type": "code",
   "execution_count": 56,
   "id": "f4ef8351-012c-4c7b-997b-4c231befa3e3",
   "metadata": {
    "tags": []
   },
   "outputs": [
    {
     "data": {
      "text/html": [
       "<div>\n",
       "<style scoped>\n",
       "    .dataframe tbody tr th:only-of-type {\n",
       "        vertical-align: middle;\n",
       "    }\n",
       "\n",
       "    .dataframe tbody tr th {\n",
       "        vertical-align: top;\n",
       "    }\n",
       "\n",
       "    .dataframe thead th {\n",
       "        text-align: right;\n",
       "    }\n",
       "</style>\n",
       "<table border=\"1\" class=\"dataframe\">\n",
       "  <thead>\n",
       "    <tr style=\"text-align: right;\">\n",
       "      <th></th>\n",
       "      <th>Mall_Nearest_Distance</th>\n",
       "    </tr>\n",
       "  </thead>\n",
       "  <tbody>\n",
       "    <tr>\n",
       "      <th>count</th>\n",
       "      <td>149805.000000</td>\n",
       "    </tr>\n",
       "    <tr>\n",
       "      <th>mean</th>\n",
       "      <td>664.239826</td>\n",
       "    </tr>\n",
       "    <tr>\n",
       "      <th>std</th>\n",
       "      <td>368.739209</td>\n",
       "    </tr>\n",
       "    <tr>\n",
       "      <th>min</th>\n",
       "      <td>0.000000</td>\n",
       "    </tr>\n",
       "    <tr>\n",
       "      <th>25%</th>\n",
       "      <td>391.473823</td>\n",
       "    </tr>\n",
       "    <tr>\n",
       "      <th>50%</th>\n",
       "      <td>602.818388</td>\n",
       "    </tr>\n",
       "    <tr>\n",
       "      <th>75%</th>\n",
       "      <td>868.818288</td>\n",
       "    </tr>\n",
       "    <tr>\n",
       "      <th>max</th>\n",
       "      <td>3496.402910</td>\n",
       "    </tr>\n",
       "  </tbody>\n",
       "</table>\n",
       "</div>"
      ],
      "text/plain": [
       "       Mall_Nearest_Distance\n",
       "count          149805.000000\n",
       "mean              664.239826\n",
       "std               368.739209\n",
       "min                 0.000000\n",
       "25%               391.473823\n",
       "50%               602.818388\n",
       "75%               868.818288\n",
       "max              3496.402910"
      ]
     },
     "execution_count": 56,
     "metadata": {},
     "output_type": "execute_result"
    }
   ],
   "source": [
    "#Checking for unusual numeric values\n",
    "HDB_df[['Mall_Nearest_Distance']].describe()"
   ]
  },
  {
   "cell_type": "markdown",
   "id": "e0ad8d37-e270-4c58-9290-436be607b772",
   "metadata": {},
   "source": [
    "Suspicious minimum distance to nearest mall of zero metres"
   ]
  },
  {
   "cell_type": "code",
   "execution_count": 57,
   "id": "b480765f-1ba7-4fec-9a61-ffb93cab7dc1",
   "metadata": {
    "tags": []
   },
   "outputs": [
    {
     "data": {
      "text/html": [
       "<div>\n",
       "<style scoped>\n",
       "    .dataframe tbody tr th:only-of-type {\n",
       "        vertical-align: middle;\n",
       "    }\n",
       "\n",
       "    .dataframe tbody tr th {\n",
       "        vertical-align: top;\n",
       "    }\n",
       "\n",
       "    .dataframe thead th {\n",
       "        text-align: right;\n",
       "    }\n",
       "</style>\n",
       "<table border=\"1\" class=\"dataframe\">\n",
       "  <thead>\n",
       "    <tr style=\"text-align: right;\">\n",
       "      <th></th>\n",
       "      <th>town</th>\n",
       "      <th>flat_type</th>\n",
       "      <th>block</th>\n",
       "      <th>street_name</th>\n",
       "      <th>floor_area_sqm</th>\n",
       "      <th>flat_model</th>\n",
       "      <th>lease_commence_year</th>\n",
       "      <th>resale_price</th>\n",
       "      <th>Tranc_Year</th>\n",
       "      <th>Tranc_Month</th>\n",
       "      <th>...</th>\n",
       "      <th>mrt_name</th>\n",
       "      <th>bus_interchange</th>\n",
       "      <th>mrt_interchange</th>\n",
       "      <th>bus_stop_nearest_distance</th>\n",
       "      <th>pri_sch_nearest_distance</th>\n",
       "      <th>pri_sch_name</th>\n",
       "      <th>vacancy</th>\n",
       "      <th>pri_sch_affiliation</th>\n",
       "      <th>sec_sch_nearest_dist</th>\n",
       "      <th>sec_sch_name</th>\n",
       "    </tr>\n",
       "  </thead>\n",
       "  <tbody>\n",
       "    <tr>\n",
       "      <th>441</th>\n",
       "      <td>WOODLANDS</td>\n",
       "      <td>5 ROOM</td>\n",
       "      <td>680</td>\n",
       "      <td>WOODLANDS AVE 6</td>\n",
       "      <td>123.0</td>\n",
       "      <td>Improved</td>\n",
       "      <td>1998</td>\n",
       "      <td>479888.0</td>\n",
       "      <td>2019</td>\n",
       "      <td>5</td>\n",
       "      <td>...</td>\n",
       "      <td>Admiralty</td>\n",
       "      <td>0</td>\n",
       "      <td>0</td>\n",
       "      <td>44.555637</td>\n",
       "      <td>283.774985</td>\n",
       "      <td>Greenwood Primary School</td>\n",
       "      <td>61</td>\n",
       "      <td>0</td>\n",
       "      <td>429.863620</td>\n",
       "      <td>Woodlands Ring Secondary School</td>\n",
       "    </tr>\n",
       "    <tr>\n",
       "      <th>3512</th>\n",
       "      <td>CHOA CHU KANG</td>\n",
       "      <td>5 ROOM</td>\n",
       "      <td>137</td>\n",
       "      <td>TECK WHYE LANE</td>\n",
       "      <td>120.0</td>\n",
       "      <td>Improved</td>\n",
       "      <td>1989</td>\n",
       "      <td>430000.0</td>\n",
       "      <td>2012</td>\n",
       "      <td>3</td>\n",
       "      <td>...</td>\n",
       "      <td>Bukit Panjang</td>\n",
       "      <td>1</td>\n",
       "      <td>1</td>\n",
       "      <td>189.439711</td>\n",
       "      <td>413.180046</td>\n",
       "      <td>Teck Whye Primary School</td>\n",
       "      <td>73</td>\n",
       "      <td>0</td>\n",
       "      <td>362.158091</td>\n",
       "      <td>Chua Chu Kang Secondary School</td>\n",
       "    </tr>\n",
       "    <tr>\n",
       "      <th>10018</th>\n",
       "      <td>JURONG WEST</td>\n",
       "      <td>5 ROOM</td>\n",
       "      <td>221</td>\n",
       "      <td>BOON LAY PL</td>\n",
       "      <td>109.0</td>\n",
       "      <td>Standard</td>\n",
       "      <td>1979</td>\n",
       "      <td>418000.0</td>\n",
       "      <td>2015</td>\n",
       "      <td>1</td>\n",
       "      <td>...</td>\n",
       "      <td>Lakeside</td>\n",
       "      <td>0</td>\n",
       "      <td>0</td>\n",
       "      <td>65.485775</td>\n",
       "      <td>396.050713</td>\n",
       "      <td>Boon Lay Garden Primary School</td>\n",
       "      <td>90</td>\n",
       "      <td>0</td>\n",
       "      <td>445.049959</td>\n",
       "      <td>River Valley High School</td>\n",
       "    </tr>\n",
       "    <tr>\n",
       "      <th>11629</th>\n",
       "      <td>CHOA CHU KANG</td>\n",
       "      <td>4 ROOM</td>\n",
       "      <td>137</td>\n",
       "      <td>TECK WHYE LANE</td>\n",
       "      <td>103.0</td>\n",
       "      <td>Model A</td>\n",
       "      <td>1989</td>\n",
       "      <td>388000.0</td>\n",
       "      <td>2012</td>\n",
       "      <td>8</td>\n",
       "      <td>...</td>\n",
       "      <td>Bukit Panjang</td>\n",
       "      <td>1</td>\n",
       "      <td>1</td>\n",
       "      <td>189.439711</td>\n",
       "      <td>413.180046</td>\n",
       "      <td>Teck Whye Primary School</td>\n",
       "      <td>73</td>\n",
       "      <td>0</td>\n",
       "      <td>362.158091</td>\n",
       "      <td>Chua Chu Kang Secondary School</td>\n",
       "    </tr>\n",
       "    <tr>\n",
       "      <th>31901</th>\n",
       "      <td>CHOA CHU KANG</td>\n",
       "      <td>4 ROOM</td>\n",
       "      <td>137</td>\n",
       "      <td>TECK WHYE LANE</td>\n",
       "      <td>106.0</td>\n",
       "      <td>Model A</td>\n",
       "      <td>1989</td>\n",
       "      <td>315000.0</td>\n",
       "      <td>2018</td>\n",
       "      <td>11</td>\n",
       "      <td>...</td>\n",
       "      <td>Bukit Panjang</td>\n",
       "      <td>1</td>\n",
       "      <td>1</td>\n",
       "      <td>189.439711</td>\n",
       "      <td>413.180046</td>\n",
       "      <td>Teck Whye Primary School</td>\n",
       "      <td>73</td>\n",
       "      <td>0</td>\n",
       "      <td>362.158091</td>\n",
       "      <td>Chua Chu Kang Secondary School</td>\n",
       "    </tr>\n",
       "    <tr>\n",
       "      <th>35492</th>\n",
       "      <td>JURONG WEST</td>\n",
       "      <td>5 ROOM</td>\n",
       "      <td>221</td>\n",
       "      <td>BOON LAY PL</td>\n",
       "      <td>109.0</td>\n",
       "      <td>Standard</td>\n",
       "      <td>1979</td>\n",
       "      <td>410000.0</td>\n",
       "      <td>2016</td>\n",
       "      <td>6</td>\n",
       "      <td>...</td>\n",
       "      <td>Lakeside</td>\n",
       "      <td>0</td>\n",
       "      <td>0</td>\n",
       "      <td>65.485775</td>\n",
       "      <td>396.050713</td>\n",
       "      <td>Boon Lay Garden Primary School</td>\n",
       "      <td>90</td>\n",
       "      <td>0</td>\n",
       "      <td>445.049959</td>\n",
       "      <td>River Valley High School</td>\n",
       "    </tr>\n",
       "    <tr>\n",
       "      <th>55464</th>\n",
       "      <td>WOODLANDS</td>\n",
       "      <td>5 ROOM</td>\n",
       "      <td>680</td>\n",
       "      <td>WOODLANDS AVE 6</td>\n",
       "      <td>123.0</td>\n",
       "      <td>Improved</td>\n",
       "      <td>1998</td>\n",
       "      <td>470000.0</td>\n",
       "      <td>2017</td>\n",
       "      <td>4</td>\n",
       "      <td>...</td>\n",
       "      <td>Admiralty</td>\n",
       "      <td>0</td>\n",
       "      <td>0</td>\n",
       "      <td>44.555637</td>\n",
       "      <td>283.774985</td>\n",
       "      <td>Greenwood Primary School</td>\n",
       "      <td>61</td>\n",
       "      <td>0</td>\n",
       "      <td>429.863620</td>\n",
       "      <td>Woodlands Ring Secondary School</td>\n",
       "    </tr>\n",
       "    <tr>\n",
       "      <th>57146</th>\n",
       "      <td>WOODLANDS</td>\n",
       "      <td>5 ROOM</td>\n",
       "      <td>680</td>\n",
       "      <td>WOODLANDS AVE 6</td>\n",
       "      <td>123.0</td>\n",
       "      <td>Improved</td>\n",
       "      <td>1998</td>\n",
       "      <td>435000.0</td>\n",
       "      <td>2017</td>\n",
       "      <td>1</td>\n",
       "      <td>...</td>\n",
       "      <td>Admiralty</td>\n",
       "      <td>0</td>\n",
       "      <td>0</td>\n",
       "      <td>44.555637</td>\n",
       "      <td>283.774985</td>\n",
       "      <td>Greenwood Primary School</td>\n",
       "      <td>61</td>\n",
       "      <td>0</td>\n",
       "      <td>429.863620</td>\n",
       "      <td>Woodlands Ring Secondary School</td>\n",
       "    </tr>\n",
       "    <tr>\n",
       "      <th>61096</th>\n",
       "      <td>WOODLANDS</td>\n",
       "      <td>4 ROOM</td>\n",
       "      <td>680</td>\n",
       "      <td>WOODLANDS AVE 6</td>\n",
       "      <td>101.0</td>\n",
       "      <td>Model A</td>\n",
       "      <td>1998</td>\n",
       "      <td>400000.0</td>\n",
       "      <td>2019</td>\n",
       "      <td>3</td>\n",
       "      <td>...</td>\n",
       "      <td>Admiralty</td>\n",
       "      <td>0</td>\n",
       "      <td>0</td>\n",
       "      <td>44.555637</td>\n",
       "      <td>283.774985</td>\n",
       "      <td>Greenwood Primary School</td>\n",
       "      <td>61</td>\n",
       "      <td>0</td>\n",
       "      <td>429.863620</td>\n",
       "      <td>Woodlands Ring Secondary School</td>\n",
       "    </tr>\n",
       "    <tr>\n",
       "      <th>66387</th>\n",
       "      <td>WOODLANDS</td>\n",
       "      <td>4 ROOM</td>\n",
       "      <td>680</td>\n",
       "      <td>WOODLANDS AVE 6</td>\n",
       "      <td>101.0</td>\n",
       "      <td>Model A</td>\n",
       "      <td>1998</td>\n",
       "      <td>430000.0</td>\n",
       "      <td>2012</td>\n",
       "      <td>10</td>\n",
       "      <td>...</td>\n",
       "      <td>Admiralty</td>\n",
       "      <td>0</td>\n",
       "      <td>0</td>\n",
       "      <td>44.555637</td>\n",
       "      <td>283.774985</td>\n",
       "      <td>Greenwood Primary School</td>\n",
       "      <td>61</td>\n",
       "      <td>0</td>\n",
       "      <td>429.863620</td>\n",
       "      <td>Woodlands Ring Secondary School</td>\n",
       "    </tr>\n",
       "    <tr>\n",
       "      <th>72163</th>\n",
       "      <td>WOODLANDS</td>\n",
       "      <td>5 ROOM</td>\n",
       "      <td>680</td>\n",
       "      <td>WOODLANDS AVE 6</td>\n",
       "      <td>121.0</td>\n",
       "      <td>Improved</td>\n",
       "      <td>1998</td>\n",
       "      <td>570000.0</td>\n",
       "      <td>2013</td>\n",
       "      <td>2</td>\n",
       "      <td>...</td>\n",
       "      <td>Admiralty</td>\n",
       "      <td>0</td>\n",
       "      <td>0</td>\n",
       "      <td>44.555637</td>\n",
       "      <td>283.774985</td>\n",
       "      <td>Greenwood Primary School</td>\n",
       "      <td>61</td>\n",
       "      <td>0</td>\n",
       "      <td>429.863620</td>\n",
       "      <td>Woodlands Ring Secondary School</td>\n",
       "    </tr>\n",
       "    <tr>\n",
       "      <th>76644</th>\n",
       "      <td>WOODLANDS</td>\n",
       "      <td>4 ROOM</td>\n",
       "      <td>680</td>\n",
       "      <td>WOODLANDS AVE 6</td>\n",
       "      <td>101.0</td>\n",
       "      <td>Model A</td>\n",
       "      <td>1998</td>\n",
       "      <td>425888.0</td>\n",
       "      <td>2020</td>\n",
       "      <td>8</td>\n",
       "      <td>...</td>\n",
       "      <td>Admiralty</td>\n",
       "      <td>0</td>\n",
       "      <td>0</td>\n",
       "      <td>44.555637</td>\n",
       "      <td>283.774985</td>\n",
       "      <td>Greenwood Primary School</td>\n",
       "      <td>61</td>\n",
       "      <td>0</td>\n",
       "      <td>429.863620</td>\n",
       "      <td>Woodlands Ring Secondary School</td>\n",
       "    </tr>\n",
       "    <tr>\n",
       "      <th>76687</th>\n",
       "      <td>WOODLANDS</td>\n",
       "      <td>5 ROOM</td>\n",
       "      <td>680</td>\n",
       "      <td>WOODLANDS AVE 6</td>\n",
       "      <td>123.0</td>\n",
       "      <td>Improved</td>\n",
       "      <td>1998</td>\n",
       "      <td>472000.0</td>\n",
       "      <td>2016</td>\n",
       "      <td>10</td>\n",
       "      <td>...</td>\n",
       "      <td>Admiralty</td>\n",
       "      <td>0</td>\n",
       "      <td>0</td>\n",
       "      <td>44.555637</td>\n",
       "      <td>283.774985</td>\n",
       "      <td>Greenwood Primary School</td>\n",
       "      <td>61</td>\n",
       "      <td>0</td>\n",
       "      <td>429.863620</td>\n",
       "      <td>Woodlands Ring Secondary School</td>\n",
       "    </tr>\n",
       "    <tr>\n",
       "      <th>80475</th>\n",
       "      <td>WOODLANDS</td>\n",
       "      <td>4 ROOM</td>\n",
       "      <td>680</td>\n",
       "      <td>WOODLANDS AVE 6</td>\n",
       "      <td>102.0</td>\n",
       "      <td>Model A</td>\n",
       "      <td>1998</td>\n",
       "      <td>395000.0</td>\n",
       "      <td>2015</td>\n",
       "      <td>7</td>\n",
       "      <td>...</td>\n",
       "      <td>Admiralty</td>\n",
       "      <td>0</td>\n",
       "      <td>0</td>\n",
       "      <td>44.555637</td>\n",
       "      <td>283.774985</td>\n",
       "      <td>Greenwood Primary School</td>\n",
       "      <td>61</td>\n",
       "      <td>0</td>\n",
       "      <td>429.863620</td>\n",
       "      <td>Woodlands Ring Secondary School</td>\n",
       "    </tr>\n",
       "    <tr>\n",
       "      <th>83822</th>\n",
       "      <td>WOODLANDS</td>\n",
       "      <td>4 ROOM</td>\n",
       "      <td>680</td>\n",
       "      <td>WOODLANDS AVE 6</td>\n",
       "      <td>101.0</td>\n",
       "      <td>Model A</td>\n",
       "      <td>1998</td>\n",
       "      <td>368000.0</td>\n",
       "      <td>2017</td>\n",
       "      <td>5</td>\n",
       "      <td>...</td>\n",
       "      <td>Admiralty</td>\n",
       "      <td>0</td>\n",
       "      <td>0</td>\n",
       "      <td>44.555637</td>\n",
       "      <td>283.774985</td>\n",
       "      <td>Greenwood Primary School</td>\n",
       "      <td>61</td>\n",
       "      <td>0</td>\n",
       "      <td>429.863620</td>\n",
       "      <td>Woodlands Ring Secondary School</td>\n",
       "    </tr>\n",
       "    <tr>\n",
       "      <th>89330</th>\n",
       "      <td>JURONG WEST</td>\n",
       "      <td>5 ROOM</td>\n",
       "      <td>221</td>\n",
       "      <td>BOON LAY PL</td>\n",
       "      <td>109.0</td>\n",
       "      <td>Standard</td>\n",
       "      <td>1979</td>\n",
       "      <td>442000.0</td>\n",
       "      <td>2013</td>\n",
       "      <td>1</td>\n",
       "      <td>...</td>\n",
       "      <td>Lakeside</td>\n",
       "      <td>0</td>\n",
       "      <td>0</td>\n",
       "      <td>65.485775</td>\n",
       "      <td>396.050713</td>\n",
       "      <td>Boon Lay Garden Primary School</td>\n",
       "      <td>90</td>\n",
       "      <td>0</td>\n",
       "      <td>445.049959</td>\n",
       "      <td>River Valley High School</td>\n",
       "    </tr>\n",
       "    <tr>\n",
       "      <th>93263</th>\n",
       "      <td>JURONG WEST</td>\n",
       "      <td>5 ROOM</td>\n",
       "      <td>221</td>\n",
       "      <td>BOON LAY PL</td>\n",
       "      <td>109.0</td>\n",
       "      <td>Standard</td>\n",
       "      <td>1979</td>\n",
       "      <td>323000.0</td>\n",
       "      <td>2020</td>\n",
       "      <td>7</td>\n",
       "      <td>...</td>\n",
       "      <td>Lakeside</td>\n",
       "      <td>0</td>\n",
       "      <td>0</td>\n",
       "      <td>65.485775</td>\n",
       "      <td>396.050713</td>\n",
       "      <td>Boon Lay Garden Primary School</td>\n",
       "      <td>90</td>\n",
       "      <td>0</td>\n",
       "      <td>445.049959</td>\n",
       "      <td>River Valley High School</td>\n",
       "    </tr>\n",
       "    <tr>\n",
       "      <th>95026</th>\n",
       "      <td>WOODLANDS</td>\n",
       "      <td>4 ROOM</td>\n",
       "      <td>680</td>\n",
       "      <td>WOODLANDS AVE 6</td>\n",
       "      <td>102.0</td>\n",
       "      <td>Model A</td>\n",
       "      <td>1998</td>\n",
       "      <td>472000.0</td>\n",
       "      <td>2013</td>\n",
       "      <td>4</td>\n",
       "      <td>...</td>\n",
       "      <td>Admiralty</td>\n",
       "      <td>0</td>\n",
       "      <td>0</td>\n",
       "      <td>44.555637</td>\n",
       "      <td>283.774985</td>\n",
       "      <td>Greenwood Primary School</td>\n",
       "      <td>61</td>\n",
       "      <td>0</td>\n",
       "      <td>429.863620</td>\n",
       "      <td>Woodlands Ring Secondary School</td>\n",
       "    </tr>\n",
       "    <tr>\n",
       "      <th>96233</th>\n",
       "      <td>WOODLANDS</td>\n",
       "      <td>5 ROOM</td>\n",
       "      <td>680</td>\n",
       "      <td>WOODLANDS AVE 6</td>\n",
       "      <td>123.0</td>\n",
       "      <td>Improved</td>\n",
       "      <td>1998</td>\n",
       "      <td>480000.0</td>\n",
       "      <td>2017</td>\n",
       "      <td>4</td>\n",
       "      <td>...</td>\n",
       "      <td>Admiralty</td>\n",
       "      <td>0</td>\n",
       "      <td>0</td>\n",
       "      <td>44.555637</td>\n",
       "      <td>283.774985</td>\n",
       "      <td>Greenwood Primary School</td>\n",
       "      <td>61</td>\n",
       "      <td>0</td>\n",
       "      <td>429.863620</td>\n",
       "      <td>Woodlands Ring Secondary School</td>\n",
       "    </tr>\n",
       "    <tr>\n",
       "      <th>101255</th>\n",
       "      <td>JURONG WEST</td>\n",
       "      <td>5 ROOM</td>\n",
       "      <td>221</td>\n",
       "      <td>BOON LAY PL</td>\n",
       "      <td>109.0</td>\n",
       "      <td>Standard</td>\n",
       "      <td>1979</td>\n",
       "      <td>395000.0</td>\n",
       "      <td>2017</td>\n",
       "      <td>3</td>\n",
       "      <td>...</td>\n",
       "      <td>Lakeside</td>\n",
       "      <td>0</td>\n",
       "      <td>0</td>\n",
       "      <td>65.485775</td>\n",
       "      <td>396.050713</td>\n",
       "      <td>Boon Lay Garden Primary School</td>\n",
       "      <td>90</td>\n",
       "      <td>0</td>\n",
       "      <td>445.049959</td>\n",
       "      <td>River Valley High School</td>\n",
       "    </tr>\n",
       "    <tr>\n",
       "      <th>105208</th>\n",
       "      <td>WOODLANDS</td>\n",
       "      <td>4 ROOM</td>\n",
       "      <td>680</td>\n",
       "      <td>WOODLANDS AVE 6</td>\n",
       "      <td>102.0</td>\n",
       "      <td>Model A</td>\n",
       "      <td>1998</td>\n",
       "      <td>438000.0</td>\n",
       "      <td>2014</td>\n",
       "      <td>8</td>\n",
       "      <td>...</td>\n",
       "      <td>Admiralty</td>\n",
       "      <td>0</td>\n",
       "      <td>0</td>\n",
       "      <td>44.555637</td>\n",
       "      <td>283.774985</td>\n",
       "      <td>Greenwood Primary School</td>\n",
       "      <td>61</td>\n",
       "      <td>0</td>\n",
       "      <td>429.863620</td>\n",
       "      <td>Woodlands Ring Secondary School</td>\n",
       "    </tr>\n",
       "    <tr>\n",
       "      <th>108689</th>\n",
       "      <td>WOODLANDS</td>\n",
       "      <td>5 ROOM</td>\n",
       "      <td>680</td>\n",
       "      <td>WOODLANDS AVE 6</td>\n",
       "      <td>123.0</td>\n",
       "      <td>Improved</td>\n",
       "      <td>1998</td>\n",
       "      <td>450000.0</td>\n",
       "      <td>2017</td>\n",
       "      <td>9</td>\n",
       "      <td>...</td>\n",
       "      <td>Admiralty</td>\n",
       "      <td>0</td>\n",
       "      <td>0</td>\n",
       "      <td>44.555637</td>\n",
       "      <td>283.774985</td>\n",
       "      <td>Greenwood Primary School</td>\n",
       "      <td>61</td>\n",
       "      <td>0</td>\n",
       "      <td>429.863620</td>\n",
       "      <td>Woodlands Ring Secondary School</td>\n",
       "    </tr>\n",
       "    <tr>\n",
       "      <th>111161</th>\n",
       "      <td>WOODLANDS</td>\n",
       "      <td>5 ROOM</td>\n",
       "      <td>680</td>\n",
       "      <td>WOODLANDS AVE 6</td>\n",
       "      <td>121.0</td>\n",
       "      <td>Improved</td>\n",
       "      <td>1998</td>\n",
       "      <td>450000.0</td>\n",
       "      <td>2020</td>\n",
       "      <td>6</td>\n",
       "      <td>...</td>\n",
       "      <td>Admiralty</td>\n",
       "      <td>0</td>\n",
       "      <td>0</td>\n",
       "      <td>44.555637</td>\n",
       "      <td>283.774985</td>\n",
       "      <td>Greenwood Primary School</td>\n",
       "      <td>61</td>\n",
       "      <td>0</td>\n",
       "      <td>429.863620</td>\n",
       "      <td>Woodlands Ring Secondary School</td>\n",
       "    </tr>\n",
       "    <tr>\n",
       "      <th>114165</th>\n",
       "      <td>JURONG WEST</td>\n",
       "      <td>5 ROOM</td>\n",
       "      <td>221</td>\n",
       "      <td>BOON LAY PL</td>\n",
       "      <td>109.0</td>\n",
       "      <td>Standard</td>\n",
       "      <td>1979</td>\n",
       "      <td>384000.0</td>\n",
       "      <td>2020</td>\n",
       "      <td>2</td>\n",
       "      <td>...</td>\n",
       "      <td>Lakeside</td>\n",
       "      <td>0</td>\n",
       "      <td>0</td>\n",
       "      <td>65.485775</td>\n",
       "      <td>396.050713</td>\n",
       "      <td>Boon Lay Garden Primary School</td>\n",
       "      <td>90</td>\n",
       "      <td>0</td>\n",
       "      <td>445.049959</td>\n",
       "      <td>River Valley High School</td>\n",
       "    </tr>\n",
       "    <tr>\n",
       "      <th>137257</th>\n",
       "      <td>JURONG WEST</td>\n",
       "      <td>5 ROOM</td>\n",
       "      <td>221</td>\n",
       "      <td>BOON LAY PL</td>\n",
       "      <td>109.0</td>\n",
       "      <td>Standard</td>\n",
       "      <td>1979</td>\n",
       "      <td>440000.0</td>\n",
       "      <td>2013</td>\n",
       "      <td>2</td>\n",
       "      <td>...</td>\n",
       "      <td>Lakeside</td>\n",
       "      <td>0</td>\n",
       "      <td>0</td>\n",
       "      <td>65.485775</td>\n",
       "      <td>396.050713</td>\n",
       "      <td>Boon Lay Garden Primary School</td>\n",
       "      <td>90</td>\n",
       "      <td>0</td>\n",
       "      <td>445.049959</td>\n",
       "      <td>River Valley High School</td>\n",
       "    </tr>\n",
       "    <tr>\n",
       "      <th>138413</th>\n",
       "      <td>WOODLANDS</td>\n",
       "      <td>4 ROOM</td>\n",
       "      <td>680</td>\n",
       "      <td>WOODLANDS AVE 6</td>\n",
       "      <td>102.0</td>\n",
       "      <td>Model A</td>\n",
       "      <td>1998</td>\n",
       "      <td>425000.0</td>\n",
       "      <td>2020</td>\n",
       "      <td>6</td>\n",
       "      <td>...</td>\n",
       "      <td>Admiralty</td>\n",
       "      <td>0</td>\n",
       "      <td>0</td>\n",
       "      <td>44.555637</td>\n",
       "      <td>283.774985</td>\n",
       "      <td>Greenwood Primary School</td>\n",
       "      <td>61</td>\n",
       "      <td>0</td>\n",
       "      <td>429.863620</td>\n",
       "      <td>Woodlands Ring Secondary School</td>\n",
       "    </tr>\n",
       "    <tr>\n",
       "      <th>139405</th>\n",
       "      <td>WOODLANDS</td>\n",
       "      <td>5 ROOM</td>\n",
       "      <td>680</td>\n",
       "      <td>WOODLANDS AVE 6</td>\n",
       "      <td>123.0</td>\n",
       "      <td>Improved</td>\n",
       "      <td>1998</td>\n",
       "      <td>495000.0</td>\n",
       "      <td>2012</td>\n",
       "      <td>8</td>\n",
       "      <td>...</td>\n",
       "      <td>Admiralty</td>\n",
       "      <td>0</td>\n",
       "      <td>0</td>\n",
       "      <td>44.555637</td>\n",
       "      <td>283.774985</td>\n",
       "      <td>Greenwood Primary School</td>\n",
       "      <td>61</td>\n",
       "      <td>0</td>\n",
       "      <td>429.863620</td>\n",
       "      <td>Woodlands Ring Secondary School</td>\n",
       "    </tr>\n",
       "    <tr>\n",
       "      <th>144022</th>\n",
       "      <td>CHOA CHU KANG</td>\n",
       "      <td>4 ROOM</td>\n",
       "      <td>137</td>\n",
       "      <td>TECK WHYE LANE</td>\n",
       "      <td>106.0</td>\n",
       "      <td>Model A</td>\n",
       "      <td>1989</td>\n",
       "      <td>401888.0</td>\n",
       "      <td>2013</td>\n",
       "      <td>7</td>\n",
       "      <td>...</td>\n",
       "      <td>Bukit Panjang</td>\n",
       "      <td>1</td>\n",
       "      <td>1</td>\n",
       "      <td>189.439711</td>\n",
       "      <td>413.180046</td>\n",
       "      <td>Teck Whye Primary School</td>\n",
       "      <td>73</td>\n",
       "      <td>0</td>\n",
       "      <td>362.158091</td>\n",
       "      <td>Chua Chu Kang Secondary School</td>\n",
       "    </tr>\n",
       "    <tr>\n",
       "      <th>145945</th>\n",
       "      <td>WOODLANDS</td>\n",
       "      <td>4 ROOM</td>\n",
       "      <td>680</td>\n",
       "      <td>WOODLANDS AVE 6</td>\n",
       "      <td>102.0</td>\n",
       "      <td>Model A</td>\n",
       "      <td>1998</td>\n",
       "      <td>388000.0</td>\n",
       "      <td>2019</td>\n",
       "      <td>8</td>\n",
       "      <td>...</td>\n",
       "      <td>Admiralty</td>\n",
       "      <td>0</td>\n",
       "      <td>0</td>\n",
       "      <td>44.555637</td>\n",
       "      <td>283.774985</td>\n",
       "      <td>Greenwood Primary School</td>\n",
       "      <td>61</td>\n",
       "      <td>0</td>\n",
       "      <td>429.863620</td>\n",
       "      <td>Woodlands Ring Secondary School</td>\n",
       "    </tr>\n",
       "    <tr>\n",
       "      <th>148656</th>\n",
       "      <td>CHOA CHU KANG</td>\n",
       "      <td>4 ROOM</td>\n",
       "      <td>137</td>\n",
       "      <td>TECK WHYE LANE</td>\n",
       "      <td>103.0</td>\n",
       "      <td>Model A</td>\n",
       "      <td>1989</td>\n",
       "      <td>335000.0</td>\n",
       "      <td>2015</td>\n",
       "      <td>6</td>\n",
       "      <td>...</td>\n",
       "      <td>Bukit Panjang</td>\n",
       "      <td>1</td>\n",
       "      <td>1</td>\n",
       "      <td>189.439711</td>\n",
       "      <td>413.180046</td>\n",
       "      <td>Teck Whye Primary School</td>\n",
       "      <td>73</td>\n",
       "      <td>0</td>\n",
       "      <td>362.158091</td>\n",
       "      <td>Chua Chu Kang Secondary School</td>\n",
       "    </tr>\n",
       "  </tbody>\n",
       "</table>\n",
       "<p>30 rows × 57 columns</p>\n",
       "</div>"
      ],
      "text/plain": [
       "                 town flat_type block      street_name  floor_area_sqm  \\\n",
       "441         WOODLANDS    5 ROOM   680  WOODLANDS AVE 6           123.0   \n",
       "3512    CHOA CHU KANG    5 ROOM   137   TECK WHYE LANE           120.0   \n",
       "10018     JURONG WEST    5 ROOM   221      BOON LAY PL           109.0   \n",
       "11629   CHOA CHU KANG    4 ROOM   137   TECK WHYE LANE           103.0   \n",
       "31901   CHOA CHU KANG    4 ROOM   137   TECK WHYE LANE           106.0   \n",
       "35492     JURONG WEST    5 ROOM   221      BOON LAY PL           109.0   \n",
       "55464       WOODLANDS    5 ROOM   680  WOODLANDS AVE 6           123.0   \n",
       "57146       WOODLANDS    5 ROOM   680  WOODLANDS AVE 6           123.0   \n",
       "61096       WOODLANDS    4 ROOM   680  WOODLANDS AVE 6           101.0   \n",
       "66387       WOODLANDS    4 ROOM   680  WOODLANDS AVE 6           101.0   \n",
       "72163       WOODLANDS    5 ROOM   680  WOODLANDS AVE 6           121.0   \n",
       "76644       WOODLANDS    4 ROOM   680  WOODLANDS AVE 6           101.0   \n",
       "76687       WOODLANDS    5 ROOM   680  WOODLANDS AVE 6           123.0   \n",
       "80475       WOODLANDS    4 ROOM   680  WOODLANDS AVE 6           102.0   \n",
       "83822       WOODLANDS    4 ROOM   680  WOODLANDS AVE 6           101.0   \n",
       "89330     JURONG WEST    5 ROOM   221      BOON LAY PL           109.0   \n",
       "93263     JURONG WEST    5 ROOM   221      BOON LAY PL           109.0   \n",
       "95026       WOODLANDS    4 ROOM   680  WOODLANDS AVE 6           102.0   \n",
       "96233       WOODLANDS    5 ROOM   680  WOODLANDS AVE 6           123.0   \n",
       "101255    JURONG WEST    5 ROOM   221      BOON LAY PL           109.0   \n",
       "105208      WOODLANDS    4 ROOM   680  WOODLANDS AVE 6           102.0   \n",
       "108689      WOODLANDS    5 ROOM   680  WOODLANDS AVE 6           123.0   \n",
       "111161      WOODLANDS    5 ROOM   680  WOODLANDS AVE 6           121.0   \n",
       "114165    JURONG WEST    5 ROOM   221      BOON LAY PL           109.0   \n",
       "137257    JURONG WEST    5 ROOM   221      BOON LAY PL           109.0   \n",
       "138413      WOODLANDS    4 ROOM   680  WOODLANDS AVE 6           102.0   \n",
       "139405      WOODLANDS    5 ROOM   680  WOODLANDS AVE 6           123.0   \n",
       "144022  CHOA CHU KANG    4 ROOM   137   TECK WHYE LANE           106.0   \n",
       "145945      WOODLANDS    4 ROOM   680  WOODLANDS AVE 6           102.0   \n",
       "148656  CHOA CHU KANG    4 ROOM   137   TECK WHYE LANE           103.0   \n",
       "\n",
       "       flat_model  lease_commence_year  resale_price  Tranc_Year  Tranc_Month  \\\n",
       "441      Improved                 1998      479888.0        2019            5   \n",
       "3512     Improved                 1989      430000.0        2012            3   \n",
       "10018    Standard                 1979      418000.0        2015            1   \n",
       "11629     Model A                 1989      388000.0        2012            8   \n",
       "31901     Model A                 1989      315000.0        2018           11   \n",
       "35492    Standard                 1979      410000.0        2016            6   \n",
       "55464    Improved                 1998      470000.0        2017            4   \n",
       "57146    Improved                 1998      435000.0        2017            1   \n",
       "61096     Model A                 1998      400000.0        2019            3   \n",
       "66387     Model A                 1998      430000.0        2012           10   \n",
       "72163    Improved                 1998      570000.0        2013            2   \n",
       "76644     Model A                 1998      425888.0        2020            8   \n",
       "76687    Improved                 1998      472000.0        2016           10   \n",
       "80475     Model A                 1998      395000.0        2015            7   \n",
       "83822     Model A                 1998      368000.0        2017            5   \n",
       "89330    Standard                 1979      442000.0        2013            1   \n",
       "93263    Standard                 1979      323000.0        2020            7   \n",
       "95026     Model A                 1998      472000.0        2013            4   \n",
       "96233    Improved                 1998      480000.0        2017            4   \n",
       "101255   Standard                 1979      395000.0        2017            3   \n",
       "105208    Model A                 1998      438000.0        2014            8   \n",
       "108689   Improved                 1998      450000.0        2017            9   \n",
       "111161   Improved                 1998      450000.0        2020            6   \n",
       "114165   Standard                 1979      384000.0        2020            2   \n",
       "137257   Standard                 1979      440000.0        2013            2   \n",
       "138413    Model A                 1998      425000.0        2020            6   \n",
       "139405   Improved                 1998      495000.0        2012            8   \n",
       "144022    Model A                 1989      401888.0        2013            7   \n",
       "145945    Model A                 1998      388000.0        2019            8   \n",
       "148656    Model A                 1989      335000.0        2015            6   \n",
       "\n",
       "        ...       mrt_name  bus_interchange  mrt_interchange  \\\n",
       "441     ...      Admiralty                0                0   \n",
       "3512    ...  Bukit Panjang                1                1   \n",
       "10018   ...       Lakeside                0                0   \n",
       "11629   ...  Bukit Panjang                1                1   \n",
       "31901   ...  Bukit Panjang                1                1   \n",
       "35492   ...       Lakeside                0                0   \n",
       "55464   ...      Admiralty                0                0   \n",
       "57146   ...      Admiralty                0                0   \n",
       "61096   ...      Admiralty                0                0   \n",
       "66387   ...      Admiralty                0                0   \n",
       "72163   ...      Admiralty                0                0   \n",
       "76644   ...      Admiralty                0                0   \n",
       "76687   ...      Admiralty                0                0   \n",
       "80475   ...      Admiralty                0                0   \n",
       "83822   ...      Admiralty                0                0   \n",
       "89330   ...       Lakeside                0                0   \n",
       "93263   ...       Lakeside                0                0   \n",
       "95026   ...      Admiralty                0                0   \n",
       "96233   ...      Admiralty                0                0   \n",
       "101255  ...       Lakeside                0                0   \n",
       "105208  ...      Admiralty                0                0   \n",
       "108689  ...      Admiralty                0                0   \n",
       "111161  ...      Admiralty                0                0   \n",
       "114165  ...       Lakeside                0                0   \n",
       "137257  ...       Lakeside                0                0   \n",
       "138413  ...      Admiralty                0                0   \n",
       "139405  ...      Admiralty                0                0   \n",
       "144022  ...  Bukit Panjang                1                1   \n",
       "145945  ...      Admiralty                0                0   \n",
       "148656  ...  Bukit Panjang                1                1   \n",
       "\n",
       "        bus_stop_nearest_distance  pri_sch_nearest_distance  \\\n",
       "441                     44.555637                283.774985   \n",
       "3512                   189.439711                413.180046   \n",
       "10018                   65.485775                396.050713   \n",
       "11629                  189.439711                413.180046   \n",
       "31901                  189.439711                413.180046   \n",
       "35492                   65.485775                396.050713   \n",
       "55464                   44.555637                283.774985   \n",
       "57146                   44.555637                283.774985   \n",
       "61096                   44.555637                283.774985   \n",
       "66387                   44.555637                283.774985   \n",
       "72163                   44.555637                283.774985   \n",
       "76644                   44.555637                283.774985   \n",
       "76687                   44.555637                283.774985   \n",
       "80475                   44.555637                283.774985   \n",
       "83822                   44.555637                283.774985   \n",
       "89330                   65.485775                396.050713   \n",
       "93263                   65.485775                396.050713   \n",
       "95026                   44.555637                283.774985   \n",
       "96233                   44.555637                283.774985   \n",
       "101255                  65.485775                396.050713   \n",
       "105208                  44.555637                283.774985   \n",
       "108689                  44.555637                283.774985   \n",
       "111161                  44.555637                283.774985   \n",
       "114165                  65.485775                396.050713   \n",
       "137257                  65.485775                396.050713   \n",
       "138413                  44.555637                283.774985   \n",
       "139405                  44.555637                283.774985   \n",
       "144022                 189.439711                413.180046   \n",
       "145945                  44.555637                283.774985   \n",
       "148656                 189.439711                413.180046   \n",
       "\n",
       "                          pri_sch_name vacancy pri_sch_affiliation  \\\n",
       "441           Greenwood Primary School      61                   0   \n",
       "3512          Teck Whye Primary School      73                   0   \n",
       "10018   Boon Lay Garden Primary School      90                   0   \n",
       "11629         Teck Whye Primary School      73                   0   \n",
       "31901         Teck Whye Primary School      73                   0   \n",
       "35492   Boon Lay Garden Primary School      90                   0   \n",
       "55464         Greenwood Primary School      61                   0   \n",
       "57146         Greenwood Primary School      61                   0   \n",
       "61096         Greenwood Primary School      61                   0   \n",
       "66387         Greenwood Primary School      61                   0   \n",
       "72163         Greenwood Primary School      61                   0   \n",
       "76644         Greenwood Primary School      61                   0   \n",
       "76687         Greenwood Primary School      61                   0   \n",
       "80475         Greenwood Primary School      61                   0   \n",
       "83822         Greenwood Primary School      61                   0   \n",
       "89330   Boon Lay Garden Primary School      90                   0   \n",
       "93263   Boon Lay Garden Primary School      90                   0   \n",
       "95026         Greenwood Primary School      61                   0   \n",
       "96233         Greenwood Primary School      61                   0   \n",
       "101255  Boon Lay Garden Primary School      90                   0   \n",
       "105208        Greenwood Primary School      61                   0   \n",
       "108689        Greenwood Primary School      61                   0   \n",
       "111161        Greenwood Primary School      61                   0   \n",
       "114165  Boon Lay Garden Primary School      90                   0   \n",
       "137257  Boon Lay Garden Primary School      90                   0   \n",
       "138413        Greenwood Primary School      61                   0   \n",
       "139405        Greenwood Primary School      61                   0   \n",
       "144022        Teck Whye Primary School      73                   0   \n",
       "145945        Greenwood Primary School      61                   0   \n",
       "148656        Teck Whye Primary School      73                   0   \n",
       "\n",
       "       sec_sch_nearest_dist                     sec_sch_name  \n",
       "441              429.863620  Woodlands Ring Secondary School  \n",
       "3512             362.158091   Chua Chu Kang Secondary School  \n",
       "10018            445.049959         River Valley High School  \n",
       "11629            362.158091   Chua Chu Kang Secondary School  \n",
       "31901            362.158091   Chua Chu Kang Secondary School  \n",
       "35492            445.049959         River Valley High School  \n",
       "55464            429.863620  Woodlands Ring Secondary School  \n",
       "57146            429.863620  Woodlands Ring Secondary School  \n",
       "61096            429.863620  Woodlands Ring Secondary School  \n",
       "66387            429.863620  Woodlands Ring Secondary School  \n",
       "72163            429.863620  Woodlands Ring Secondary School  \n",
       "76644            429.863620  Woodlands Ring Secondary School  \n",
       "76687            429.863620  Woodlands Ring Secondary School  \n",
       "80475            429.863620  Woodlands Ring Secondary School  \n",
       "83822            429.863620  Woodlands Ring Secondary School  \n",
       "89330            445.049959         River Valley High School  \n",
       "93263            445.049959         River Valley High School  \n",
       "95026            429.863620  Woodlands Ring Secondary School  \n",
       "96233            429.863620  Woodlands Ring Secondary School  \n",
       "101255           445.049959         River Valley High School  \n",
       "105208           429.863620  Woodlands Ring Secondary School  \n",
       "108689           429.863620  Woodlands Ring Secondary School  \n",
       "111161           429.863620  Woodlands Ring Secondary School  \n",
       "114165           445.049959         River Valley High School  \n",
       "137257           445.049959         River Valley High School  \n",
       "138413           429.863620  Woodlands Ring Secondary School  \n",
       "139405           429.863620  Woodlands Ring Secondary School  \n",
       "144022           362.158091   Chua Chu Kang Secondary School  \n",
       "145945           429.863620  Woodlands Ring Secondary School  \n",
       "148656           362.158091   Chua Chu Kang Secondary School  \n",
       "\n",
       "[30 rows x 57 columns]"
      ]
     },
     "execution_count": 57,
     "metadata": {},
     "output_type": "execute_result"
    }
   ],
   "source": [
    "#Exploring flats that have zero distance to nearest mall\n",
    "HDB_df[HDB_df['Mall_Nearest_Distance']==0]"
   ]
  },
  {
   "cell_type": "markdown",
   "id": "0e85c8fe-c695-45bb-a138-06123761aa2e",
   "metadata": {},
   "source": [
    "Further research shown that such resale flats are located above or in extreme close proximity of the mall thus data entries are accepted as valid"
   ]
  },
  {
   "cell_type": "markdown",
   "id": "59aab4ea-f111-4b1a-9e0d-497b9aa05a25",
   "metadata": {},
   "source": [
    "#### Column 38 to 40 : Mall_Within_500m, Mall_Within_1km , Mall_Within_2km"
   ]
  },
  {
   "cell_type": "code",
   "execution_count": 58,
   "id": "f54a9299-9b70-403d-865d-a8d9451a9e4c",
   "metadata": {
    "tags": []
   },
   "outputs": [
    {
     "name": "stdout",
     "output_type": "stream",
     "text": [
      "Column name: Mall_Within_500m\n",
      "--------------------\n",
      "[0. 1. 2. 3. 4. 5. 6.]\n",
      "--------------------\n",
      "Column name: Mall_Within_1km\n",
      "--------------------\n",
      "[ 0.  1.  2.  3.  4.  5.  6.  7.  8.  9. 10. 11. 12. 13. 14. 15.]\n",
      "--------------------\n",
      "Column name: Mall_Within_2km\n",
      "--------------------\n",
      "[ 0.  1.  2.  3.  4.  5.  6.  7.  8.  9. 10. 11. 12. 13. 14. 15. 16. 17.\n",
      " 18. 19. 20. 21. 22. 23. 24. 25. 26. 27. 28. 29. 30. 31. 32. 33. 34. 35.\n",
      " 37. 38. 39. 40. 42. 43.]\n",
      "--------------------\n"
     ]
    }
   ],
   "source": [
    "#Peek into some values in the column\n",
    "for i in HDB_df.columns[37:40]:\n",
    "    print(f'Column name: {i}')\n",
    "    print('--------------------')\n",
    "    print(np.sort(HDB_df[i].unique()))\n",
    "    print('--------------------')"
   ]
  },
  {
   "cell_type": "code",
   "execution_count": 59,
   "id": "a68a8207-be64-4d21-a0bc-731b2fead52a",
   "metadata": {
    "tags": []
   },
   "outputs": [
    {
     "data": {
      "text/html": [
       "<div>\n",
       "<style scoped>\n",
       "    .dataframe tbody tr th:only-of-type {\n",
       "        vertical-align: middle;\n",
       "    }\n",
       "\n",
       "    .dataframe tbody tr th {\n",
       "        vertical-align: top;\n",
       "    }\n",
       "\n",
       "    .dataframe thead th {\n",
       "        text-align: right;\n",
       "    }\n",
       "</style>\n",
       "<table border=\"1\" class=\"dataframe\">\n",
       "  <thead>\n",
       "    <tr style=\"text-align: right;\">\n",
       "      <th></th>\n",
       "      <th>town</th>\n",
       "      <th>flat_type</th>\n",
       "      <th>block</th>\n",
       "      <th>street_name</th>\n",
       "      <th>floor_area_sqm</th>\n",
       "      <th>flat_model</th>\n",
       "      <th>lease_commence_year</th>\n",
       "      <th>resale_price</th>\n",
       "      <th>Tranc_Year</th>\n",
       "      <th>Tranc_Month</th>\n",
       "      <th>...</th>\n",
       "      <th>mrt_name</th>\n",
       "      <th>bus_interchange</th>\n",
       "      <th>mrt_interchange</th>\n",
       "      <th>bus_stop_nearest_distance</th>\n",
       "      <th>pri_sch_nearest_distance</th>\n",
       "      <th>pri_sch_name</th>\n",
       "      <th>vacancy</th>\n",
       "      <th>pri_sch_affiliation</th>\n",
       "      <th>sec_sch_nearest_dist</th>\n",
       "      <th>sec_sch_name</th>\n",
       "    </tr>\n",
       "  </thead>\n",
       "  <tbody>\n",
       "  </tbody>\n",
       "</table>\n",
       "<p>0 rows × 57 columns</p>\n",
       "</div>"
      ],
      "text/plain": [
       "Empty DataFrame\n",
       "Columns: [town, flat_type, block, street_name, floor_area_sqm, flat_model, lease_commence_year, resale_price, Tranc_Year, Tranc_Month, mid_storey, lb_storey, ub_storey, hdb_age, max_floor_lvl, year_completed, commercial, market_hawker, multistorey_carpark, precinct_pavilion, total_dwelling_units, 1room_sold, 2room_sold, 3room_sold, 4room_sold, 5room_sold, exec_sold, multigen_sold, studio_apartment_sold, 1room_rental, 2room_rental, 3room_rental, other_room_rental, Latitude, Longitude, planning_area, Mall_Nearest_Distance, Mall_Within_500m, Mall_Within_1km, Mall_Within_2km, Hawker_Nearest_Distance, Hawker_Within_500m, Hawker_Within_1km, Hawker_Within_2km, hawker_food_stalls, hawker_market_stalls, mrt_nearest_distance, mrt_name, bus_interchange, mrt_interchange, bus_stop_nearest_distance, pri_sch_nearest_distance, pri_sch_name, vacancy, pri_sch_affiliation, sec_sch_nearest_dist, sec_sch_name]\n",
       "Index: []\n",
       "\n",
       "[0 rows x 57 columns]"
      ]
     },
     "execution_count": 59,
     "metadata": {},
     "output_type": "execute_result"
    }
   ],
   "source": [
    "#Checking for discrepancy\n",
    "HDB_df[(HDB_df['Mall_Within_500m']>HDB_df['Mall_Within_1km']) | (HDB_df['Mall_Within_1km']>HDB_df['Mall_Within_2km'])]"
   ]
  },
  {
   "cell_type": "markdown",
   "id": "83ddea9c-d070-42cd-81ad-d81c0cfeaa79",
   "metadata": {},
   "source": [
    "No discrepancy and no anamoly"
   ]
  },
  {
   "cell_type": "markdown",
   "id": "e87db45a-2dea-4983-a362-f918089e7c50",
   "metadata": {},
   "source": [
    "#### Column 41: Hawker_Nearest_Distance"
   ]
  },
  {
   "cell_type": "code",
   "execution_count": 60,
   "id": "51a8a378-cf2c-4fb4-897c-c2da1d12ffb7",
   "metadata": {
    "tags": []
   },
   "outputs": [
    {
     "data": {
      "text/plain": [
       "array([ 154.7533573 ,  640.1519255 , 1762.082341  , ..., 1885.333485  ,\n",
       "        517.4376119 ,   80.20482464])"
      ]
     },
     "execution_count": 60,
     "metadata": {},
     "output_type": "execute_result"
    }
   ],
   "source": [
    "#Peek into some values in the column\n",
    "HDB_df['Hawker_Nearest_Distance'].unique()"
   ]
  },
  {
   "cell_type": "code",
   "execution_count": 61,
   "id": "1f5d171a-5bd8-4bda-9a46-5cd589b4637d",
   "metadata": {
    "tags": []
   },
   "outputs": [
    {
     "data": {
      "text/html": [
       "<div>\n",
       "<style scoped>\n",
       "    .dataframe tbody tr th:only-of-type {\n",
       "        vertical-align: middle;\n",
       "    }\n",
       "\n",
       "    .dataframe tbody tr th {\n",
       "        vertical-align: top;\n",
       "    }\n",
       "\n",
       "    .dataframe thead th {\n",
       "        text-align: right;\n",
       "    }\n",
       "</style>\n",
       "<table border=\"1\" class=\"dataframe\">\n",
       "  <thead>\n",
       "    <tr style=\"text-align: right;\">\n",
       "      <th></th>\n",
       "      <th>Hawker_Nearest_Distance</th>\n",
       "    </tr>\n",
       "  </thead>\n",
       "  <tbody>\n",
       "    <tr>\n",
       "      <th>count</th>\n",
       "      <td>149805.000000</td>\n",
       "    </tr>\n",
       "    <tr>\n",
       "      <th>mean</th>\n",
       "      <td>1167.736858</td>\n",
       "    </tr>\n",
       "    <tr>\n",
       "      <th>std</th>\n",
       "      <td>1071.185899</td>\n",
       "    </tr>\n",
       "    <tr>\n",
       "      <th>min</th>\n",
       "      <td>1.873295</td>\n",
       "    </tr>\n",
       "    <tr>\n",
       "      <th>25%</th>\n",
       "      <td>371.492143</td>\n",
       "    </tr>\n",
       "    <tr>\n",
       "      <th>50%</th>\n",
       "      <td>776.137748</td>\n",
       "    </tr>\n",
       "    <tr>\n",
       "      <th>75%</th>\n",
       "      <td>1671.774246</td>\n",
       "    </tr>\n",
       "    <tr>\n",
       "      <th>max</th>\n",
       "      <td>4816.062542</td>\n",
       "    </tr>\n",
       "  </tbody>\n",
       "</table>\n",
       "</div>"
      ],
      "text/plain": [
       "       Hawker_Nearest_Distance\n",
       "count            149805.000000\n",
       "mean               1167.736858\n",
       "std                1071.185899\n",
       "min                   1.873295\n",
       "25%                 371.492143\n",
       "50%                 776.137748\n",
       "75%                1671.774246\n",
       "max                4816.062542"
      ]
     },
     "execution_count": 61,
     "metadata": {},
     "output_type": "execute_result"
    }
   ],
   "source": [
    "#Checking for unusual numeric values\n",
    "HDB_df[['Hawker_Nearest_Distance']].describe()"
   ]
  },
  {
   "cell_type": "markdown",
   "id": "2b06be01-fb8f-446e-b025-4af2cadd7c60",
   "metadata": {},
   "source": [
    "Abnormally low distance to nearest hawker with minimum value of 1.87m"
   ]
  },
  {
   "cell_type": "code",
   "execution_count": 62,
   "id": "298f9aff-c84a-4727-856a-de119ce3304b",
   "metadata": {
    "tags": []
   },
   "outputs": [
    {
     "data": {
      "text/html": [
       "<div>\n",
       "<style scoped>\n",
       "    .dataframe tbody tr th:only-of-type {\n",
       "        vertical-align: middle;\n",
       "    }\n",
       "\n",
       "    .dataframe tbody tr th {\n",
       "        vertical-align: top;\n",
       "    }\n",
       "\n",
       "    .dataframe thead th {\n",
       "        text-align: right;\n",
       "    }\n",
       "</style>\n",
       "<table border=\"1\" class=\"dataframe\">\n",
       "  <thead>\n",
       "    <tr style=\"text-align: right;\">\n",
       "      <th></th>\n",
       "      <th>town</th>\n",
       "      <th>flat_type</th>\n",
       "      <th>block</th>\n",
       "      <th>street_name</th>\n",
       "      <th>floor_area_sqm</th>\n",
       "      <th>flat_model</th>\n",
       "      <th>lease_commence_year</th>\n",
       "      <th>resale_price</th>\n",
       "      <th>Tranc_Year</th>\n",
       "      <th>Tranc_Month</th>\n",
       "      <th>...</th>\n",
       "      <th>mrt_name</th>\n",
       "      <th>bus_interchange</th>\n",
       "      <th>mrt_interchange</th>\n",
       "      <th>bus_stop_nearest_distance</th>\n",
       "      <th>pri_sch_nearest_distance</th>\n",
       "      <th>pri_sch_name</th>\n",
       "      <th>vacancy</th>\n",
       "      <th>pri_sch_affiliation</th>\n",
       "      <th>sec_sch_nearest_dist</th>\n",
       "      <th>sec_sch_name</th>\n",
       "    </tr>\n",
       "  </thead>\n",
       "  <tbody>\n",
       "    <tr>\n",
       "      <th>34519</th>\n",
       "      <td>CENTRAL AREA</td>\n",
       "      <td>2 ROOM</td>\n",
       "      <td>32</td>\n",
       "      <td>NEW MKT RD</td>\n",
       "      <td>52.0</td>\n",
       "      <td>Standard</td>\n",
       "      <td>1983</td>\n",
       "      <td>318000.0</td>\n",
       "      <td>2020</td>\n",
       "      <td>10</td>\n",
       "      <td>...</td>\n",
       "      <td>Chinatown</td>\n",
       "      <td>0</td>\n",
       "      <td>1</td>\n",
       "      <td>99.361489</td>\n",
       "      <td>1081.127506</td>\n",
       "      <td>Cantonment Primary School</td>\n",
       "      <td>58</td>\n",
       "      <td>0</td>\n",
       "      <td>635.25536</td>\n",
       "      <td>Outram Secondary School</td>\n",
       "    </tr>\n",
       "    <tr>\n",
       "      <th>50069</th>\n",
       "      <td>CENTRAL AREA</td>\n",
       "      <td>3 ROOM</td>\n",
       "      <td>32</td>\n",
       "      <td>NEW MKT RD</td>\n",
       "      <td>66.0</td>\n",
       "      <td>Standard</td>\n",
       "      <td>1983</td>\n",
       "      <td>390000.0</td>\n",
       "      <td>2021</td>\n",
       "      <td>1</td>\n",
       "      <td>...</td>\n",
       "      <td>Chinatown</td>\n",
       "      <td>0</td>\n",
       "      <td>1</td>\n",
       "      <td>99.361489</td>\n",
       "      <td>1081.127506</td>\n",
       "      <td>Cantonment Primary School</td>\n",
       "      <td>58</td>\n",
       "      <td>0</td>\n",
       "      <td>635.25536</td>\n",
       "      <td>Outram Secondary School</td>\n",
       "    </tr>\n",
       "    <tr>\n",
       "      <th>51282</th>\n",
       "      <td>CENTRAL AREA</td>\n",
       "      <td>2 ROOM</td>\n",
       "      <td>32</td>\n",
       "      <td>NEW MKT RD</td>\n",
       "      <td>52.0</td>\n",
       "      <td>Standard</td>\n",
       "      <td>1983</td>\n",
       "      <td>363000.0</td>\n",
       "      <td>2013</td>\n",
       "      <td>9</td>\n",
       "      <td>...</td>\n",
       "      <td>Chinatown</td>\n",
       "      <td>0</td>\n",
       "      <td>1</td>\n",
       "      <td>99.361489</td>\n",
       "      <td>1081.127506</td>\n",
       "      <td>Cantonment Primary School</td>\n",
       "      <td>58</td>\n",
       "      <td>0</td>\n",
       "      <td>635.25536</td>\n",
       "      <td>Outram Secondary School</td>\n",
       "    </tr>\n",
       "    <tr>\n",
       "      <th>52762</th>\n",
       "      <td>CENTRAL AREA</td>\n",
       "      <td>3 ROOM</td>\n",
       "      <td>32</td>\n",
       "      <td>NEW MKT RD</td>\n",
       "      <td>66.0</td>\n",
       "      <td>Standard</td>\n",
       "      <td>1983</td>\n",
       "      <td>428000.0</td>\n",
       "      <td>2017</td>\n",
       "      <td>1</td>\n",
       "      <td>...</td>\n",
       "      <td>Chinatown</td>\n",
       "      <td>0</td>\n",
       "      <td>1</td>\n",
       "      <td>99.361489</td>\n",
       "      <td>1081.127506</td>\n",
       "      <td>Cantonment Primary School</td>\n",
       "      <td>58</td>\n",
       "      <td>0</td>\n",
       "      <td>635.25536</td>\n",
       "      <td>Outram Secondary School</td>\n",
       "    </tr>\n",
       "    <tr>\n",
       "      <th>68874</th>\n",
       "      <td>CENTRAL AREA</td>\n",
       "      <td>3 ROOM</td>\n",
       "      <td>32</td>\n",
       "      <td>NEW MKT RD</td>\n",
       "      <td>66.0</td>\n",
       "      <td>Standard</td>\n",
       "      <td>1983</td>\n",
       "      <td>470000.0</td>\n",
       "      <td>2012</td>\n",
       "      <td>11</td>\n",
       "      <td>...</td>\n",
       "      <td>Chinatown</td>\n",
       "      <td>0</td>\n",
       "      <td>1</td>\n",
       "      <td>99.361489</td>\n",
       "      <td>1081.127506</td>\n",
       "      <td>Cantonment Primary School</td>\n",
       "      <td>58</td>\n",
       "      <td>0</td>\n",
       "      <td>635.25536</td>\n",
       "      <td>Outram Secondary School</td>\n",
       "    </tr>\n",
       "    <tr>\n",
       "      <th>69502</th>\n",
       "      <td>CENTRAL AREA</td>\n",
       "      <td>2 ROOM</td>\n",
       "      <td>32</td>\n",
       "      <td>NEW MKT RD</td>\n",
       "      <td>52.0</td>\n",
       "      <td>Standard</td>\n",
       "      <td>1983</td>\n",
       "      <td>295000.0</td>\n",
       "      <td>2017</td>\n",
       "      <td>8</td>\n",
       "      <td>...</td>\n",
       "      <td>Chinatown</td>\n",
       "      <td>0</td>\n",
       "      <td>1</td>\n",
       "      <td>99.361489</td>\n",
       "      <td>1081.127506</td>\n",
       "      <td>Cantonment Primary School</td>\n",
       "      <td>58</td>\n",
       "      <td>0</td>\n",
       "      <td>635.25536</td>\n",
       "      <td>Outram Secondary School</td>\n",
       "    </tr>\n",
       "    <tr>\n",
       "      <th>70600</th>\n",
       "      <td>CENTRAL AREA</td>\n",
       "      <td>2 ROOM</td>\n",
       "      <td>32</td>\n",
       "      <td>NEW MKT RD</td>\n",
       "      <td>52.0</td>\n",
       "      <td>Standard</td>\n",
       "      <td>1983</td>\n",
       "      <td>318000.0</td>\n",
       "      <td>2018</td>\n",
       "      <td>6</td>\n",
       "      <td>...</td>\n",
       "      <td>Chinatown</td>\n",
       "      <td>0</td>\n",
       "      <td>1</td>\n",
       "      <td>99.361489</td>\n",
       "      <td>1081.127506</td>\n",
       "      <td>Cantonment Primary School</td>\n",
       "      <td>58</td>\n",
       "      <td>0</td>\n",
       "      <td>635.25536</td>\n",
       "      <td>Outram Secondary School</td>\n",
       "    </tr>\n",
       "    <tr>\n",
       "      <th>72905</th>\n",
       "      <td>CENTRAL AREA</td>\n",
       "      <td>2 ROOM</td>\n",
       "      <td>32</td>\n",
       "      <td>NEW MKT RD</td>\n",
       "      <td>52.0</td>\n",
       "      <td>Standard</td>\n",
       "      <td>1983</td>\n",
       "      <td>300000.0</td>\n",
       "      <td>2014</td>\n",
       "      <td>11</td>\n",
       "      <td>...</td>\n",
       "      <td>Chinatown</td>\n",
       "      <td>0</td>\n",
       "      <td>1</td>\n",
       "      <td>99.361489</td>\n",
       "      <td>1081.127506</td>\n",
       "      <td>Cantonment Primary School</td>\n",
       "      <td>58</td>\n",
       "      <td>0</td>\n",
       "      <td>635.25536</td>\n",
       "      <td>Outram Secondary School</td>\n",
       "    </tr>\n",
       "    <tr>\n",
       "      <th>96764</th>\n",
       "      <td>CENTRAL AREA</td>\n",
       "      <td>3 ROOM</td>\n",
       "      <td>32</td>\n",
       "      <td>NEW MKT RD</td>\n",
       "      <td>66.0</td>\n",
       "      <td>Standard</td>\n",
       "      <td>1983</td>\n",
       "      <td>392000.0</td>\n",
       "      <td>2015</td>\n",
       "      <td>6</td>\n",
       "      <td>...</td>\n",
       "      <td>Chinatown</td>\n",
       "      <td>0</td>\n",
       "      <td>1</td>\n",
       "      <td>99.361489</td>\n",
       "      <td>1081.127506</td>\n",
       "      <td>Cantonment Primary School</td>\n",
       "      <td>58</td>\n",
       "      <td>0</td>\n",
       "      <td>635.25536</td>\n",
       "      <td>Outram Secondary School</td>\n",
       "    </tr>\n",
       "    <tr>\n",
       "      <th>123554</th>\n",
       "      <td>CENTRAL AREA</td>\n",
       "      <td>2 ROOM</td>\n",
       "      <td>32</td>\n",
       "      <td>NEW MKT RD</td>\n",
       "      <td>52.0</td>\n",
       "      <td>Standard</td>\n",
       "      <td>1983</td>\n",
       "      <td>308000.0</td>\n",
       "      <td>2021</td>\n",
       "      <td>3</td>\n",
       "      <td>...</td>\n",
       "      <td>Chinatown</td>\n",
       "      <td>0</td>\n",
       "      <td>1</td>\n",
       "      <td>99.361489</td>\n",
       "      <td>1081.127506</td>\n",
       "      <td>Cantonment Primary School</td>\n",
       "      <td>58</td>\n",
       "      <td>0</td>\n",
       "      <td>635.25536</td>\n",
       "      <td>Outram Secondary School</td>\n",
       "    </tr>\n",
       "    <tr>\n",
       "      <th>125153</th>\n",
       "      <td>CENTRAL AREA</td>\n",
       "      <td>3 ROOM</td>\n",
       "      <td>32</td>\n",
       "      <td>NEW MKT RD</td>\n",
       "      <td>66.0</td>\n",
       "      <td>Standard</td>\n",
       "      <td>1983</td>\n",
       "      <td>410000.0</td>\n",
       "      <td>2016</td>\n",
       "      <td>11</td>\n",
       "      <td>...</td>\n",
       "      <td>Chinatown</td>\n",
       "      <td>0</td>\n",
       "      <td>1</td>\n",
       "      <td>99.361489</td>\n",
       "      <td>1081.127506</td>\n",
       "      <td>Cantonment Primary School</td>\n",
       "      <td>58</td>\n",
       "      <td>0</td>\n",
       "      <td>635.25536</td>\n",
       "      <td>Outram Secondary School</td>\n",
       "    </tr>\n",
       "    <tr>\n",
       "      <th>126290</th>\n",
       "      <td>CENTRAL AREA</td>\n",
       "      <td>3 ROOM</td>\n",
       "      <td>32</td>\n",
       "      <td>NEW MKT RD</td>\n",
       "      <td>66.0</td>\n",
       "      <td>Standard</td>\n",
       "      <td>1983</td>\n",
       "      <td>408000.0</td>\n",
       "      <td>2014</td>\n",
       "      <td>4</td>\n",
       "      <td>...</td>\n",
       "      <td>Chinatown</td>\n",
       "      <td>0</td>\n",
       "      <td>1</td>\n",
       "      <td>99.361489</td>\n",
       "      <td>1081.127506</td>\n",
       "      <td>Cantonment Primary School</td>\n",
       "      <td>58</td>\n",
       "      <td>0</td>\n",
       "      <td>635.25536</td>\n",
       "      <td>Outram Secondary School</td>\n",
       "    </tr>\n",
       "    <tr>\n",
       "      <th>127929</th>\n",
       "      <td>CENTRAL AREA</td>\n",
       "      <td>3 ROOM</td>\n",
       "      <td>32</td>\n",
       "      <td>NEW MKT RD</td>\n",
       "      <td>66.0</td>\n",
       "      <td>Standard</td>\n",
       "      <td>1983</td>\n",
       "      <td>386000.0</td>\n",
       "      <td>2017</td>\n",
       "      <td>3</td>\n",
       "      <td>...</td>\n",
       "      <td>Chinatown</td>\n",
       "      <td>0</td>\n",
       "      <td>1</td>\n",
       "      <td>99.361489</td>\n",
       "      <td>1081.127506</td>\n",
       "      <td>Cantonment Primary School</td>\n",
       "      <td>58</td>\n",
       "      <td>0</td>\n",
       "      <td>635.25536</td>\n",
       "      <td>Outram Secondary School</td>\n",
       "    </tr>\n",
       "    <tr>\n",
       "      <th>142859</th>\n",
       "      <td>CENTRAL AREA</td>\n",
       "      <td>3 ROOM</td>\n",
       "      <td>32</td>\n",
       "      <td>NEW MKT RD</td>\n",
       "      <td>66.0</td>\n",
       "      <td>Standard</td>\n",
       "      <td>1983</td>\n",
       "      <td>380000.0</td>\n",
       "      <td>2017</td>\n",
       "      <td>4</td>\n",
       "      <td>...</td>\n",
       "      <td>Chinatown</td>\n",
       "      <td>0</td>\n",
       "      <td>1</td>\n",
       "      <td>99.361489</td>\n",
       "      <td>1081.127506</td>\n",
       "      <td>Cantonment Primary School</td>\n",
       "      <td>58</td>\n",
       "      <td>0</td>\n",
       "      <td>635.25536</td>\n",
       "      <td>Outram Secondary School</td>\n",
       "    </tr>\n",
       "    <tr>\n",
       "      <th>146506</th>\n",
       "      <td>CENTRAL AREA</td>\n",
       "      <td>2 ROOM</td>\n",
       "      <td>32</td>\n",
       "      <td>NEW MKT RD</td>\n",
       "      <td>52.0</td>\n",
       "      <td>Standard</td>\n",
       "      <td>1983</td>\n",
       "      <td>292000.0</td>\n",
       "      <td>2014</td>\n",
       "      <td>12</td>\n",
       "      <td>...</td>\n",
       "      <td>Chinatown</td>\n",
       "      <td>0</td>\n",
       "      <td>1</td>\n",
       "      <td>99.361489</td>\n",
       "      <td>1081.127506</td>\n",
       "      <td>Cantonment Primary School</td>\n",
       "      <td>58</td>\n",
       "      <td>0</td>\n",
       "      <td>635.25536</td>\n",
       "      <td>Outram Secondary School</td>\n",
       "    </tr>\n",
       "  </tbody>\n",
       "</table>\n",
       "<p>15 rows × 57 columns</p>\n",
       "</div>"
      ],
      "text/plain": [
       "                town flat_type block street_name  floor_area_sqm flat_model  \\\n",
       "34519   CENTRAL AREA    2 ROOM    32  NEW MKT RD            52.0   Standard   \n",
       "50069   CENTRAL AREA    3 ROOM    32  NEW MKT RD            66.0   Standard   \n",
       "51282   CENTRAL AREA    2 ROOM    32  NEW MKT RD            52.0   Standard   \n",
       "52762   CENTRAL AREA    3 ROOM    32  NEW MKT RD            66.0   Standard   \n",
       "68874   CENTRAL AREA    3 ROOM    32  NEW MKT RD            66.0   Standard   \n",
       "69502   CENTRAL AREA    2 ROOM    32  NEW MKT RD            52.0   Standard   \n",
       "70600   CENTRAL AREA    2 ROOM    32  NEW MKT RD            52.0   Standard   \n",
       "72905   CENTRAL AREA    2 ROOM    32  NEW MKT RD            52.0   Standard   \n",
       "96764   CENTRAL AREA    3 ROOM    32  NEW MKT RD            66.0   Standard   \n",
       "123554  CENTRAL AREA    2 ROOM    32  NEW MKT RD            52.0   Standard   \n",
       "125153  CENTRAL AREA    3 ROOM    32  NEW MKT RD            66.0   Standard   \n",
       "126290  CENTRAL AREA    3 ROOM    32  NEW MKT RD            66.0   Standard   \n",
       "127929  CENTRAL AREA    3 ROOM    32  NEW MKT RD            66.0   Standard   \n",
       "142859  CENTRAL AREA    3 ROOM    32  NEW MKT RD            66.0   Standard   \n",
       "146506  CENTRAL AREA    2 ROOM    32  NEW MKT RD            52.0   Standard   \n",
       "\n",
       "        lease_commence_year  resale_price  Tranc_Year  Tranc_Month  ...  \\\n",
       "34519                  1983      318000.0        2020           10  ...   \n",
       "50069                  1983      390000.0        2021            1  ...   \n",
       "51282                  1983      363000.0        2013            9  ...   \n",
       "52762                  1983      428000.0        2017            1  ...   \n",
       "68874                  1983      470000.0        2012           11  ...   \n",
       "69502                  1983      295000.0        2017            8  ...   \n",
       "70600                  1983      318000.0        2018            6  ...   \n",
       "72905                  1983      300000.0        2014           11  ...   \n",
       "96764                  1983      392000.0        2015            6  ...   \n",
       "123554                 1983      308000.0        2021            3  ...   \n",
       "125153                 1983      410000.0        2016           11  ...   \n",
       "126290                 1983      408000.0        2014            4  ...   \n",
       "127929                 1983      386000.0        2017            3  ...   \n",
       "142859                 1983      380000.0        2017            4  ...   \n",
       "146506                 1983      292000.0        2014           12  ...   \n",
       "\n",
       "         mrt_name  bus_interchange  mrt_interchange  \\\n",
       "34519   Chinatown                0                1   \n",
       "50069   Chinatown                0                1   \n",
       "51282   Chinatown                0                1   \n",
       "52762   Chinatown                0                1   \n",
       "68874   Chinatown                0                1   \n",
       "69502   Chinatown                0                1   \n",
       "70600   Chinatown                0                1   \n",
       "72905   Chinatown                0                1   \n",
       "96764   Chinatown                0                1   \n",
       "123554  Chinatown                0                1   \n",
       "125153  Chinatown                0                1   \n",
       "126290  Chinatown                0                1   \n",
       "127929  Chinatown                0                1   \n",
       "142859  Chinatown                0                1   \n",
       "146506  Chinatown                0                1   \n",
       "\n",
       "        bus_stop_nearest_distance  pri_sch_nearest_distance  \\\n",
       "34519                   99.361489               1081.127506   \n",
       "50069                   99.361489               1081.127506   \n",
       "51282                   99.361489               1081.127506   \n",
       "52762                   99.361489               1081.127506   \n",
       "68874                   99.361489               1081.127506   \n",
       "69502                   99.361489               1081.127506   \n",
       "70600                   99.361489               1081.127506   \n",
       "72905                   99.361489               1081.127506   \n",
       "96764                   99.361489               1081.127506   \n",
       "123554                  99.361489               1081.127506   \n",
       "125153                  99.361489               1081.127506   \n",
       "126290                  99.361489               1081.127506   \n",
       "127929                  99.361489               1081.127506   \n",
       "142859                  99.361489               1081.127506   \n",
       "146506                  99.361489               1081.127506   \n",
       "\n",
       "                     pri_sch_name vacancy pri_sch_affiliation  \\\n",
       "34519   Cantonment Primary School      58                   0   \n",
       "50069   Cantonment Primary School      58                   0   \n",
       "51282   Cantonment Primary School      58                   0   \n",
       "52762   Cantonment Primary School      58                   0   \n",
       "68874   Cantonment Primary School      58                   0   \n",
       "69502   Cantonment Primary School      58                   0   \n",
       "70600   Cantonment Primary School      58                   0   \n",
       "72905   Cantonment Primary School      58                   0   \n",
       "96764   Cantonment Primary School      58                   0   \n",
       "123554  Cantonment Primary School      58                   0   \n",
       "125153  Cantonment Primary School      58                   0   \n",
       "126290  Cantonment Primary School      58                   0   \n",
       "127929  Cantonment Primary School      58                   0   \n",
       "142859  Cantonment Primary School      58                   0   \n",
       "146506  Cantonment Primary School      58                   0   \n",
       "\n",
       "       sec_sch_nearest_dist             sec_sch_name  \n",
       "34519             635.25536  Outram Secondary School  \n",
       "50069             635.25536  Outram Secondary School  \n",
       "51282             635.25536  Outram Secondary School  \n",
       "52762             635.25536  Outram Secondary School  \n",
       "68874             635.25536  Outram Secondary School  \n",
       "69502             635.25536  Outram Secondary School  \n",
       "70600             635.25536  Outram Secondary School  \n",
       "72905             635.25536  Outram Secondary School  \n",
       "96764             635.25536  Outram Secondary School  \n",
       "123554            635.25536  Outram Secondary School  \n",
       "125153            635.25536  Outram Secondary School  \n",
       "126290            635.25536  Outram Secondary School  \n",
       "127929            635.25536  Outram Secondary School  \n",
       "142859            635.25536  Outram Secondary School  \n",
       "146506            635.25536  Outram Secondary School  \n",
       "\n",
       "[15 rows x 57 columns]"
      ]
     },
     "execution_count": 62,
     "metadata": {},
     "output_type": "execute_result"
    }
   ],
   "source": [
    "#Exploring flats that have abnormally close distance to nearest hawker\n",
    "HDB_df[HDB_df['Hawker_Nearest_Distance']<2]"
   ]
  },
  {
   "cell_type": "markdown",
   "id": "ea6c2e9c-bc50-4da4-a8cd-a76a8329db4a",
   "metadata": {},
   "source": [
    "Further research shown that flat is located in very close proximity of a hawker center thus these are valid entries"
   ]
  },
  {
   "cell_type": "markdown",
   "id": "d843388d-c6ce-48b6-b50b-e5699d101ab5",
   "metadata": {},
   "source": [
    "#### Column 42 to 46 : Hawker_Within_500, Hawker_Within_1km, Hawker_Within_2km, hawker_food_stalls, hawker_market_stalls"
   ]
  },
  {
   "cell_type": "code",
   "execution_count": 63,
   "id": "f0fc7c21-1d5d-4b32-bb92-8419606f2e38",
   "metadata": {
    "tags": []
   },
   "outputs": [
    {
     "name": "stdout",
     "output_type": "stream",
     "text": [
      "Column name: Hawker_Within_500m\n",
      "--------------------\n",
      "[0. 1. 2. 3. 4. 5.]\n",
      "--------------------\n",
      "Column name: Hawker_Within_1km\n",
      "--------------------\n",
      "[0. 1. 2. 3. 4. 5. 6. 7. 8. 9.]\n",
      "--------------------\n",
      "Column name: Hawker_Within_2km\n",
      "--------------------\n",
      "[ 0.  1.  2.  3.  4.  5.  6.  7.  8.  9. 10. 11. 12. 13. 14. 15. 16. 17.\n",
      " 18. 19.]\n",
      "--------------------\n",
      "Column name: hawker_food_stalls\n",
      "--------------------\n",
      "[  0  10  16  18  21  24  28  29  30  31  32  36  37  39  40  41  42  43\n",
      "  45  46  47  48  50  51  52  55  56  57  60  61  63  64  65  66  70  72\n",
      "  79  80  82  83  84  86  87  88  96 103 106 112 119 123 168 226]\n",
      "--------------------\n",
      "Column name: hawker_market_stalls\n",
      "--------------------\n",
      "[  0  12  32  36  40  43  45  48  50  51  52  53  54  57  59  60  61  62\n",
      "  63  66  68  71  74  75  77  78  80  82  83  84  86  87  89  92  94  95\n",
      "  96  99 100 101 103 105 108 111 112 113 114 118 120 122 123 127 130 134\n",
      " 135 143 144 146 147 148 154 158 166 167 169 170 259 284 302 477]\n",
      "--------------------\n"
     ]
    }
   ],
   "source": [
    "#Peek into some values in the column\n",
    "for i in HDB_df.columns[41:46]:\n",
    "    print(f'Column name: {i}')\n",
    "    print('--------------------')\n",
    "    print(np.sort(HDB_df[i].unique()))\n",
    "    print('--------------------')"
   ]
  },
  {
   "cell_type": "markdown",
   "id": "b79fa721-9c75-4472-9273-77eeb5a7cdff",
   "metadata": {},
   "source": [
    "No anomaly"
   ]
  },
  {
   "cell_type": "markdown",
   "id": "89812a35-ed3a-4ae9-b4c7-ca26bf9bc4b1",
   "metadata": {},
   "source": [
    "#### Column 47 : mrt_nearest_distance"
   ]
  },
  {
   "cell_type": "code",
   "execution_count": 64,
   "id": "89476dd8-c444-4ee9-b306-e6fc051fa9c5",
   "metadata": {
    "tags": []
   },
   "outputs": [
    {
     "data": {
      "text/plain": [
       "array([ 330.08306897,  903.65970285, 1334.25119686, ...,  353.69836878,\n",
       "        692.40012735,  403.26065207])"
      ]
     },
     "execution_count": 64,
     "metadata": {},
     "output_type": "execute_result"
    }
   ],
   "source": [
    "#Peek into some values in the column\n",
    "HDB_df['mrt_nearest_distance'].unique()"
   ]
  },
  {
   "cell_type": "code",
   "execution_count": 65,
   "id": "a33a4f62-f58f-49bb-8ba3-5227c9c6bb74",
   "metadata": {
    "tags": []
   },
   "outputs": [
    {
     "data": {
      "text/html": [
       "<div>\n",
       "<style scoped>\n",
       "    .dataframe tbody tr th:only-of-type {\n",
       "        vertical-align: middle;\n",
       "    }\n",
       "\n",
       "    .dataframe tbody tr th {\n",
       "        vertical-align: top;\n",
       "    }\n",
       "\n",
       "    .dataframe thead th {\n",
       "        text-align: right;\n",
       "    }\n",
       "</style>\n",
       "<table border=\"1\" class=\"dataframe\">\n",
       "  <thead>\n",
       "    <tr style=\"text-align: right;\">\n",
       "      <th></th>\n",
       "      <th>mrt_nearest_distance</th>\n",
       "    </tr>\n",
       "  </thead>\n",
       "  <tbody>\n",
       "    <tr>\n",
       "      <th>count</th>\n",
       "      <td>149805.000000</td>\n",
       "    </tr>\n",
       "    <tr>\n",
       "      <th>mean</th>\n",
       "      <td>764.021115</td>\n",
       "    </tr>\n",
       "    <tr>\n",
       "      <th>std</th>\n",
       "      <td>429.111674</td>\n",
       "    </tr>\n",
       "    <tr>\n",
       "      <th>min</th>\n",
       "      <td>21.971410</td>\n",
       "    </tr>\n",
       "    <tr>\n",
       "      <th>25%</th>\n",
       "      <td>458.086393</td>\n",
       "    </tr>\n",
       "    <tr>\n",
       "      <th>50%</th>\n",
       "      <td>681.853546</td>\n",
       "    </tr>\n",
       "    <tr>\n",
       "      <th>75%</th>\n",
       "      <td>974.299230</td>\n",
       "    </tr>\n",
       "    <tr>\n",
       "      <th>max</th>\n",
       "      <td>3544.504228</td>\n",
       "    </tr>\n",
       "  </tbody>\n",
       "</table>\n",
       "</div>"
      ],
      "text/plain": [
       "       mrt_nearest_distance\n",
       "count         149805.000000\n",
       "mean             764.021115\n",
       "std              429.111674\n",
       "min               21.971410\n",
       "25%              458.086393\n",
       "50%              681.853546\n",
       "75%              974.299230\n",
       "max             3544.504228"
      ]
     },
     "execution_count": 65,
     "metadata": {},
     "output_type": "execute_result"
    }
   ],
   "source": [
    "#Checking for unusual numeric values\n",
    "HDB_df[['mrt_nearest_distance']].describe()"
   ]
  },
  {
   "cell_type": "markdown",
   "id": "9f19baeb-7d18-4514-a7a6-7cef54835d12",
   "metadata": {},
   "source": [
    "#### Column 48 : mrt_name"
   ]
  },
  {
   "cell_type": "code",
   "execution_count": 66,
   "id": "5c683f27-94e9-4d99-a8ca-7908a5eff54d",
   "metadata": {
    "tags": []
   },
   "outputs": [
    {
     "data": {
      "text/plain": [
       "array(['Kallang', 'Bishan', 'Bukit Batok', 'Khatib', 'MacPherson',\n",
       "       'Kovan', 'Bedok North', 'Marymount', 'Sengkang', 'Buangkok',\n",
       "       'Tampines', 'Tiong Bahru', 'Bukit Panjang', 'Marsiling',\n",
       "       'Woodlands South', 'Admiralty', 'Pioneer', 'Braddell', 'Lakeside',\n",
       "       'Choa Chu Kang', 'Sembawang', 'Toa Payoh', 'Geylang Bahru',\n",
       "       'Yew Tee', 'Ang Mo Kio', 'Telok Blangah', 'Tampines East',\n",
       "       'Potong Pasir', 'Tampines West', 'Eunos', 'Yio Chu Kang',\n",
       "       'Farrer Park', 'Bukit Gombak', 'Clementi', 'Yishun', 'Punggol',\n",
       "       'Jurong East', 'Tanah Merah', 'Chinese Garden', 'Kembangan',\n",
       "       'Pasir Ris', 'Jalan Besar', 'Hougang', 'Buona Vista', 'Kaki Bukit',\n",
       "       'Cashew', 'Bedok', 'Boon Keng', 'Woodlands', 'Simei', 'Boon Lay',\n",
       "       'Dakota', 'Redhill', 'Canberra', 'Beauty World', 'Commonwealth',\n",
       "       'Lorong Chuan', 'Tai Seng', 'Bedok Reservoir', 'Holland Village',\n",
       "       'Ubi', 'HarbourFront', 'Dover', 'Chinatown', 'Queenstown',\n",
       "       'Mattar', 'one-north', 'Mountbatten', 'Serangoon', 'Farrer Road',\n",
       "       'Lavender', 'Outram Park', 'Caldecott', 'Aljunied', 'Little India',\n",
       "       'Upper Changi', 'Bartley', 'Woodlands North', 'Paya Lebar',\n",
       "       'Tanjong Pagar', 'Woodleigh', 'Hillview', 'Bencoolen',\n",
       "       'Labrador Park', 'Rochor', 'Nicoll Highway', 'Clarke Quay',\n",
       "       'Tan Kah Kee', 'Bras Basah', 'Changi Airport', 'Bugis',\n",
       "       'Bendemeer', 'Botanic Gardens', 'Novena'], dtype=object)"
      ]
     },
     "execution_count": 66,
     "metadata": {},
     "output_type": "execute_result"
    }
   ],
   "source": [
    "#Peek into some values in the column\n",
    "HDB_df['mrt_name'].unique()"
   ]
  },
  {
   "cell_type": "markdown",
   "id": "18842fb8-ec6f-41b6-be33-f1b5bcd1a314",
   "metadata": {},
   "source": [
    "No anomaly"
   ]
  },
  {
   "cell_type": "markdown",
   "id": "1cf778d8-220e-4c38-b0be-317541e6e66b",
   "metadata": {},
   "source": [
    "#### Column 49 : bus_interchange"
   ]
  },
  {
   "cell_type": "code",
   "execution_count": 67,
   "id": "d68c9a5d-616b-4086-9f27-80993d82003f",
   "metadata": {
    "tags": []
   },
   "outputs": [
    {
     "data": {
      "text/plain": [
       "array([0, 1])"
      ]
     },
     "execution_count": 67,
     "metadata": {},
     "output_type": "execute_result"
    }
   ],
   "source": [
    "#Peek into some values in the column\n",
    "HDB_df['bus_interchange'].unique()"
   ]
  },
  {
   "cell_type": "code",
   "execution_count": 68,
   "id": "2b530d62-00ae-4bc5-bc92-bb7ca9c1ba64",
   "metadata": {
    "tags": []
   },
   "outputs": [],
   "source": [
    "#Changing to string values to capture as categorical variable for OneHotEncoding\n",
    "HDB_df['bus_interchange'] = HDB_df['bus_interchange'].astype(str)"
   ]
  },
  {
   "cell_type": "markdown",
   "id": "69af012b-7da3-46ad-9100-202288a47de1",
   "metadata": {},
   "source": [
    "No anomaly"
   ]
  },
  {
   "cell_type": "markdown",
   "id": "ce603de0-65ca-4b62-9c18-7eef0ea7095c",
   "metadata": {},
   "source": [
    "#### Column 50 : mrt_interchange"
   ]
  },
  {
   "cell_type": "code",
   "execution_count": 69,
   "id": "592ae263-f3f0-49b5-af61-4ffa1abd0fbb",
   "metadata": {
    "tags": []
   },
   "outputs": [
    {
     "data": {
      "text/plain": [
       "array([0, 1])"
      ]
     },
     "execution_count": 69,
     "metadata": {},
     "output_type": "execute_result"
    }
   ],
   "source": [
    "#Peek into some values in the column\n",
    "HDB_df['mrt_interchange'].unique()"
   ]
  },
  {
   "cell_type": "code",
   "execution_count": 70,
   "id": "cbcade12-718e-4878-b1d8-54efc63b3dd4",
   "metadata": {
    "tags": []
   },
   "outputs": [],
   "source": [
    "#Changing to string values to capture as categorical variable  for OneHotEncoding\n",
    "HDB_df['mrt_interchange'] = HDB_df['mrt_interchange'].astype(str)"
   ]
  },
  {
   "cell_type": "markdown",
   "id": "d56d7785-b580-4f24-8ea7-d5dcf583f63b",
   "metadata": {
    "tags": []
   },
   "source": [
    "No anomaly"
   ]
  },
  {
   "cell_type": "markdown",
   "id": "3b098867-7baf-44a0-84c3-5bef8c7f7e73",
   "metadata": {},
   "source": [
    "#### Column 51 : bus_stop_nearest_distance"
   ]
  },
  {
   "cell_type": "code",
   "execution_count": 71,
   "id": "d245b4ac-2989-44d2-99d4-0e4156ebae1e",
   "metadata": {
    "tags": []
   },
   "outputs": [
    {
     "data": {
      "text/plain": [
       "array([ 29.42739466,  58.20776077, 214.74785986, ..., 140.31579262,\n",
       "        69.13918536,  98.25150295])"
      ]
     },
     "execution_count": 71,
     "metadata": {},
     "output_type": "execute_result"
    }
   ],
   "source": [
    "#Peek into some values in the column\n",
    "HDB_df['bus_stop_nearest_distance'].unique()"
   ]
  },
  {
   "cell_type": "code",
   "execution_count": 72,
   "id": "820cd564-8d53-4818-84fd-96f0b4362fd8",
   "metadata": {
    "tags": []
   },
   "outputs": [
    {
     "data": {
      "text/html": [
       "<div>\n",
       "<style scoped>\n",
       "    .dataframe tbody tr th:only-of-type {\n",
       "        vertical-align: middle;\n",
       "    }\n",
       "\n",
       "    .dataframe tbody tr th {\n",
       "        vertical-align: top;\n",
       "    }\n",
       "\n",
       "    .dataframe thead th {\n",
       "        text-align: right;\n",
       "    }\n",
       "</style>\n",
       "<table border=\"1\" class=\"dataframe\">\n",
       "  <thead>\n",
       "    <tr style=\"text-align: right;\">\n",
       "      <th></th>\n",
       "      <th>bus_stop_nearest_distance</th>\n",
       "    </tr>\n",
       "  </thead>\n",
       "  <tbody>\n",
       "    <tr>\n",
       "      <th>count</th>\n",
       "      <td>149805.000000</td>\n",
       "    </tr>\n",
       "    <tr>\n",
       "      <th>mean</th>\n",
       "      <td>115.194170</td>\n",
       "    </tr>\n",
       "    <tr>\n",
       "      <th>std</th>\n",
       "      <td>55.564721</td>\n",
       "    </tr>\n",
       "    <tr>\n",
       "      <th>min</th>\n",
       "      <td>9.001285</td>\n",
       "    </tr>\n",
       "    <tr>\n",
       "      <th>25%</th>\n",
       "      <td>74.959608</td>\n",
       "    </tr>\n",
       "    <tr>\n",
       "      <th>50%</th>\n",
       "      <td>107.686727</td>\n",
       "    </tr>\n",
       "    <tr>\n",
       "      <th>75%</th>\n",
       "      <td>146.624537</td>\n",
       "    </tr>\n",
       "    <tr>\n",
       "      <th>max</th>\n",
       "      <td>443.964584</td>\n",
       "    </tr>\n",
       "  </tbody>\n",
       "</table>\n",
       "</div>"
      ],
      "text/plain": [
       "       bus_stop_nearest_distance\n",
       "count              149805.000000\n",
       "mean                  115.194170\n",
       "std                    55.564721\n",
       "min                     9.001285\n",
       "25%                    74.959608\n",
       "50%                   107.686727\n",
       "75%                   146.624537\n",
       "max                   443.964584"
      ]
     },
     "execution_count": 72,
     "metadata": {},
     "output_type": "execute_result"
    }
   ],
   "source": [
    "#Checking for unusual numeric values\n",
    "HDB_df[['bus_stop_nearest_distance']].describe()"
   ]
  },
  {
   "cell_type": "markdown",
   "id": "07463259-810c-4e01-af1c-5d883f1bf084",
   "metadata": {},
   "source": [
    "No anomaly"
   ]
  },
  {
   "cell_type": "markdown",
   "id": "cbd00cb2-0424-43da-9e4a-61e1fcc131ac",
   "metadata": {},
   "source": [
    "#### Column 52: pri_sch_nearest_distance"
   ]
  },
  {
   "cell_type": "code",
   "execution_count": 73,
   "id": "9cd828fa-bfe1-4846-9d96-0e6623bd9946",
   "metadata": {
    "tags": []
   },
   "outputs": [
    {
     "data": {
      "text/plain": [
       "array([1138.63342159,  415.60735708,  498.84903875, ...,  549.83819733,\n",
       "        379.95700696,  375.7819182 ])"
      ]
     },
     "execution_count": 73,
     "metadata": {},
     "output_type": "execute_result"
    }
   ],
   "source": [
    "#Peek into some values in the column\n",
    "HDB_df['pri_sch_nearest_distance'].unique()"
   ]
  },
  {
   "cell_type": "code",
   "execution_count": 74,
   "id": "23fa29cd-a8d2-44a8-8d84-b7bb57954d85",
   "metadata": {
    "tags": []
   },
   "outputs": [
    {
     "data": {
      "text/html": [
       "<div>\n",
       "<style scoped>\n",
       "    .dataframe tbody tr th:only-of-type {\n",
       "        vertical-align: middle;\n",
       "    }\n",
       "\n",
       "    .dataframe tbody tr th {\n",
       "        vertical-align: top;\n",
       "    }\n",
       "\n",
       "    .dataframe thead th {\n",
       "        text-align: right;\n",
       "    }\n",
       "</style>\n",
       "<table border=\"1\" class=\"dataframe\">\n",
       "  <thead>\n",
       "    <tr style=\"text-align: right;\">\n",
       "      <th></th>\n",
       "      <th>pri_sch_nearest_distance</th>\n",
       "    </tr>\n",
       "  </thead>\n",
       "  <tbody>\n",
       "    <tr>\n",
       "      <th>count</th>\n",
       "      <td>149805.000000</td>\n",
       "    </tr>\n",
       "    <tr>\n",
       "      <th>mean</th>\n",
       "      <td>394.903494</td>\n",
       "    </tr>\n",
       "    <tr>\n",
       "      <th>std</th>\n",
       "      <td>234.186949</td>\n",
       "    </tr>\n",
       "    <tr>\n",
       "      <th>min</th>\n",
       "      <td>45.668324</td>\n",
       "    </tr>\n",
       "    <tr>\n",
       "      <th>25%</th>\n",
       "      <td>227.083163</td>\n",
       "    </tr>\n",
       "    <tr>\n",
       "      <th>50%</th>\n",
       "      <td>348.724666</td>\n",
       "    </tr>\n",
       "    <tr>\n",
       "      <th>75%</th>\n",
       "      <td>502.097957</td>\n",
       "    </tr>\n",
       "    <tr>\n",
       "      <th>max</th>\n",
       "      <td>3305.841039</td>\n",
       "    </tr>\n",
       "  </tbody>\n",
       "</table>\n",
       "</div>"
      ],
      "text/plain": [
       "       pri_sch_nearest_distance\n",
       "count             149805.000000\n",
       "mean                 394.903494\n",
       "std                  234.186949\n",
       "min                   45.668324\n",
       "25%                  227.083163\n",
       "50%                  348.724666\n",
       "75%                  502.097957\n",
       "max                 3305.841039"
      ]
     },
     "execution_count": 74,
     "metadata": {},
     "output_type": "execute_result"
    }
   ],
   "source": [
    "#Checking for unusual numeric values\n",
    "HDB_df[['pri_sch_nearest_distance']].describe()"
   ]
  },
  {
   "cell_type": "markdown",
   "id": "323bea55-2f78-46c6-a836-ad683c2ccbc5",
   "metadata": {},
   "source": [
    "No anomaly"
   ]
  },
  {
   "cell_type": "markdown",
   "id": "a10a3f63-55fe-44d3-a006-fd883a16ec78",
   "metadata": {},
   "source": [
    "#### Column 53: pri_sch_name"
   ]
  },
  {
   "cell_type": "code",
   "execution_count": 75,
   "id": "11903cb0-74a0-4c84-ba9b-ad6c2847aa2a",
   "metadata": {
    "scrolled": true,
    "tags": []
   },
   "outputs": [
    {
     "data": {
      "text/plain": [
       "array(['Geylang Methodist School',\n",
       "       'Kuo Chuan Presbyterian Primary School', 'Keming Primary School',\n",
       "       'Catholic High School', 'Naval Base Primary School',\n",
       "       \"Saint Margaret's Primary School\", 'Xinmin Primary School',\n",
       "       'Damai Primary School', 'Ai Tong School',\n",
       "       'Anchor Green Primary School', 'North Vista Primary School',\n",
       "       'Tampines North Primary School', 'Rosyth School',\n",
       "       'Alexandra Primary School', 'Beacon Primary School',\n",
       "       'Zhenghua Primary School', 'Fuchun Primary School',\n",
       "       'Guangyang Primary School', 'Woodlands Ring Primary School',\n",
       "       'Fernvale Primary School', 'Palm View Primary School',\n",
       "       'Greenwood Primary School', 'Frontier Primary School',\n",
       "       'Lakeside Primary School', 'Chua Chu Kang Primary School',\n",
       "       'Wellington Primary School', 'Hong Wen School',\n",
       "       'Compassvale Primary School', 'Kheng Cheng School',\n",
       "       'Bendemeer Primary School', 'Unity Primary School',\n",
       "       'Ang Mo Kio Primary School', 'Marsiling Primary School',\n",
       "       'Bukit View Primary School', 'Blangah Rise Primary School',\n",
       "       'Sembawang Primary School', 'Admiralty Primary School',\n",
       "       'Yumin Primary School', \"Saint Andrew's Junior School\",\n",
       "       'South View Primary School', 'Peiying Primary School',\n",
       "       \"Saint Hilda's Primary School\", 'Eunos Primary School',\n",
       "       'Anderson Primary School', 'Teck Ghee Primary School',\n",
       "       'White Sands Primary School', 'Farrer Park Primary School',\n",
       "       'Lianhua Primary School', 'Qifa Primary School',\n",
       "       'Northland Primary School', 'Horizon Primary School',\n",
       "       'Jing Shan Primary School', 'Yuhua Primary School',\n",
       "       'Bedok Green Primary School', 'Pei Chun Public School',\n",
       "       'Canossa Catholic Primary School', 'Zhangde Primary School',\n",
       "       'Evergreen Primary School', 'West View Primary School',\n",
       "       'First Toa Payoh Primary School', 'Telok Kurau Primary School',\n",
       "       \"Saint Anthony's Primary School\", 'Elias Park Primary School',\n",
       "       'Fuhua Primary School', 'Stamford Primary School',\n",
       "       'Dazhong Primary School', 'North Spring Primary School',\n",
       "       \"Holy Innocents' Primary School\", 'Tampines Primary School',\n",
       "       'Greenridge Primary School', 'Henry Park Primary School',\n",
       "       'Pei Tong Primary School', 'Hougang Primary School',\n",
       "       'Bukit Panjang Primary School', 'Woodgrove Primary School',\n",
       "       'Mayflower Primary School', 'Fengshan Primary School',\n",
       "       'Pioneer Primary School', 'Punggol Green Primary School',\n",
       "       'Chongfu School', 'Townsville Primary School',\n",
       "       'Xishan Primary School', 'Punggol Primary School',\n",
       "       'Riverside Primary School', 'Si Ling Primary School',\n",
       "       'Punggol View Primary School', 'Rivervale Primary School',\n",
       "       'West Grove Primary School', 'Changkat Primary School',\n",
       "       'Teck Whye Primary School', 'Corporation Primary School',\n",
       "       'Ahmad Ibrahim Primary School', 'Angsana Primary School',\n",
       "       'Woodlands Primary School', 'Kong Hwa School',\n",
       "       'Nan Chiau Primary School', 'Boon Lay Garden Primary School',\n",
       "       'Gan Eng Seng Primary School', 'Westwood Primary School',\n",
       "       'Jiemin Primary School', 'Pei Hwa Presbyterian Primary School',\n",
       "       'Poi Ching School', 'Oasis Primary School',\n",
       "       'Kranji Primary School', 'New Town Primary School',\n",
       "       'CHIJ Our Lady of Good Counsel', 'Rulang Primary School',\n",
       "       'Yu Neng Primary School', 'North View Primary School',\n",
       "       'Northoaks Primary School', 'East Spring Primary School',\n",
       "       'Yangzheng Primary School', 'Canberra Primary School',\n",
       "       'Mee Toh School', 'Greendale Primary School',\n",
       "       'Jurong West Primary School', 'Springdale Primary School',\n",
       "       'Maha Bodhi School', 'Juying Primary School',\n",
       "       'Concord Primary School', 'Innova Primary School',\n",
       "       'Junyuan Primary School', 'CHIJ Our Lady of The Nativity',\n",
       "       'Qihua Primary School', 'Radin Mas Primary School',\n",
       "       'Nan Hua Primary School', 'Meridian Primary School',\n",
       "       'De La Salle School', 'Fairfield Methodist School',\n",
       "       'Seng Kang Primary School', \"Paya Lebar Methodist Girls' School\",\n",
       "       'Shuqun Primary School', 'Cantonment Primary School',\n",
       "       'Sengkang Green Primary School', 'Clementi Primary School',\n",
       "       \"CHIJ Saint Nicholas Girls' School\", 'Yishun Primary School',\n",
       "       'Xinghua Primary School', 'Huamin Primary School',\n",
       "       'Edgefield Primary School', 'Gongshang Primary School',\n",
       "       'Queenstown Primary School', 'Chongzheng Primary School',\n",
       "       'Park View Primary School', 'Princess Elizabeth Primary School',\n",
       "       'Casuarina Primary School', 'Yio Chu Kang Primary School',\n",
       "       'Opera Estate Primary School', 'West Spring Primary School',\n",
       "       'Montfort Junior School', 'Nanyang Primary School',\n",
       "       'Red Swastika School', \"Saint Anthony's Canossian Primary School\",\n",
       "       'Zhonghua Primary School', \"Saint Stephen's School\",\n",
       "       'Waterway Primary School', 'CHIJ Primary',\n",
       "       'Punggol Cove Primary School', 'Valour Primary School',\n",
       "       'Temasek Primary School', 'Yew Tee Primary School',\n",
       "       'Pasir Ris Primary School', 'CHIJ', 'Cedar Primary School',\n",
       "       'Endeavour Primary School', \"Haig Girls' School\",\n",
       "       'Jurong Primary School', 'Maris Stella High School',\n",
       "       'Tao Nan School', 'Fern Green Primary School',\n",
       "       'Xingnan Primary School', 'Ngee Ann Primary School',\n",
       "       \"Saint Joseph's Institution Junior\", 'River Valley Primary School',\n",
       "       'CHIJ Our Lady Queen of Peace', 'Marymount Convent School',\n",
       "       \"Saint Gabriel's Primary School\"], dtype=object)"
      ]
     },
     "execution_count": 75,
     "metadata": {},
     "output_type": "execute_result"
    }
   ],
   "source": [
    "#Peek into some values in the column\n",
    "HDB_df['pri_sch_name'].unique()"
   ]
  },
  {
   "cell_type": "code",
   "execution_count": 76,
   "id": "c3fc069e-d3ba-4669-b3f6-45ac7fc9819a",
   "metadata": {
    "tags": []
   },
   "outputs": [
    {
     "name": "stdout",
     "output_type": "stream",
     "text": [
      "[\"Saint Margaret's Primary School\", \"Saint Andrew's Junior School\", \"Saint Hilda's Primary School\", \"Saint Anthony's Primary School\", \"Holy Innocents' Primary School\", \"Paya Lebar Methodist Girls' School\", \"CHIJ Saint Nicholas Girls' School\", \"Saint Anthony's Canossian Primary School\", \"Saint Stephen's School\", \"Haig Girls' School\", \"Saint Joseph's Institution Junior\", \"Saint Gabriel's Primary School\"]\n"
     ]
    }
   ],
   "source": [
    "#Checking for unusal values\n",
    "pri_name_vals=list(HDB_df['pri_sch_name'].unique())\n",
    "unusual_sch_name=[]\n",
    "for i in pri_name_vals:\n",
    "    check=i.replace(' ', '')\n",
    "    if not check.isalnum():\n",
    "        unusual_sch_name.append(i)\n",
    "print(unusual_sch_name)"
   ]
  },
  {
   "cell_type": "markdown",
   "id": "f65f8681-0ece-4b29-83fb-d4691c09ea12",
   "metadata": {
    "tags": []
   },
   "source": [
    "No unusual anomaly as these entries consist of apostrophe"
   ]
  },
  {
   "cell_type": "markdown",
   "id": "b7c9c901-8433-4337-af24-884070dd0696",
   "metadata": {},
   "source": [
    "#### Column 54: vacancy"
   ]
  },
  {
   "cell_type": "code",
   "execution_count": 77,
   "id": "5723ee61-29ab-4c72-a130-bbc26717acbd",
   "metadata": {
    "tags": []
   },
   "outputs": [
    {
     "data": {
      "text/plain": [
       "array([ 78,  45,  39,  20,  74,  65,  48,  56,  30,  75,  79,  71,  54,\n",
       "        72,  51,  46,  61,  67,  34,  63,  68,  85,  36,  55,  53,  50,\n",
       "        38,  57,  26,  47,  40,  69,  91,  27,  62,  43,  64,  66,  49,\n",
       "        52,  32,  84,  60,  44,  41,  25,  83,  23,  73,  92,  59,  90,\n",
       "        29,  70,  82,  22,  93, 106,  33,  24,  76,  87,  58,  42, 110,\n",
       "        37])"
      ]
     },
     "execution_count": 77,
     "metadata": {},
     "output_type": "execute_result"
    }
   ],
   "source": [
    "#Peek into some values in the column\n",
    "HDB_df['vacancy'].unique()"
   ]
  },
  {
   "cell_type": "markdown",
   "id": "c4e7aca3-e7c9-43d7-be9a-39cb229c9f99",
   "metadata": {},
   "source": [
    "No anomaly"
   ]
  },
  {
   "cell_type": "markdown",
   "id": "f3144670-1afc-4a5c-ad3e-d47724a0438c",
   "metadata": {},
   "source": [
    "#### Column 55: pri_sch_affiliation"
   ]
  },
  {
   "cell_type": "code",
   "execution_count": 78,
   "id": "4608a120-0823-4717-b8e0-56ce32191983",
   "metadata": {
    "tags": []
   },
   "outputs": [
    {
     "data": {
      "text/plain": [
       "array([1, 0])"
      ]
     },
     "execution_count": 78,
     "metadata": {},
     "output_type": "execute_result"
    }
   ],
   "source": [
    "#Peek into some values in the column\n",
    "HDB_df['pri_sch_affiliation'].unique()"
   ]
  },
  {
   "cell_type": "markdown",
   "id": "17f397ad-64c6-4274-ba1e-9ee705c8fb4d",
   "metadata": {},
   "source": [
    "No anomaly"
   ]
  },
  {
   "cell_type": "markdown",
   "id": "5c13652a-9f80-41f0-8596-1b8f473ac7f7",
   "metadata": {},
   "source": [
    "#### Column 56: sec_sch_nearest_dist"
   ]
  },
  {
   "cell_type": "code",
   "execution_count": 79,
   "id": "b018176f-d499-4650-9bc4-c9bba905badd",
   "metadata": {
    "tags": []
   },
   "outputs": [
    {
     "data": {
      "text/plain": [
       "array([1138.63342159,  447.89439926,  180.07455778, ...,  310.51267058,\n",
       "        175.71630041,  493.2696865 ])"
      ]
     },
     "execution_count": 79,
     "metadata": {},
     "output_type": "execute_result"
    }
   ],
   "source": [
    "#Peek into some values in the column\n",
    "HDB_df['sec_sch_nearest_dist'].unique()"
   ]
  },
  {
   "cell_type": "code",
   "execution_count": 80,
   "id": "67d65614-d468-4f7e-a9c1-07df92a89524",
   "metadata": {
    "tags": []
   },
   "outputs": [
    {
     "data": {
      "text/html": [
       "<div>\n",
       "<style scoped>\n",
       "    .dataframe tbody tr th:only-of-type {\n",
       "        vertical-align: middle;\n",
       "    }\n",
       "\n",
       "    .dataframe tbody tr th {\n",
       "        vertical-align: top;\n",
       "    }\n",
       "\n",
       "    .dataframe thead th {\n",
       "        text-align: right;\n",
       "    }\n",
       "</style>\n",
       "<table border=\"1\" class=\"dataframe\">\n",
       "  <thead>\n",
       "    <tr style=\"text-align: right;\">\n",
       "      <th></th>\n",
       "      <th>sec_sch_nearest_dist</th>\n",
       "    </tr>\n",
       "  </thead>\n",
       "  <tbody>\n",
       "    <tr>\n",
       "      <th>count</th>\n",
       "      <td>149805.000000</td>\n",
       "    </tr>\n",
       "    <tr>\n",
       "      <th>mean</th>\n",
       "      <td>507.628791</td>\n",
       "    </tr>\n",
       "    <tr>\n",
       "      <th>std</th>\n",
       "      <td>308.752257</td>\n",
       "    </tr>\n",
       "    <tr>\n",
       "      <th>min</th>\n",
       "      <td>38.913475</td>\n",
       "    </tr>\n",
       "    <tr>\n",
       "      <th>25%</th>\n",
       "      <td>289.176378</td>\n",
       "    </tr>\n",
       "    <tr>\n",
       "      <th>50%</th>\n",
       "      <td>446.671027</td>\n",
       "    </tr>\n",
       "    <tr>\n",
       "      <th>75%</th>\n",
       "      <td>642.519665</td>\n",
       "    </tr>\n",
       "    <tr>\n",
       "      <th>max</th>\n",
       "      <td>3638.977233</td>\n",
       "    </tr>\n",
       "  </tbody>\n",
       "</table>\n",
       "</div>"
      ],
      "text/plain": [
       "       sec_sch_nearest_dist\n",
       "count         149805.000000\n",
       "mean             507.628791\n",
       "std              308.752257\n",
       "min               38.913475\n",
       "25%              289.176378\n",
       "50%              446.671027\n",
       "75%              642.519665\n",
       "max             3638.977233"
      ]
     },
     "execution_count": 80,
     "metadata": {},
     "output_type": "execute_result"
    }
   ],
   "source": [
    "#Checking for unusual numeric values\n",
    "HDB_df[['sec_sch_nearest_dist']].describe()"
   ]
  },
  {
   "cell_type": "markdown",
   "id": "eedeabee-d800-4519-bed4-ef99aeb2a933",
   "metadata": {},
   "source": [
    "No anomaly"
   ]
  },
  {
   "cell_type": "markdown",
   "id": "9f60dce4-b2ef-46fa-89c0-f98c54c0717e",
   "metadata": {},
   "source": [
    "#### Column 57: sec_sch_name"
   ]
  },
  {
   "cell_type": "code",
   "execution_count": 81,
   "id": "8d1ebba2-f367-42f0-b865-d480d7f68531",
   "metadata": {
    "scrolled": true,
    "tags": []
   },
   "outputs": [
    {
     "data": {
      "text/plain": [
       "array(['Geylang Methodist School',\n",
       "       'Kuo Chuan Presbyterian Secondary School',\n",
       "       'Yusof Ishak Secondary School', 'Catholic High School',\n",
       "       'Orchid Park Secondary School', 'Bowen Secondary School',\n",
       "       'Damai Secondary School', 'Peirce Secondary School',\n",
       "       'Nan Chiau High School', 'Seng Kang Secondary School',\n",
       "       'Pasir Ris Secondary School', 'Serangoon Garden Secondary School',\n",
       "       'Gan Eng Seng School', 'Zhenghua Secondary School',\n",
       "       'Fajar Secondary School', 'Fuchun Secondary School',\n",
       "       'Guangyang Secondary School', 'Woodgrove Secondary School',\n",
       "       'Pei Hwa Secondary School', 'Montfort Secondary School',\n",
       "       'Admiralty Secondary School', 'Jurong West Secondary School',\n",
       "       'Jurong Secondary School', 'Bukit Panjang Government High School',\n",
       "       'Canberra Secondary School', 'Bendemeer Secondary School',\n",
       "       'Compassvale Secondary School', 'CHIJ Secondary',\n",
       "       'Unity Secondary School', 'Ang Mo Kio Secondary School',\n",
       "       'Beatty Secondary School', 'Marsiling Secondary School',\n",
       "       'Bukit View Secondary School', 'Bukit Merah Secondary School',\n",
       "       'Sembawang Secondary School', 'Ngee Ann Secondary School',\n",
       "       \"Saint Andrew's Secondary School\", 'Naval Base Secondary School',\n",
       "       'Yuan Ching Secondary School', 'Springfield Secondary School',\n",
       "       'Manjusri Secondary School', 'Yio Chu Kang Secondary School',\n",
       "       'Deyi Secondary School', 'Loyang Secondary School',\n",
       "       'Hillgrove Secondary School', 'Kent Ridge Secondary School',\n",
       "       'Northbrooks Secondary School', 'Punggol Secondary School',\n",
       "       'Bedok View Secondary School', 'Woodlands Secondary School',\n",
       "       'Woodlands Ring Secondary School', 'Bukit Batok Secondary School',\n",
       "       'Evergreen Secondary School', 'North Vista Secondary School',\n",
       "       'Anderson Secondary School', 'Dunearn Secondary School',\n",
       "       'Hai Sing Catholic School', \"Raffles Girls' School\",\n",
       "       'Xinmin Secondary School', 'Swiss Cottage Secondary School',\n",
       "       'Tampines Secondary School', 'Fairfield Methodist School',\n",
       "       'New Town Secondary School', 'Hougang Secondary School',\n",
       "       'Ping Yi Secondary School', 'Juying Secondary School',\n",
       "       'Temasek Junior College', 'Bartley Secondary School',\n",
       "       'Edgefield Secondary School', 'Northland Secondary School',\n",
       "       'Tanglin Secondary School', 'Greendale Secondary School',\n",
       "       \"Saint Hilda's Secondary School\", \"Holy Innocents' High School\",\n",
       "       'Commonwealth Secondary School', 'Riverside Secondary School',\n",
       "       'Boon Lay Secondary School', 'Yuying Secondary School',\n",
       "       'Changkat Changi Secondary School',\n",
       "       'Chua Chu Kang Secondary School', 'Westwood Secondary School',\n",
       "       'Yishun Secondary School', 'Broadrick Secondary School',\n",
       "       'Ahmad Ibrahim Secondary School', 'River Valley High School',\n",
       "       \"CHIJ Saint Theresa's Convent\", \"Methodist Girls' School\",\n",
       "       'Junyuan Secondary School', 'Queensway Secondary School',\n",
       "       'Peicai Secondary School', 'Hua Yi Secondary School',\n",
       "       'Whitley Secondary School', 'East Spring Secondary School',\n",
       "       'Clementi Town Secondary School', 'Zhonghua Secondary School',\n",
       "       'West Spring Secondary School', 'Anglican High School',\n",
       "       'Meridian Secondary School', 'Serangoon Secondary School',\n",
       "       'Presbyterian High School', \"Paya Lebar Methodist Girls' School\",\n",
       "       'Outram Secondary School', 'Bedok Green Secondary School',\n",
       "       'Christ Church Secondary School', 'Yishun Town Secondary School',\n",
       "       'Hong Kah Secondary School', \"CHIJ Saint Joseph's Convent\",\n",
       "       'Queenstown Secondary School', 'Teck Whye Secondary School',\n",
       "       'Dunman High School', 'Fuhua Secondary School',\n",
       "       'Yuhua Secondary School', \"CHIJ Saint Nicholas Girls' School\",\n",
       "       'Greenridge Secondary School', \"Saint Margaret's Secondary School\",\n",
       "       'Dunman Secondary School',\n",
       "       \"Saint Anthony's Canossian Secondary School\",\n",
       "       'Temasek Secondary School', 'Mayflower Secondary School',\n",
       "       'Nan Hua High School', 'Pasir Ris Crest Secondary School',\n",
       "       \"Cedar Girls' Secondary School\", 'Regent Secondary School',\n",
       "       'Kranji Secondary School', 'Tanjong Katong Secondary School',\n",
       "       'Jurongville Secondary School', \"Saint Gabriel's Secondary School\",\n",
       "       \"Saint Patrick's School\", 'CHIJ Katong Convent',\n",
       "       'Assumption English School', 'Raffles Institution',\n",
       "       \"Crescent Girls' School\", 'Chung Cheng High School',\n",
       "       'Anglo-Chinese School'], dtype=object)"
      ]
     },
     "execution_count": 81,
     "metadata": {},
     "output_type": "execute_result"
    }
   ],
   "source": [
    "#Peek into some values in the column\n",
    "HDB_df['sec_sch_name'].unique()"
   ]
  },
  {
   "cell_type": "code",
   "execution_count": 82,
   "id": "9c179405-1247-46d2-9623-16af99acc3f5",
   "metadata": {
    "tags": []
   },
   "outputs": [
    {
     "name": "stdout",
     "output_type": "stream",
     "text": [
      "[\"Saint Andrew's Secondary School\", \"Raffles Girls' School\", \"Saint Hilda's Secondary School\", \"Holy Innocents' High School\", \"CHIJ Saint Theresa's Convent\", \"Methodist Girls' School\", \"Paya Lebar Methodist Girls' School\", \"CHIJ Saint Joseph's Convent\", \"CHIJ Saint Nicholas Girls' School\", \"Saint Margaret's Secondary School\", \"Saint Anthony's Canossian Secondary School\", \"Cedar Girls' Secondary School\", \"Saint Gabriel's Secondary School\", \"Saint Patrick's School\", \"Crescent Girls' School\", 'Anglo-Chinese School']\n"
     ]
    }
   ],
   "source": [
    "#Checking for unusal values\n",
    "sec_name_vals=list(HDB_df['sec_sch_name'].unique())\n",
    "unusual_sch_name=[]\n",
    "for i in sec_name_vals:\n",
    "    check=i.replace(' ', '')\n",
    "    if not check.isalnum():\n",
    "        unusual_sch_name.append(i)\n",
    "print(unusual_sch_name)"
   ]
  },
  {
   "cell_type": "markdown",
   "id": "4a50e362-49fe-4536-902f-30c0f174d0da",
   "metadata": {},
   "source": [
    "No unusual anomaly as these entries consist of apostrophe"
   ]
  },
  {
   "cell_type": "code",
   "execution_count": 84,
   "id": "ca6c0458-f485-4f46-963d-442f805f8e80",
   "metadata": {
    "tags": []
   },
   "outputs": [
    {
     "name": "stdout",
     "output_type": "stream",
     "text": [
      "After data cleaning, there are 149805 rows and 57 features left\n"
     ]
    }
   ],
   "source": [
    "print(f'After data cleaning, there are {HDB_df.shape[0]} rows and {HDB_df.shape[1]} features left')"
   ]
  },
  {
   "cell_type": "markdown",
   "id": "ea47da1e-59d0-4e64-8876-4c997b587d6f",
   "metadata": {},
   "source": [
    "## EDA"
   ]
  },
  {
   "cell_type": "markdown",
   "id": "9896158d-8c9f-4b90-8ae5-ab5dc7ec6f26",
   "metadata": {},
   "source": [
    "### Trends of resale price"
   ]
  },
  {
   "cell_type": "code",
   "execution_count": 106,
   "id": "79e6ab0a-e7df-4b9f-870d-dcc83fc4b66b",
   "metadata": {
    "tags": []
   },
   "outputs": [
    {
     "data": {
      "image/png": "[encoded data removed]",
      "text/plain": [
       "<Figure size 1500x1000 with 1 Axes>"
      ]
     },
     "metadata": {},
     "output_type": "display_data"
    }
   ],
   "source": [
    "sns.set(rc={'figure.figsize':(15,10)})\n",
    "ax=sns.lineplot(data=HDB_df,x='Tranc_Year', y='resale_price', errorbar=('ci',False))\n",
    "\n",
    "ax.set_title('Resale price from year 2012 to 2021', fontdict={'fontsize': 16, 'fontweight': 'bold'})\n",
    "ax.set(xlabel='Year', ylabel='Resale Price')\n",
    "ax.set_xticks([i for i in range(2012, 2022)]);"
   ]
  },
  {
   "cell_type": "markdown",
   "id": "3b21c7ba-7ab9-432f-9e99-a373a3c45a7e",
   "metadata": {},
   "source": [
    "Reason for dip in 2013 possibly due to:\n",
    "- [Introduction of a '3 year wait rule' for PRs in Singapore to be eligible to purchase a HDB](https://sbr.com.sg/residential-property/news/hdb-resale-prices-drop-first-time-in-over-4-years)\n",
    "- Total debt servicing ratio(TDSR) was introduced in 2013 that limits the amount of loans an individual can burden at a time at 60% of their gross monthly income thus limiting their ability to purchase resale flats\n",
    "\n",
    "Reason for rise in 2020 onwards due to:\n",
    "- COVID disrupting supply of BTO HDB flats with circuit breaker measures and manpower crunch\n"
   ]
  },
  {
   "cell_type": "code",
   "execution_count": 85,
   "id": "706a6dd4-7a42-4df2-afb0-88bf7b0a0822",
   "metadata": {},
   "outputs": [
    {
     "data": {
      "text/html": [
       "<div>\n",
       "<style scoped>\n",
       "    .dataframe tbody tr th:only-of-type {\n",
       "        vertical-align: middle;\n",
       "    }\n",
       "\n",
       "    .dataframe tbody tr th {\n",
       "        vertical-align: top;\n",
       "    }\n",
       "\n",
       "    .dataframe thead th {\n",
       "        text-align: right;\n",
       "    }\n",
       "</style>\n",
       "<table border=\"1\" class=\"dataframe\">\n",
       "  <thead>\n",
       "    <tr style=\"text-align: right;\">\n",
       "      <th></th>\n",
       "      <th>count</th>\n",
       "      <th>mean</th>\n",
       "      <th>std</th>\n",
       "      <th>min</th>\n",
       "      <th>25%</th>\n",
       "      <th>50%</th>\n",
       "      <th>75%</th>\n",
       "      <th>max</th>\n",
       "    </tr>\n",
       "    <tr>\n",
       "      <th>Tranc_Month</th>\n",
       "      <th></th>\n",
       "      <th></th>\n",
       "      <th></th>\n",
       "      <th></th>\n",
       "      <th></th>\n",
       "      <th></th>\n",
       "      <th></th>\n",
       "      <th></th>\n",
       "    </tr>\n",
       "  </thead>\n",
       "  <tbody>\n",
       "    <tr>\n",
       "      <th>1</th>\n",
       "      <td>10844.0</td>\n",
       "      <td>449071.501925</td>\n",
       "      <td>144259.548307</td>\n",
       "      <td>150000.0</td>\n",
       "      <td>345000.0</td>\n",
       "      <td>422000.0</td>\n",
       "      <td>520000.0</td>\n",
       "      <td>1210000.0</td>\n",
       "    </tr>\n",
       "    <tr>\n",
       "      <th>2</th>\n",
       "      <td>9270.0</td>\n",
       "      <td>451562.573320</td>\n",
       "      <td>150411.023253</td>\n",
       "      <td>157000.0</td>\n",
       "      <td>345000.0</td>\n",
       "      <td>420000.0</td>\n",
       "      <td>525000.0</td>\n",
       "      <td>1210000.0</td>\n",
       "    </tr>\n",
       "    <tr>\n",
       "      <th>3</th>\n",
       "      <td>14362.0</td>\n",
       "      <td>451204.734421</td>\n",
       "      <td>143246.015987</td>\n",
       "      <td>160000.0</td>\n",
       "      <td>348888.0</td>\n",
       "      <td>425000.0</td>\n",
       "      <td>522000.0</td>\n",
       "      <td>1232000.0</td>\n",
       "    </tr>\n",
       "    <tr>\n",
       "      <th>4</th>\n",
       "      <td>13429.0</td>\n",
       "      <td>451937.424568</td>\n",
       "      <td>140148.892104</td>\n",
       "      <td>170000.0</td>\n",
       "      <td>350000.0</td>\n",
       "      <td>425000.0</td>\n",
       "      <td>520000.0</td>\n",
       "      <td>1200000.0</td>\n",
       "    </tr>\n",
       "    <tr>\n",
       "      <th>5</th>\n",
       "      <td>12036.0</td>\n",
       "      <td>449823.511798</td>\n",
       "      <td>139924.810075</td>\n",
       "      <td>165000.0</td>\n",
       "      <td>350000.0</td>\n",
       "      <td>420000.0</td>\n",
       "      <td>520000.0</td>\n",
       "      <td>1170000.0</td>\n",
       "    </tr>\n",
       "    <tr>\n",
       "      <th>6</th>\n",
       "      <td>13072.0</td>\n",
       "      <td>444454.947427</td>\n",
       "      <td>143236.905526</td>\n",
       "      <td>175000.0</td>\n",
       "      <td>342000.0</td>\n",
       "      <td>417500.0</td>\n",
       "      <td>513000.0</td>\n",
       "      <td>1188000.0</td>\n",
       "    </tr>\n",
       "    <tr>\n",
       "      <th>7</th>\n",
       "      <td>13816.0</td>\n",
       "      <td>444592.387423</td>\n",
       "      <td>140970.559266</td>\n",
       "      <td>160000.0</td>\n",
       "      <td>345000.0</td>\n",
       "      <td>420000.0</td>\n",
       "      <td>515000.0</td>\n",
       "      <td>1205000.0</td>\n",
       "    </tr>\n",
       "    <tr>\n",
       "      <th>8</th>\n",
       "      <td>13323.0</td>\n",
       "      <td>448429.062078</td>\n",
       "      <td>143219.516506</td>\n",
       "      <td>168000.0</td>\n",
       "      <td>348000.0</td>\n",
       "      <td>420000.0</td>\n",
       "      <td>520000.0</td>\n",
       "      <td>1200000.0</td>\n",
       "    </tr>\n",
       "    <tr>\n",
       "      <th>9</th>\n",
       "      <td>12610.0</td>\n",
       "      <td>447500.976795</td>\n",
       "      <td>144915.594653</td>\n",
       "      <td>160000.0</td>\n",
       "      <td>345000.0</td>\n",
       "      <td>420000.0</td>\n",
       "      <td>518000.0</td>\n",
       "      <td>1258000.0</td>\n",
       "    </tr>\n",
       "    <tr>\n",
       "      <th>10</th>\n",
       "      <td>13471.0</td>\n",
       "      <td>447791.184452</td>\n",
       "      <td>142901.897840</td>\n",
       "      <td>150000.0</td>\n",
       "      <td>345000.0</td>\n",
       "      <td>420000.0</td>\n",
       "      <td>518000.0</td>\n",
       "      <td>1208000.0</td>\n",
       "    </tr>\n",
       "    <tr>\n",
       "      <th>11</th>\n",
       "      <td>12429.0</td>\n",
       "      <td>448833.592608</td>\n",
       "      <td>143382.880792</td>\n",
       "      <td>178000.0</td>\n",
       "      <td>345000.0</td>\n",
       "      <td>420000.0</td>\n",
       "      <td>520000.0</td>\n",
       "      <td>1248000.0</td>\n",
       "    </tr>\n",
       "    <tr>\n",
       "      <th>12</th>\n",
       "      <td>11143.0</td>\n",
       "      <td>449806.989030</td>\n",
       "      <td>143945.195115</td>\n",
       "      <td>178000.0</td>\n",
       "      <td>345000.0</td>\n",
       "      <td>425000.0</td>\n",
       "      <td>520444.0</td>\n",
       "      <td>1075000.0</td>\n",
       "    </tr>\n",
       "  </tbody>\n",
       "</table>\n",
       "</div>"
      ],
      "text/plain": [
       "               count           mean            std       min       25%  \\\n",
       "Tranc_Month                                                              \n",
       "1            10844.0  449071.501925  144259.548307  150000.0  345000.0   \n",
       "2             9270.0  451562.573320  150411.023253  157000.0  345000.0   \n",
       "3            14362.0  451204.734421  143246.015987  160000.0  348888.0   \n",
       "4            13429.0  451937.424568  140148.892104  170000.0  350000.0   \n",
       "5            12036.0  449823.511798  139924.810075  165000.0  350000.0   \n",
       "6            13072.0  444454.947427  143236.905526  175000.0  342000.0   \n",
       "7            13816.0  444592.387423  140970.559266  160000.0  345000.0   \n",
       "8            13323.0  448429.062078  143219.516506  168000.0  348000.0   \n",
       "9            12610.0  447500.976795  144915.594653  160000.0  345000.0   \n",
       "10           13471.0  447791.184452  142901.897840  150000.0  345000.0   \n",
       "11           12429.0  448833.592608  143382.880792  178000.0  345000.0   \n",
       "12           11143.0  449806.989030  143945.195115  178000.0  345000.0   \n",
       "\n",
       "                  50%       75%        max  \n",
       "Tranc_Month                                 \n",
       "1            422000.0  520000.0  1210000.0  \n",
       "2            420000.0  525000.0  1210000.0  \n",
       "3            425000.0  522000.0  1232000.0  \n",
       "4            425000.0  520000.0  1200000.0  \n",
       "5            420000.0  520000.0  1170000.0  \n",
       "6            417500.0  513000.0  1188000.0  \n",
       "7            420000.0  515000.0  1205000.0  \n",
       "8            420000.0  520000.0  1200000.0  \n",
       "9            420000.0  518000.0  1258000.0  \n",
       "10           420000.0  518000.0  1208000.0  \n",
       "11           420000.0  520000.0  1248000.0  \n",
       "12           425000.0  520444.0  1075000.0  "
      ]
     },
     "execution_count": 85,
     "metadata": {},
     "output_type": "execute_result"
    }
   ],
   "source": [
    "HDB_df.groupby('Tranc_Month')['resale_price'].describe()"
   ]
  },
  {
   "cell_type": "code",
   "execution_count": 108,
   "id": "6126e9b6-16f5-48cc-981c-3a7db29aec6d",
   "metadata": {
    "tags": []
   },
   "outputs": [
    {
     "data": {
      "image/png": "[encoded data removed]",
      "text/plain": [
       "<Figure size 1500x1000 with 1 Axes>"
      ]
     },
     "metadata": {},
     "output_type": "display_data"
    }
   ],
   "source": [
    "sns.set(rc={'figure.figsize':(15,10)})\n",
    "ax2=sns.lineplot(data=HDB_df,x='Tranc_Month', y='resale_price', errorbar=('ci',False))\n",
    "\n",
    "ax2.set_title('Average resale price monthly between 2012 to 2021', fontdict={'fontsize': 16, 'fontweight': 'bold'})\n",
    "ax2.set(xlabel='Months', ylabel='Resale Price')\n",
    "ax2.set_xticks([i for i in range(0, 13)]);"
   ]
  },
  {
   "cell_type": "markdown",
   "id": "3fcf42c3-a753-4892-a50d-0a4e0b5cc866",
   "metadata": {},
   "source": [
    "Based on monthyl year-on-year basis, it is observed that there is drop in prices in May but a rise starting in June till August.\n",
    "\n",
    "Potential reasons to explore:\n",
    "\n",
    "- Relation to school holidays in June where families in Singapore might have more time to view properties (November to December periods also display rise in prices)\n",
    "- Relation to start of Singapores' universities semester in August which might drive demand for rent/purchase of resale flats\n",
    "\n"
   ]
  },
  {
   "cell_type": "markdown",
   "id": "10b1573c-9993-47a3-956c-48dce1ef69db",
   "metadata": {},
   "source": [
    "### Distribution of features"
   ]
  },
  {
   "cell_type": "markdown",
   "id": "713b29a5-f5e8-4beb-a49d-f183951393c5",
   "metadata": {},
   "source": [
    "Summary of distribution of data of each predictor with continous data"
   ]
  },
  {
   "cell_type": "markdown",
   "id": "a5e1fd16-9a03-4a05-884d-a1efbf5fceb5",
   "metadata": {},
   "source": [
    "#### Boxplot on numeric columns"
   ]
  },
  {
   "cell_type": "code",
   "execution_count": 87,
   "id": "ba1f808c-7c11-431d-92a5-f408716b53eb",
   "metadata": {
    "tags": []
   },
   "outputs": [],
   "source": [
    "#Constructing a list of the index of HDB_df.columns that contain continous data\n",
    "num_col_list=[4,6,7,10,11,12,13,14,20,21,22,23,24,25,26,27,28,29,30,31,32,33,34,36,37,38,39,40,41,42,43,44,45,46,50,51,55]"
   ]
  },
  {
   "cell_type": "code",
   "execution_count": 88,
   "id": "1ad6618c-5fd4-484b-86c7-d380fb25ad20",
   "metadata": {
    "tags": []
   },
   "outputs": [],
   "source": [
    "plot_list=[]\n",
    "for i in num_col_list:\n",
    "    plot_list.append(HDB_df.columns[i])"
   ]
  },
  {
   "cell_type": "code",
   "execution_count": 89,
   "id": "e12bdd86-e40c-414e-af3c-66a9834d7808",
   "metadata": {
    "tags": []
   },
   "outputs": [
    {
     "data": {
      "image/png": "[encoded data removed]",
      "text/plain": [
       "<Figure size 2000x3000 with 38 Axes>"
      ]
     },
     "metadata": {},
     "output_type": "display_data"
    }
   ],
   "source": [
    "fig, axes = plt.subplots(19,2)\n",
    "fig.set_size_inches(20, 30)\n",
    "\n",
    "axes=axes.flatten()\n",
    "\n",
    "for i,col in enumerate (plot_list):\n",
    "    sns.boxplot(HDB_df[col], ax=axes[i], orient='h')\n",
    "    axes[i].set_xlabel(col)\n",
    "\n",
    "plt.tight_layout()"
   ]
  },
  {
   "cell_type": "markdown",
   "id": "0a9965e2-9cd4-4892-8a2e-3c29cb2f13d3",
   "metadata": {},
   "source": [
    "Conclusion: \n",
    "- Most of the feature's data have outliers as seen in the compilation of box plots above but due to the amount of data is available, we will ignore the outliers for now and consider to remove them if the need arise.\n",
    "- Most features are also concluded visually to be not normally distributed."
   ]
  },
  {
   "cell_type": "markdown",
   "id": "6dc4c043-2428-4db3-902b-910a91ded926",
   "metadata": {},
   "source": [
    "### Correlation between features"
   ]
  },
  {
   "cell_type": "markdown",
   "id": "42391e38-35cb-478a-abe3-3c88703ff559",
   "metadata": {},
   "source": [
    "#### Correlation to resale_price"
   ]
  },
  {
   "cell_type": "markdown",
   "id": "4c1ee8d0-ba32-4d6d-9f85-e7209fd8cd46",
   "metadata": {},
   "source": [
    "To understand the degree of correlation between each feature and resale price"
   ]
  },
  {
   "cell_type": "code",
   "execution_count": 90,
   "id": "e4343b3f-8d52-45a9-a74a-c97b7873705c",
   "metadata": {
    "tags": []
   },
   "outputs": [],
   "source": [
    "#Constructing the correlation dataframe\n",
    "corr_df=HDB_df.corr()\n",
    "corr_df_sorted=corr_df[['resale_price']].sort_values(by='resale_price', ascending=False)"
   ]
  },
  {
   "cell_type": "code",
   "execution_count": 91,
   "id": "51e4b290-dec7-402b-ac15-3301cd350840",
   "metadata": {
    "tags": []
   },
   "outputs": [
    {
     "data": {
      "text/html": [
       "<div>\n",
       "<style scoped>\n",
       "    .dataframe tbody tr th:only-of-type {\n",
       "        vertical-align: middle;\n",
       "    }\n",
       "\n",
       "    .dataframe tbody tr th {\n",
       "        vertical-align: top;\n",
       "    }\n",
       "\n",
       "    .dataframe thead th {\n",
       "        text-align: right;\n",
       "    }\n",
       "</style>\n",
       "<table border=\"1\" class=\"dataframe\">\n",
       "  <thead>\n",
       "    <tr style=\"text-align: right;\">\n",
       "      <th></th>\n",
       "      <th>resale_price</th>\n",
       "    </tr>\n",
       "  </thead>\n",
       "  <tbody>\n",
       "    <tr>\n",
       "      <th>floor_area_sqm</th>\n",
       "      <td>0.656776</td>\n",
       "    </tr>\n",
       "    <tr>\n",
       "      <th>max_floor_lvl</th>\n",
       "      <td>0.495537</td>\n",
       "    </tr>\n",
       "    <tr>\n",
       "      <th>5room_sold</th>\n",
       "      <td>0.360818</td>\n",
       "    </tr>\n",
       "    <tr>\n",
       "      <th>ub_storey</th>\n",
       "      <td>0.352152</td>\n",
       "    </tr>\n",
       "    <tr>\n",
       "      <th>year_completed</th>\n",
       "      <td>0.351797</td>\n",
       "    </tr>\n",
       "  </tbody>\n",
       "</table>\n",
       "</div>"
      ],
      "text/plain": [
       "                resale_price\n",
       "floor_area_sqm      0.656776\n",
       "max_floor_lvl       0.495537\n",
       "5room_sold          0.360818\n",
       "ub_storey           0.352152\n",
       "year_completed      0.351797"
      ]
     },
     "execution_count": 91,
     "metadata": {},
     "output_type": "execute_result"
    }
   ],
   "source": [
    "#Columns with strong positive correlation to resale_price\n",
    "corr_df_sorted.head(6)[1:]"
   ]
  },
  {
   "cell_type": "markdown",
   "id": "e9a60b19-449b-457e-a6aa-a98c473ab41c",
   "metadata": {},
   "source": [
    "These columns display highest positive correlation among all columns which preliminary suggest possibly significant explanatory power on HDB prices."
   ]
  },
  {
   "cell_type": "code",
   "execution_count": 92,
   "id": "ae8e59fa-f6a6-424c-9298-86dec12f1ccd",
   "metadata": {
    "tags": []
   },
   "outputs": [
    {
     "data": {
      "text/html": [
       "<div>\n",
       "<style scoped>\n",
       "    .dataframe tbody tr th:only-of-type {\n",
       "        vertical-align: middle;\n",
       "    }\n",
       "\n",
       "    .dataframe tbody tr th {\n",
       "        vertical-align: top;\n",
       "    }\n",
       "\n",
       "    .dataframe thead th {\n",
       "        text-align: right;\n",
       "    }\n",
       "</style>\n",
       "<table border=\"1\" class=\"dataframe\">\n",
       "  <thead>\n",
       "    <tr style=\"text-align: right;\">\n",
       "      <th></th>\n",
       "      <th>resale_price</th>\n",
       "    </tr>\n",
       "  </thead>\n",
       "  <tbody>\n",
       "    <tr>\n",
       "      <th>3room_sold</th>\n",
       "      <td>-0.411948</td>\n",
       "    </tr>\n",
       "    <tr>\n",
       "      <th>hdb_age</th>\n",
       "      <td>-0.348430</td>\n",
       "    </tr>\n",
       "    <tr>\n",
       "      <th>Latitude</th>\n",
       "      <td>-0.215651</td>\n",
       "    </tr>\n",
       "    <tr>\n",
       "      <th>2room_sold</th>\n",
       "      <td>-0.146455</td>\n",
       "    </tr>\n",
       "    <tr>\n",
       "      <th>total_dwelling_units</th>\n",
       "      <td>-0.144782</td>\n",
       "    </tr>\n",
       "  </tbody>\n",
       "</table>\n",
       "</div>"
      ],
      "text/plain": [
       "                      resale_price\n",
       "3room_sold               -0.411948\n",
       "hdb_age                  -0.348430\n",
       "Latitude                 -0.215651\n",
       "2room_sold               -0.146455\n",
       "total_dwelling_units     -0.144782"
      ]
     },
     "execution_count": 92,
     "metadata": {},
     "output_type": "execute_result"
    }
   ],
   "source": [
    "#Columns with strong negative correlation to resale_price\n",
    "corr_df_sorted.tail(5).sort_values(by='resale_price')"
   ]
  },
  {
   "cell_type": "markdown",
   "id": "a9c4c2d4-6f5a-4910-9cd1-a2d3e7ddbefe",
   "metadata": {},
   "source": [
    "Likewise, these columns suggest explanatory power on HDB prices "
   ]
  },
  {
   "cell_type": "code",
   "execution_count": 93,
   "id": "5203c29b-57bc-4c32-b912-d2f0ec45ea1f",
   "metadata": {
    "tags": []
   },
   "outputs": [
    {
     "data": {
      "text/html": [
       "<div>\n",
       "<style scoped>\n",
       "    .dataframe tbody tr th:only-of-type {\n",
       "        vertical-align: middle;\n",
       "    }\n",
       "\n",
       "    .dataframe tbody tr th {\n",
       "        vertical-align: top;\n",
       "    }\n",
       "\n",
       "    .dataframe thead th {\n",
       "        text-align: right;\n",
       "    }\n",
       "</style>\n",
       "<table border=\"1\" class=\"dataframe\">\n",
       "  <thead>\n",
       "    <tr style=\"text-align: right;\">\n",
       "      <th></th>\n",
       "      <th>resale_price</th>\n",
       "    </tr>\n",
       "  </thead>\n",
       "  <tbody>\n",
       "    <tr>\n",
       "      <th>Mall_Within_1km</th>\n",
       "      <td>0.083842</td>\n",
       "    </tr>\n",
       "    <tr>\n",
       "      <th>studio_apartment_sold</th>\n",
       "      <td>0.041589</td>\n",
       "    </tr>\n",
       "    <tr>\n",
       "      <th>multigen_sold</th>\n",
       "      <td>0.037608</td>\n",
       "    </tr>\n",
       "    <tr>\n",
       "      <th>pri_sch_affiliation</th>\n",
       "      <td>0.031328</td>\n",
       "    </tr>\n",
       "    <tr>\n",
       "      <th>bus_stop_nearest_distance</th>\n",
       "      <td>0.030546</td>\n",
       "    </tr>\n",
       "    <tr>\n",
       "      <th>other_room_rental</th>\n",
       "      <td>0.013143</td>\n",
       "    </tr>\n",
       "    <tr>\n",
       "      <th>Hawker_Within_500m</th>\n",
       "      <td>0.013037</td>\n",
       "    </tr>\n",
       "    <tr>\n",
       "      <th>Tranc_Month</th>\n",
       "      <td>-0.005685</td>\n",
       "    </tr>\n",
       "  </tbody>\n",
       "</table>\n",
       "</div>"
      ],
      "text/plain": [
       "                           resale_price\n",
       "Mall_Within_1km                0.083842\n",
       "studio_apartment_sold          0.041589\n",
       "multigen_sold                  0.037608\n",
       "pri_sch_affiliation            0.031328\n",
       "bus_stop_nearest_distance      0.030546\n",
       "other_room_rental              0.013143\n",
       "Hawker_Within_500m             0.013037\n",
       "Tranc_Month                   -0.005685"
      ]
     },
     "execution_count": 93,
     "metadata": {},
     "output_type": "execute_result"
    }
   ],
   "source": [
    "#Columns with the relatively weaker correlation to resale_price\n",
    "lower_bound=round(len(corr_df_sorted)*0.4)\n",
    "upper_bound=round(len(corr_df_sorted)*0.6)\n",
    "\n",
    "corr_df_sorted.iloc[lower_bound:upper_bound]"
   ]
  },
  {
   "cell_type": "markdown",
   "id": "5db2a33c-df37-44dc-9eaf-d126bc59e746",
   "metadata": {},
   "source": [
    "These columns have the lowest correlation among the columns, suggesting that possibly it has poor explanatory power on HDB prices."
   ]
  },
  {
   "cell_type": "markdown",
   "id": "c282a64b-5a9c-437b-801b-cd2b186cc171",
   "metadata": {},
   "source": [
    "#### Correlation between other features"
   ]
  },
  {
   "cell_type": "code",
   "execution_count": 111,
   "id": "332221be-114e-4fec-9745-43e95cc761ea",
   "metadata": {
    "tags": []
   },
   "outputs": [
    {
     "data": {
      "image/png": "[encoded data removed]",
      "text/plain": [
       "<Figure size 1300x1300 with 2 Axes>"
      ]
     },
     "metadata": {},
     "output_type": "display_data"
    }
   ],
   "source": [
    "#Visualizing correlation between each features using heatmap\n",
    "mask = np.zeros_like(corr_df)\n",
    "mask[np.triu_indices_from(mask)] = True\n",
    "\n",
    "g=sns.heatmap(corr_df, mask=mask, cmap='coolwarm', vmin=-1, vmax=1)\n",
    "sns.set(rc={'figure.figsize':(13,13)})\n",
    "g.set_title('Correlation between features', fontdict={'fontsize': 16, 'fontweight': 'bold'});"
   ]
  },
  {
   "cell_type": "code",
   "execution_count": 95,
   "id": "e64c34cf-ae7c-41c2-a568-74b7f706779c",
   "metadata": {
    "tags": []
   },
   "outputs": [],
   "source": [
    "#Constructing a sorted dataframe based on the correlation \n",
    "corr_stack=corr_df.stack().reset_index()\n",
    "corr_stack.drop(corr_stack[corr_stack[0]==1].index,inplace=True)\n",
    "corr_stack.rename(columns={'level_0':'feature01', 'level_1':'feature02', 0:'corr_coef'}, inplace=True)\n",
    "corr_stack['abs_corr_coef']=np.abs(corr_stack['corr_coef'])"
   ]
  },
  {
   "cell_type": "code",
   "execution_count": 96,
   "id": "016b2ea6-d6ce-48a8-bd4f-6f4c8c3b2976",
   "metadata": {
    "tags": []
   },
   "outputs": [],
   "source": [
    "#Remove repeated rows due to mirrored correlation dataframe\n",
    "corr_stack.drop_duplicates(subset='corr_coef',inplace=True)"
   ]
  },
  {
   "cell_type": "code",
   "execution_count": 97,
   "id": "544bb67f-3fef-4a3e-a554-56e3de8d6839",
   "metadata": {
    "tags": []
   },
   "outputs": [
    {
     "data": {
      "text/html": [
       "<div>\n",
       "<style scoped>\n",
       "    .dataframe tbody tr th:only-of-type {\n",
       "        vertical-align: middle;\n",
       "    }\n",
       "\n",
       "    .dataframe tbody tr th {\n",
       "        vertical-align: top;\n",
       "    }\n",
       "\n",
       "    .dataframe thead th {\n",
       "        text-align: right;\n",
       "    }\n",
       "</style>\n",
       "<table border=\"1\" class=\"dataframe\">\n",
       "  <thead>\n",
       "    <tr style=\"text-align: right;\">\n",
       "      <th></th>\n",
       "      <th>feature01</th>\n",
       "      <th>feature02</th>\n",
       "      <th>corr_coef</th>\n",
       "      <th>abs_corr_coef</th>\n",
       "    </tr>\n",
       "  </thead>\n",
       "  <tbody>\n",
       "    <tr>\n",
       "      <th>50</th>\n",
       "      <td>lease_commence_year</td>\n",
       "      <td>hdb_age</td>\n",
       "      <td>-1.000000</td>\n",
       "      <td>1.000000</td>\n",
       "    </tr>\n",
       "    <tr>\n",
       "      <th>216</th>\n",
       "      <td>mid_storey</td>\n",
       "      <td>lb_storey</td>\n",
       "      <td>0.999414</td>\n",
       "      <td>0.999414</td>\n",
       "    </tr>\n",
       "    <tr>\n",
       "      <th>217</th>\n",
       "      <td>mid_storey</td>\n",
       "      <td>ub_storey</td>\n",
       "      <td>0.999412</td>\n",
       "      <td>0.999412</td>\n",
       "    </tr>\n",
       "    <tr>\n",
       "      <th>259</th>\n",
       "      <td>lb_storey</td>\n",
       "      <td>ub_storey</td>\n",
       "      <td>0.997654</td>\n",
       "      <td>0.997654</td>\n",
       "    </tr>\n",
       "    <tr>\n",
       "      <th>52</th>\n",
       "      <td>lease_commence_year</td>\n",
       "      <td>year_completed</td>\n",
       "      <td>0.988677</td>\n",
       "      <td>0.988677</td>\n",
       "    </tr>\n",
       "    <tr>\n",
       "      <th>346</th>\n",
       "      <td>hdb_age</td>\n",
       "      <td>year_completed</td>\n",
       "      <td>-0.988677</td>\n",
       "      <td>0.988677</td>\n",
       "    </tr>\n",
       "    <tr>\n",
       "      <th>1377</th>\n",
       "      <td>Hawker_Within_1km</td>\n",
       "      <td>Hawker_Within_2km</td>\n",
       "      <td>0.830123</td>\n",
       "      <td>0.830123</td>\n",
       "    </tr>\n",
       "    <tr>\n",
       "      <th>1334</th>\n",
       "      <td>Hawker_Within_500m</td>\n",
       "      <td>Hawker_Within_1km</td>\n",
       "      <td>0.756713</td>\n",
       "      <td>0.756713</td>\n",
       "    </tr>\n",
       "    <tr>\n",
       "      <th>476</th>\n",
       "      <td>total_dwelling_units</td>\n",
       "      <td>3room_sold</td>\n",
       "      <td>0.678721</td>\n",
       "      <td>0.678721</td>\n",
       "    </tr>\n",
       "    <tr>\n",
       "      <th>1041</th>\n",
       "      <td>Latitude</td>\n",
       "      <td>Hawker_Within_2km</td>\n",
       "      <td>-0.667440</td>\n",
       "      <td>0.667440</td>\n",
       "    </tr>\n",
       "    <tr>\n",
       "      <th>2</th>\n",
       "      <td>floor_area_sqm</td>\n",
       "      <td>resale_price</td>\n",
       "      <td>0.656776</td>\n",
       "      <td>0.656776</td>\n",
       "    </tr>\n",
       "    <tr>\n",
       "      <th>1335</th>\n",
       "      <td>Hawker_Within_500m</td>\n",
       "      <td>Hawker_Within_2km</td>\n",
       "      <td>0.639865</td>\n",
       "      <td>0.639865</td>\n",
       "    </tr>\n",
       "    <tr>\n",
       "      <th>1119</th>\n",
       "      <td>Mall_Nearest_Distance</td>\n",
       "      <td>Mall_Within_500m</td>\n",
       "      <td>-0.627894</td>\n",
       "      <td>0.627894</td>\n",
       "    </tr>\n",
       "    <tr>\n",
       "      <th>1292</th>\n",
       "      <td>Hawker_Nearest_Distance</td>\n",
       "      <td>Hawker_Within_1km</td>\n",
       "      <td>-0.605385</td>\n",
       "      <td>0.605385</td>\n",
       "    </tr>\n",
       "    <tr>\n",
       "      <th>1293</th>\n",
       "      <td>Hawker_Nearest_Distance</td>\n",
       "      <td>Hawker_Within_2km</td>\n",
       "      <td>-0.595827</td>\n",
       "      <td>0.595827</td>\n",
       "    </tr>\n",
       "    <tr>\n",
       "      <th>14</th>\n",
       "      <td>floor_area_sqm</td>\n",
       "      <td>3room_sold</td>\n",
       "      <td>-0.586315</td>\n",
       "      <td>0.586315</td>\n",
       "    </tr>\n",
       "    <tr>\n",
       "      <th>1120</th>\n",
       "      <td>Mall_Nearest_Distance</td>\n",
       "      <td>Mall_Within_1km</td>\n",
       "      <td>-0.582816</td>\n",
       "      <td>0.582816</td>\n",
       "    </tr>\n",
       "    <tr>\n",
       "      <th>1040</th>\n",
       "      <td>Latitude</td>\n",
       "      <td>Hawker_Within_1km</td>\n",
       "      <td>-0.567197</td>\n",
       "      <td>0.567197</td>\n",
       "    </tr>\n",
       "    <tr>\n",
       "      <th>261</th>\n",
       "      <td>lb_storey</td>\n",
       "      <td>max_floor_lvl</td>\n",
       "      <td>0.553970</td>\n",
       "      <td>0.553970</td>\n",
       "    </tr>\n",
       "    <tr>\n",
       "      <th>219</th>\n",
       "      <td>mid_storey</td>\n",
       "      <td>max_floor_lvl</td>\n",
       "      <td>0.553702</td>\n",
       "      <td>0.553702</td>\n",
       "    </tr>\n",
       "  </tbody>\n",
       "</table>\n",
       "</div>"
      ],
      "text/plain": [
       "                    feature01          feature02  corr_coef  abs_corr_coef\n",
       "50        lease_commence_year            hdb_age  -1.000000       1.000000\n",
       "216                mid_storey          lb_storey   0.999414       0.999414\n",
       "217                mid_storey          ub_storey   0.999412       0.999412\n",
       "259                 lb_storey          ub_storey   0.997654       0.997654\n",
       "52        lease_commence_year     year_completed   0.988677       0.988677\n",
       "346                   hdb_age     year_completed  -0.988677       0.988677\n",
       "1377        Hawker_Within_1km  Hawker_Within_2km   0.830123       0.830123\n",
       "1334       Hawker_Within_500m  Hawker_Within_1km   0.756713       0.756713\n",
       "476      total_dwelling_units         3room_sold   0.678721       0.678721\n",
       "1041                 Latitude  Hawker_Within_2km  -0.667440       0.667440\n",
       "2              floor_area_sqm       resale_price   0.656776       0.656776\n",
       "1335       Hawker_Within_500m  Hawker_Within_2km   0.639865       0.639865\n",
       "1119    Mall_Nearest_Distance   Mall_Within_500m  -0.627894       0.627894\n",
       "1292  Hawker_Nearest_Distance  Hawker_Within_1km  -0.605385       0.605385\n",
       "1293  Hawker_Nearest_Distance  Hawker_Within_2km  -0.595827       0.595827\n",
       "14             floor_area_sqm         3room_sold  -0.586315       0.586315\n",
       "1120    Mall_Nearest_Distance    Mall_Within_1km  -0.582816       0.582816\n",
       "1040                 Latitude  Hawker_Within_1km  -0.567197       0.567197\n",
       "261                 lb_storey      max_floor_lvl   0.553970       0.553970\n",
       "219                mid_storey      max_floor_lvl   0.553702       0.553702"
      ]
     },
     "execution_count": 97,
     "metadata": {},
     "output_type": "execute_result"
    }
   ],
   "source": [
    "corr_stack_sorted=corr_stack.sort_values(by=['abs_corr_coef'], ascending=False).head(20)\n",
    "corr_stack_sorted"
   ]
  },
  {
   "cell_type": "markdown",
   "id": "1261dab6-0277-4ec1-a7f6-6c1ee0b3c144",
   "metadata": {},
   "source": [
    "Conclusion: Based on the correlation, certain highlighted features posed limited explanatory power to HDB prices which will be considered to be drop. However, further hypothesis testing have to be conducted before doing so.\n",
    "\n",
    "Correlation heatmap display that most of the columns are not correlated with each other with the exception of a handful of it suggesting possible multicollinearity. These columns might be dropped for the improvement of models. Simiarly, further hypothesis testing have to be conducted before doing so."
   ]
  },
  {
   "cell_type": "code",
   "execution_count": 98,
   "id": "d0e5d87c-ea44-4d47-8410-5caba57b39bf",
   "metadata": {
    "tags": []
   },
   "outputs": [],
   "source": [
    "#Exporting HDB_df\n",
    "HDB_df.to_csv('HDB_df.csv', index=False)"
   ]
  },
  {
   "cell_type": "code",
   "execution_count": 99,
   "id": "ec331b28-2934-4a5f-8542-edd2b03ee0c2",
   "metadata": {
    "tags": []
   },
   "outputs": [],
   "source": [
    "#Exporting sorted correlation matrix\n",
    "corr_stack_sorted.to_csv('corr_stack_sorted.csv', index=False)"
   ]
  }
 ],
 "metadata": {
  "kernelspec": {
   "display_name": "Python 3 (ipykernel)",
   "language": "python",
   "name": "python3"
  },
  "language_info": {
   "codemirror_mode": {
    "name": "ipython",
    "version": 3
   },
   "file_extension": ".py",
   "mimetype": "text/x-python",
   "name": "python",
   "nbconvert_exporter": "python",
   "pygments_lexer": "ipython3",
   "version": "3.8.16"
  }
 },
 "nbformat": 4,
 "nbformat_minor": 5
}
